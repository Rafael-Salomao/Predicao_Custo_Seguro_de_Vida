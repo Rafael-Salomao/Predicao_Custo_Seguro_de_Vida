{
  "cells": [
    {
      "cell_type": "markdown",
      "metadata": {
        "id": "view-in-github",
        "colab_type": "text"
      },
      "source": [
        "<a href=\"https://colab.research.google.com/github/Rafael-Salomao/Predicao_Custo_Seguro_de_Vida/blob/main/Predi%C3%A7%C3%A3o_Custo_Seguro_de_Vida.ipynb\" target=\"_parent\"><img src=\"https://colab.research.google.com/assets/colab-badge.svg\" alt=\"Open In Colab\"/></a>"
      ]
    },
    {
      "cell_type": "markdown",
      "metadata": {
        "id": "3WjyIJAxu7k4"
      },
      "source": [
        "# Predição Custo Seguro de Vida"
      ]
    },
        "\n",
        "<p align=center>\n",
        "<img src=\"https://img.freepik.com/free-photo/magnifier-with-fraud-message_23-2148543167.jpg?w=740&t=st=1658188855~exp=1658189455~hmac=549682bfb5a290a48961ccae7d13ef401ce3f3d5a84c1334ca6522c05ce01960\" width=\"60%\"></p>\n",
        "\n"
      ]
    },
    {
      "cell_type": "markdown",
      "source": [
        "## 1.0 Entendimento do Problema\n",
        "\n",
        "O objetivo desta etapa é entender o contexto, as premissas, objetivos e requisitos a serem considerados no desenvolvimento do projeto."
      ],
      "metadata": {
        "id": "Wi2TEd6uieja"
      }
    },
    {
      "cell_type": "markdown",
      "metadata": {
        "id": "M96KJE4XWAC3"
      },
      "source": [
        "### 1.1 Introdução\n",
        "\n",
        "A saúde pública é um setor relevante para a sociedade como um todo, sendo uma esfera de grande preocupação para governantes ao redor do mundo. Vidas humanas e saúde pública podem ser ameaçadas por calamidades naturais, epidemias e pandemias globais, crises globais, dentre outros fatores, que aumentam a vulnerabilidade da saúde humana. \n",
        "\n",
        "As pessoas podem se deparar com circunstâncias inevitáveis e imprevistos, como acidentes e doenças crônicas, em qualquer ponto de suas vidas. Com a possibilidade de eventualidades ocorreram quando menos se esperam, é de comum acordo a instabilidade da vida. Contudo, apesar de não ser possível erradicar de uma vez por todas, tais risco, é possível amenizar seus impactos negativos. \n",
        "\n",
        "Para conter os impactos dessas casualidades, países e empresas atuam continuamente para mitigá-los. De acordo com o Instituto de Estudos para Políticas de Saúde (IEPS), nos últimos dez anos, o gasto total com saúde no Brasil vem aumentando, alcançando 9,5% do PIB em 2018. Sendo que, 3,96% deste foram gastos totais do governo e o restante equivale a gastos privados das famílias brasileiras. [1]. Assim como, nas últimas duas décadas, a assistência universal à saúde quase dobrou, ultrapassando US$ 8,5 trilhões em 2019, ou 9,8% do PIB global. [2]\n",
        "\n",
        "A partir do aumento de investimentos e recursos, incorporados a procedimentos hospitalares, tais operações não são acessíveis pela maior parte da população. Assim, o seguro de saúde se tornou uma forma de investimentos para as pessoas, devido ao custo crescente nos cuidados de saúde de qualidade, combinados com maior expectativa de vida da população. Os seguros de saúde foram criados como forma de reembolsar e compensar os custos financeiros de incidentes passíveis de acontecer na vida das pessoas.\n",
        "\n",
        "Por conta dos avanços nos investimentos em saúde, o mercado de seguradoras está, constantemente, explorando maneiras para impulsionar suas operações e serviços. \n",
        "\n",
        "Um grande desafio em negócios de seguro de vida, é definir o preço justo de seus serviços. Isso ocorre, pois envolve questões de concorrência, que não está sob controle das empresas ou de sua própria sobrevivência. Na área de seguros esse desafio é ainda maior, pois o custo efetivo do produto somente é conhecido a posteriori, em função de fatores aleatórios, como o sinistro e a rentabilidade financeira. Por conta disso, o preço do seguro reflete uma perspectiva de custos futuros, com base em probabilidades e descontos financeiros, mais um carregamento de segurança.\n",
        "\n",
        "Desta forma, trabalhar com o preço abaixo da expectativa de custos leva a operadora à insolvência, se não houver capital de risco suficiente para bancar essa operação.  Por outro lado, se a operadora trabalhar com um preço muito alto, ela também pode quebrar, não somente por diminuir a sua carteira de clientes. Portanto, cobrar um preço  abaixo do custo ou acima do custo pode quebrar uma operadora, o que torna o desafio do preço justo ainda maior, pois somente um preço muito bem calibrado pode evitar o pior, que é a insolvência."
      ]
    },
    {
      "cell_type": "markdown",
      "source": [
        "### 1.2 Escopo do problema de negócio\n",
        "\n",
        "Uma empresa de seguro de saúde está enfrentando um momento de grande crescimento na quantidade de clientes. \n",
        "\n",
        "O que era para ser um momento prospero, está sendo um momento de stress em todo o negócio. A questão é que, a companhia não conta com processos definidos para precificação dos serviços para os inúmeros perfis de novos clientes. A ineficiencia e falta de padrão nos métodos, gera retrabalho e perda de tempo entre os funcionários responsáveis pelo cálculo das taxas a serem cobradas para cada novo cliente. \n",
        "\n",
        "O que reflete diretamente na receita e fluxo de caixa organização. A empresa enfrenta um problema de inconsistência em seu processo que inviabiliza a escalabilidade do produto e, consequentemente, da entidade como um todo.\n",
        "\n",
        "No momento da contratação de um seguro de saúde, o valor do serviço é diferente para cada cliente, a depender do perfil da pessoa. Idade, peso, se é fumante, histórico de doenças, entre outros, são  fatores de influenciam na taxa que será cobrada. O desafio desta empresa de seguros é esta diverfência de valores a serem ofertados para cada um desses novos clientes que desejam o produto da companhia.\n",
        "\n",
        "Por conta disso, a empresa deseja contratar uma consultoria para tornar este processo de precificação mais ágil, eficiente e preciso."
      ],
      "metadata": {
        "id": "6xELkVzAi3BX"
      }
    },
    {
      "cell_type": "markdown",
      "source": [
        "### 1.3 Como a solução vai ser usada?\n",
        "\n",
        "Para a resolução do problema desta empresa, será implementado um Sistema de Predição para Precificação de Seguro Saúde. \n",
        "\n",
        "Este Sistema de Predição será elaborado a partir de um modelo de regressão, utilizando algoritmos de Machine Learning. O modelo será responsável por estimar e prever valores de seguro baseado em dados passados, do histórico de clientes que já passaram pela empresa.\n",
        "\n",
        "O método de predição será avaliado de acordo com métricas estatisticas de modo que a acurácia das previsões sejam minimizadas e atendam as necessidades do negócio. Para que, com isso, seja criado o Sistema de Predição, em que a partir das informações de entrada, dos novos clientes, o modelo irá retornar a predição dos valores, instantaneamente, melhorando a eficiência e otimizando o processo de precificação. "
      ],
      "metadata": {
        "id": "l3zIsBwei0Qf"
      }
    },
    {
      "cell_type": "markdown",
      "source": [
        "### 1.4 Quais são as soluções já existentes?\n",
        "\n",
        "Existem diversos métodos de precificação, aplicados em função das informações disponíveis e das circunstâncias às quais a precificação será aplicada.\n",
        "\n",
        "O método mais simples e, também, o mais frágil, é o método subjetivo, quando não existem informações disponíveis, cabendo ao underwriter definir o preço do seguro em função da sua experiência em riscos similares. \n",
        "\n",
        "O segundo método utilizado é o da sinistralidade, em que o preço de um seguro em vigor é revisto em função desta. Se a sinistralidade superar um nível aceitável, os preços são corrigidos para trazê-la ao nível aceitável.\n",
        "\n",
        "O terceiro é o método das tábuas de mortalidade, utilizado nos seguros de vida e previdência. Nele, as probabilidades de morte são obtidas pelas tábuas de mortalidade desenvolvidas por órgãos de classe atuarial, ou mesmo por órgãos reguladores.\n",
        "\n",
        "O ramo de seguro de saúde brasileiro chega a ser um dos setores de precificação mais complexos do mundo. No Brasil, as informações que são levadas em consideração, no geral, é: idade, região, tipo de rede assistencial, existência de fator moderador, franquia e tipo de plano. Há mais segmentos de risco que podem ser considerados, como sexo, índice de massa corporal e outros, que poderiam ser obtidos a partir de modelos preditivos, com técnicas de Big Data. Nisso aparece um desafio tecnológico: a maioria das operadoras ainda não possui bancos de dados estruturado para a utilização de Big Data, nem equipe técnica capacitada para tal [3]."
      ],
      "metadata": {
        "id": "Ux_dJOlYiwzV"
      }
    },
    {
      "cell_type": "markdown",
      "source": [
        "### 1.5 Premissas do projeto\n",
        "\n",
        "O projeto é realizado a partir de uma abordagem de aprendizado supervisionado, a partir desta perspectiva serão testados modelos de `Regressão Linear` e `Regressão Polinomial`, a fim de encontrar a melhor solução ao problema. \n",
        "\n",
        "No site Kaggle [4] foi obtido o conjunto de dados, que será referente as informações necessárias para resolver o problema de negócio em questão. O Dataset será explorado e tratado para se adequar da melhor maneira no desenvolvimento do Sistema de Predição para Precificação de Seguro Saúde.\n",
        "\n",
        "Após estruturar o modelo de regessão, serão consideradas as métricas abaixo para avaliar o desempenho do algoritmo:\n",
        "\n",
        "- R2_Score\n",
        "- Root Mean Square Error (RMSE) \n",
        "- Mean absolute error (MAE)"
      ],
      "metadata": {
        "id": "R0IA7ALNitH5"
      }
    },
    {
      "cell_type": "markdown",
      "source": [
        "### 1.6 Plano de desenvolvimento do projeto\n",
        "\n",
        "Após a introdução ao problema de negócio apresentado acima, as próximas etapas para a elaboração da solução são as seguintes: \n",
        "\n",
        "- Entendimento dos Dados;\n",
        "- Preparação dos Dados;\n",
        "- Construção do Modelo de Machine Learning;\n",
        "- Avaliação dos Resultados;\n",
        "- Implementação do Sistema de Predição."
      ],
      "metadata": {
        "id": "35xUqmutipf9"
      }
    },
    {
      "cell_type": "markdown",
      "metadata": {
        "id": "-8huGysTV-DN"
      },
      "source": [
        "## 2.0.0 Entendimento dos dados\n",
        "\n",
        "O objetivo desta etapa é identificar, coletar e analizar os dados que irão auxiliar na resolução do problema de negócio."
      ]
    },
    {
      "cell_type": "markdown",
      "source": [
        "### 2.1.0 Importar bibliotecas"
      ],
      "metadata": {
        "id": "UGKfyEJyiCN8"
      }
    },
    {
      "cell_type": "code",
      "source": [
        "#@title\n",
        "# suprimir os warnings\n",
        "from warnings import simplefilter\n",
        "simplefilter(action='ignore', category=FutureWarning)\n",
        "\n",
        "# instalar a biblioteca scikit-plot\n",
        "!pip install -q scikit-plot"
      ],
      "metadata": {
        "cellView": "form",
        "id": "8musYHGqTP96"
      },
      "execution_count": null,
      "outputs": []
    },
    {
      "cell_type": "code",
      "execution_count": null,
      "metadata": {
        "id": "doL7ASmSujjy"
      },
      "outputs": [],
      "source": [
        "# Importar bibliotecas\n",
        "import pandas            as pd\n",
        "import numpy             as np\n",
        "import matplotlib.pyplot as plt\n",
        "import seaborn           as sns\n",
        "\n",
        "from sklearn.preprocessing   import LabelEncoder, StandardScaler, PolynomialFeatures\n",
        "from sklearn.model_selection import train_test_split\n",
        "from sklearn                 import linear_model\n",
        "from sklearn.linear_model    import LinearRegression, Ridge\n",
        "from sklearn.tree            import DecisionTreeRegressor\n",
        "from sklearn.metrics         import mean_squared_error, mean_absolute_error, r2_score"
      ]
    },
    {
      "cell_type": "markdown",
      "source": [
        "### 2.2.0 Coleta dos dados\n",
        "\n",
        "O dataset empregado contém sete atributos e 1338 linhas. \n",
        "\n",
        "O conjunto de dados é então dividido em duas parter. A primeira, é referente aos dados de treino, enquanto a segunda é referente aos dados de teste. Quanto mais dados forem fornecidos ao modelo durante seu período de treinamento, maior será a precisão do modelo ao fazer previsões sobre dados não vistos. Os dois grupos de dados foram divididos em uma proporção de 85:15, para treino e teste. \n",
        "\n",
        "Os dados de treino serão usados para construir diferentes modelos de predição, com o intuito de selecionar o modelo de melhor performance. Já o conjunto de teste, é empregado para avaliar o modelo escolhido, de modo que o resultado final não carregue vies dos outros algoritmos treinados anteriormente."
      ],
      "metadata": {
        "id": "BjIabzDViPdp"
      }
    },
    {
      "cell_type": "code",
      "execution_count": null,
      "metadata": {
        "colab": {
          "base_uri": "https://localhost:8080/"
        },
        "id": "QGxxaSw6u1sQ",
        "outputId": "7e3c61a8-7a6c-4911-d334-4c73a78d91bb"
      },
      "outputs": [
        {
          "output_type": "stream",
          "name": "stdout",
          "text": [
            "Dimensões dataset original:(1338, 7)\n",
            "Dimensões dataset teste:(201, 7)\n",
            "Dimensões dataset treino:(1137, 7)\n"
          ]
        }
      ],
      "source": [
        "# Importar dataset\n",
        "data_path = 'https://raw.githubusercontent.com/Rafael-Salomao/Predicao_custo_seguro_de_vida/main/insurance.csv'\n",
        "\n",
        "# Ver dimensões do dataset\n",
        "df = pd.read_csv( data_path )\n",
        "print( 'Dimensões dataset original:{}'.format( df.shape ) )\n",
        "\n",
        "# Separar dataset de teste\n",
        "test = df.sample( frac=0.15, random_state=0 )\n",
        "print( 'Dimensões dataset teste:{}'.format( test.shape ) )\n",
        "\n",
        "# Definir dataset de treino\n",
        "df = df.drop( test.index )\n",
        "print( 'Dimensões dataset treino:{}'.format( df.shape ) )"
      ]
    },
    {
      "cell_type": "code",
      "execution_count": null,
      "metadata": {
        "colab": {
          "base_uri": "https://localhost:8080/",
          "height": 206
        },
        "id": "zeCBAo2-vhQA",
        "outputId": "71ddee36-69e8-4cb5-ea5f-c8c68b629081"
      },
      "outputs": [
        {
          "output_type": "execute_result",
          "data": {
            "text/plain": [
              "   age     sex     bmi  children smoker     region      charges\n",
              "0   19  female  27.900         0    yes  southwest  16884.92400\n",
              "2   28    male  33.000         3     no  southeast   4449.46200\n",
              "3   33    male  22.705         0     no  northwest  21984.47061\n",
              "4   32    male  28.880         0     no  northwest   3866.85520\n",
              "6   46  female  33.440         1     no  southeast   8240.58960"
            ],
            "text/html": [
              "\n",
              "  <div id=\"df-aaced0b8-d7bf-4fcf-a3af-481ac9ec92e0\">\n",
              "    <div class=\"colab-df-container\">\n",
              "      <div>\n",
              "<style scoped>\n",
              "    .dataframe tbody tr th:only-of-type {\n",
              "        vertical-align: middle;\n",
              "    }\n",
              "\n",
              "    .dataframe tbody tr th {\n",
              "        vertical-align: top;\n",
              "    }\n",
              "\n",
              "    .dataframe thead th {\n",
              "        text-align: right;\n",
              "    }\n",
              "</style>\n",
              "<table border=\"1\" class=\"dataframe\">\n",
              "  <thead>\n",
              "    <tr style=\"text-align: right;\">\n",
              "      <th></th>\n",
              "      <th>age</th>\n",
              "      <th>sex</th>\n",
              "      <th>bmi</th>\n",
              "      <th>children</th>\n",
              "      <th>smoker</th>\n",
              "      <th>region</th>\n",
              "      <th>charges</th>\n",
              "    </tr>\n",
              "  </thead>\n",
              "  <tbody>\n",
              "    <tr>\n",
              "      <th>0</th>\n",
              "      <td>19</td>\n",
              "      <td>female</td>\n",
              "      <td>27.900</td>\n",
              "      <td>0</td>\n",
              "      <td>yes</td>\n",
              "      <td>southwest</td>\n",
              "      <td>16884.92400</td>\n",
              "    </tr>\n",
              "    <tr>\n",
              "      <th>2</th>\n",
              "      <td>28</td>\n",
              "      <td>male</td>\n",
              "      <td>33.000</td>\n",
              "      <td>3</td>\n",
              "      <td>no</td>\n",
              "      <td>southeast</td>\n",
              "      <td>4449.46200</td>\n",
              "    </tr>\n",
              "    <tr>\n",
              "      <th>3</th>\n",
              "      <td>33</td>\n",
              "      <td>male</td>\n",
              "      <td>22.705</td>\n",
              "      <td>0</td>\n",
              "      <td>no</td>\n",
              "      <td>northwest</td>\n",
              "      <td>21984.47061</td>\n",
              "    </tr>\n",
              "    <tr>\n",
              "      <th>4</th>\n",
              "      <td>32</td>\n",
              "      <td>male</td>\n",
              "      <td>28.880</td>\n",
              "      <td>0</td>\n",
              "      <td>no</td>\n",
              "      <td>northwest</td>\n",
              "      <td>3866.85520</td>\n",
              "    </tr>\n",
              "    <tr>\n",
              "      <th>6</th>\n",
              "      <td>46</td>\n",
              "      <td>female</td>\n",
              "      <td>33.440</td>\n",
              "      <td>1</td>\n",
              "      <td>no</td>\n",
              "      <td>southeast</td>\n",
              "      <td>8240.58960</td>\n",
              "    </tr>\n",
              "  </tbody>\n",
              "</table>\n",
              "</div>\n",
              "      <button class=\"colab-df-convert\" onclick=\"convertToInteractive('df-aaced0b8-d7bf-4fcf-a3af-481ac9ec92e0')\"\n",
              "              title=\"Convert this dataframe to an interactive table.\"\n",
              "              style=\"display:none;\">\n",
              "        \n",
              "  <svg xmlns=\"http://www.w3.org/2000/svg\" height=\"24px\"viewBox=\"0 0 24 24\"\n",
              "       width=\"24px\">\n",
              "    <path d=\"M0 0h24v24H0V0z\" fill=\"none\"/>\n",
              "    <path d=\"M18.56 5.44l.94 2.06.94-2.06 2.06-.94-2.06-.94-.94-2.06-.94 2.06-2.06.94zm-11 1L8.5 8.5l.94-2.06 2.06-.94-2.06-.94L8.5 2.5l-.94 2.06-2.06.94zm10 10l.94 2.06.94-2.06 2.06-.94-2.06-.94-.94-2.06-.94 2.06-2.06.94z\"/><path d=\"M17.41 7.96l-1.37-1.37c-.4-.4-.92-.59-1.43-.59-.52 0-1.04.2-1.43.59L10.3 9.45l-7.72 7.72c-.78.78-.78 2.05 0 2.83L4 21.41c.39.39.9.59 1.41.59.51 0 1.02-.2 1.41-.59l7.78-7.78 2.81-2.81c.8-.78.8-2.07 0-2.86zM5.41 20L4 18.59l7.72-7.72 1.47 1.35L5.41 20z\"/>\n",
              "  </svg>\n",
              "      </button>\n",
              "      \n",
              "  <style>\n",
              "    .colab-df-container {\n",
              "      display:flex;\n",
              "      flex-wrap:wrap;\n",
              "      gap: 12px;\n",
              "    }\n",
              "\n",
              "    .colab-df-convert {\n",
              "      background-color: #E8F0FE;\n",
              "      border: none;\n",
              "      border-radius: 50%;\n",
              "      cursor: pointer;\n",
              "      display: none;\n",
              "      fill: #1967D2;\n",
              "      height: 32px;\n",
              "      padding: 0 0 0 0;\n",
              "      width: 32px;\n",
              "    }\n",
              "\n",
              "    .colab-df-convert:hover {\n",
              "      background-color: #E2EBFA;\n",
              "      box-shadow: 0px 1px 2px rgba(60, 64, 67, 0.3), 0px 1px 3px 1px rgba(60, 64, 67, 0.15);\n",
              "      fill: #174EA6;\n",
              "    }\n",
              "\n",
              "    [theme=dark] .colab-df-convert {\n",
              "      background-color: #3B4455;\n",
              "      fill: #D2E3FC;\n",
              "    }\n",
              "\n",
              "    [theme=dark] .colab-df-convert:hover {\n",
              "      background-color: #434B5C;\n",
              "      box-shadow: 0px 1px 3px 1px rgba(0, 0, 0, 0.15);\n",
              "      filter: drop-shadow(0px 1px 2px rgba(0, 0, 0, 0.3));\n",
              "      fill: #FFFFFF;\n",
              "    }\n",
              "  </style>\n",
              "\n",
              "      <script>\n",
              "        const buttonEl =\n",
              "          document.querySelector('#df-aaced0b8-d7bf-4fcf-a3af-481ac9ec92e0 button.colab-df-convert');\n",
              "        buttonEl.style.display =\n",
              "          google.colab.kernel.accessAllowed ? 'block' : 'none';\n",
              "\n",
              "        async function convertToInteractive(key) {\n",
              "          const element = document.querySelector('#df-aaced0b8-d7bf-4fcf-a3af-481ac9ec92e0');\n",
              "          const dataTable =\n",
              "            await google.colab.kernel.invokeFunction('convertToInteractive',\n",
              "                                                     [key], {});\n",
              "          if (!dataTable) return;\n",
              "\n",
              "          const docLinkHtml = 'Like what you see? Visit the ' +\n",
              "            '<a target=\"_blank\" href=https://colab.research.google.com/notebooks/data_table.ipynb>data table notebook</a>'\n",
              "            + ' to learn more about interactive tables.';\n",
              "          element.innerHTML = '';\n",
              "          dataTable['output_type'] = 'display_data';\n",
              "          await google.colab.output.renderOutput(dataTable, element);\n",
              "          const docLink = document.createElement('div');\n",
              "          docLink.innerHTML = docLinkHtml;\n",
              "          element.appendChild(docLink);\n",
              "        }\n",
              "      </script>\n",
              "    </div>\n",
              "  </div>\n",
              "  "
            ]
          },
          "metadata": {},
          "execution_count": 4
        }
      ],
      "source": [
        "# ver cinco primeiras linhas do dataset\n",
        "df.head()"
      ]
    },
    {
      "cell_type": "code",
      "execution_count": null,
      "metadata": {
        "colab": {
          "base_uri": "https://localhost:8080/",
          "height": 206
        },
        "id": "pGDcXfbrvcLD",
        "outputId": "d58c3ceb-eced-430f-8a92-375fea31ce36"
      },
      "outputs": [
        {
          "output_type": "execute_result",
          "data": {
            "text/plain": [
              "      age     sex    bmi  children smoker     region     charges\n",
              "1333   50    male  30.97         3     no  northwest  10600.5483\n",
              "1334   18  female  31.92         0     no  northeast   2205.9808\n",
              "1335   18  female  36.85         0     no  southeast   1629.8335\n",
              "1336   21  female  25.80         0     no  southwest   2007.9450\n",
              "1337   61  female  29.07         0    yes  northwest  29141.3603"
            ],
            "text/html": [
              "\n",
              "  <div id=\"df-91a79f92-7e61-4312-bb03-3548f15ace3e\">\n",
              "    <div class=\"colab-df-container\">\n",
              "      <div>\n",
              "<style scoped>\n",
              "    .dataframe tbody tr th:only-of-type {\n",
              "        vertical-align: middle;\n",
              "    }\n",
              "\n",
              "    .dataframe tbody tr th {\n",
              "        vertical-align: top;\n",
              "    }\n",
              "\n",
              "    .dataframe thead th {\n",
              "        text-align: right;\n",
              "    }\n",
              "</style>\n",
              "<table border=\"1\" class=\"dataframe\">\n",
              "  <thead>\n",
              "    <tr style=\"text-align: right;\">\n",
              "      <th></th>\n",
              "      <th>age</th>\n",
              "      <th>sex</th>\n",
              "      <th>bmi</th>\n",
              "      <th>children</th>\n",
              "      <th>smoker</th>\n",
              "      <th>region</th>\n",
              "      <th>charges</th>\n",
              "    </tr>\n",
              "  </thead>\n",
              "  <tbody>\n",
              "    <tr>\n",
              "      <th>1333</th>\n",
              "      <td>50</td>\n",
              "      <td>male</td>\n",
              "      <td>30.97</td>\n",
              "      <td>3</td>\n",
              "      <td>no</td>\n",
              "      <td>northwest</td>\n",
              "      <td>10600.5483</td>\n",
              "    </tr>\n",
              "    <tr>\n",
              "      <th>1334</th>\n",
              "      <td>18</td>\n",
              "      <td>female</td>\n",
              "      <td>31.92</td>\n",
              "      <td>0</td>\n",
              "      <td>no</td>\n",
              "      <td>northeast</td>\n",
              "      <td>2205.9808</td>\n",
              "    </tr>\n",
              "    <tr>\n",
              "      <th>1335</th>\n",
              "      <td>18</td>\n",
              "      <td>female</td>\n",
              "      <td>36.85</td>\n",
              "      <td>0</td>\n",
              "      <td>no</td>\n",
              "      <td>southeast</td>\n",
              "      <td>1629.8335</td>\n",
              "    </tr>\n",
              "    <tr>\n",
              "      <th>1336</th>\n",
              "      <td>21</td>\n",
              "      <td>female</td>\n",
              "      <td>25.80</td>\n",
              "      <td>0</td>\n",
              "      <td>no</td>\n",
              "      <td>southwest</td>\n",
              "      <td>2007.9450</td>\n",
              "    </tr>\n",
              "    <tr>\n",
              "      <th>1337</th>\n",
              "      <td>61</td>\n",
              "      <td>female</td>\n",
              "      <td>29.07</td>\n",
              "      <td>0</td>\n",
              "      <td>yes</td>\n",
              "      <td>northwest</td>\n",
              "      <td>29141.3603</td>\n",
              "    </tr>\n",
              "  </tbody>\n",
              "</table>\n",
              "</div>\n",
              "      <button class=\"colab-df-convert\" onclick=\"convertToInteractive('df-91a79f92-7e61-4312-bb03-3548f15ace3e')\"\n",
              "              title=\"Convert this dataframe to an interactive table.\"\n",
              "              style=\"display:none;\">\n",
              "        \n",
              "  <svg xmlns=\"http://www.w3.org/2000/svg\" height=\"24px\"viewBox=\"0 0 24 24\"\n",
              "       width=\"24px\">\n",
              "    <path d=\"M0 0h24v24H0V0z\" fill=\"none\"/>\n",
              "    <path d=\"M18.56 5.44l.94 2.06.94-2.06 2.06-.94-2.06-.94-.94-2.06-.94 2.06-2.06.94zm-11 1L8.5 8.5l.94-2.06 2.06-.94-2.06-.94L8.5 2.5l-.94 2.06-2.06.94zm10 10l.94 2.06.94-2.06 2.06-.94-2.06-.94-.94-2.06-.94 2.06-2.06.94z\"/><path d=\"M17.41 7.96l-1.37-1.37c-.4-.4-.92-.59-1.43-.59-.52 0-1.04.2-1.43.59L10.3 9.45l-7.72 7.72c-.78.78-.78 2.05 0 2.83L4 21.41c.39.39.9.59 1.41.59.51 0 1.02-.2 1.41-.59l7.78-7.78 2.81-2.81c.8-.78.8-2.07 0-2.86zM5.41 20L4 18.59l7.72-7.72 1.47 1.35L5.41 20z\"/>\n",
              "  </svg>\n",
              "      </button>\n",
              "      \n",
              "  <style>\n",
              "    .colab-df-container {\n",
              "      display:flex;\n",
              "      flex-wrap:wrap;\n",
              "      gap: 12px;\n",
              "    }\n",
              "\n",
              "    .colab-df-convert {\n",
              "      background-color: #E8F0FE;\n",
              "      border: none;\n",
              "      border-radius: 50%;\n",
              "      cursor: pointer;\n",
              "      display: none;\n",
              "      fill: #1967D2;\n",
              "      height: 32px;\n",
              "      padding: 0 0 0 0;\n",
              "      width: 32px;\n",
              "    }\n",
              "\n",
              "    .colab-df-convert:hover {\n",
              "      background-color: #E2EBFA;\n",
              "      box-shadow: 0px 1px 2px rgba(60, 64, 67, 0.3), 0px 1px 3px 1px rgba(60, 64, 67, 0.15);\n",
              "      fill: #174EA6;\n",
              "    }\n",
              "\n",
              "    [theme=dark] .colab-df-convert {\n",
              "      background-color: #3B4455;\n",
              "      fill: #D2E3FC;\n",
              "    }\n",
              "\n",
              "    [theme=dark] .colab-df-convert:hover {\n",
              "      background-color: #434B5C;\n",
              "      box-shadow: 0px 1px 3px 1px rgba(0, 0, 0, 0.15);\n",
              "      filter: drop-shadow(0px 1px 2px rgba(0, 0, 0, 0.3));\n",
              "      fill: #FFFFFF;\n",
              "    }\n",
              "  </style>\n",
              "\n",
              "      <script>\n",
              "        const buttonEl =\n",
              "          document.querySelector('#df-91a79f92-7e61-4312-bb03-3548f15ace3e button.colab-df-convert');\n",
              "        buttonEl.style.display =\n",
              "          google.colab.kernel.accessAllowed ? 'block' : 'none';\n",
              "\n",
              "        async function convertToInteractive(key) {\n",
              "          const element = document.querySelector('#df-91a79f92-7e61-4312-bb03-3548f15ace3e');\n",
              "          const dataTable =\n",
              "            await google.colab.kernel.invokeFunction('convertToInteractive',\n",
              "                                                     [key], {});\n",
              "          if (!dataTable) return;\n",
              "\n",
              "          const docLinkHtml = 'Like what you see? Visit the ' +\n",
              "            '<a target=\"_blank\" href=https://colab.research.google.com/notebooks/data_table.ipynb>data table notebook</a>'\n",
              "            + ' to learn more about interactive tables.';\n",
              "          element.innerHTML = '';\n",
              "          dataTable['output_type'] = 'display_data';\n",
              "          await google.colab.output.renderOutput(dataTable, element);\n",
              "          const docLink = document.createElement('div');\n",
              "          docLink.innerHTML = docLinkHtml;\n",
              "          element.appendChild(docLink);\n",
              "        }\n",
              "      </script>\n",
              "    </div>\n",
              "  </div>\n",
              "  "
            ]
          },
          "metadata": {},
          "execution_count": 5
        }
      ],
      "source": [
        "# ver cinco últimas linhas do dataset\n",
        "df.tail()"
      ]
    },
    {
      "cell_type": "markdown",
      "source": [
        "A base de dados conta com as seguintes variáveis:\n",
        "\n",
        "- `Age` – Idade do cliente;\n",
        "- `BMI` – Índice de massa corporea do cliente;\n",
        "- `Number of kids` – Número de filhos de cliente;\n",
        "- `Gender` – Male/ Female;\n",
        "- `Smoker` – Se o cliente é fumante ou não;\n",
        "- `Region` – Onde o cliente more: Southwest, southeast, northeast, Northwest.\n",
        "- `Charges` – Taxa do serviço de seguro que o cliente deve pagar.\n",
        "\n",
        "Sendo que a variável alvo é a `Charges`. Ou seja, o objetivo é prever o valor do atributo `Charges`, considerando as informações presentes nas outras variáveis."
      ],
      "metadata": {
        "id": "XS1Z24_rSQhH"
      }
    },
    {
      "cell_type": "markdown",
      "source": [
        "### 2.3.0 Verificar qualidade dos dados\n",
        "\n",
        "Este item tem como finalidade entender:\n",
        "- Tipos das variáveis: dos sete atributos, três deles contêm valores categóricos e o restante contém valores numéricos.\n",
        "- Presença de valores nulos: não foram encontrados valores ausentes ou nulos no dataset.\n",
        "- Quantidade de entrada diferente em cada variável: os atributos `age`, `bmi` e `charges`, que são variáveis numéricas, contam com uma vasta quantidade de valores únicos."
      ],
      "metadata": {
        "id": "LZSakcLDiWGJ"
      }
    },
    {
      "cell_type": "code",
      "execution_count": null,
      "metadata": {
        "colab": {
          "base_uri": "https://localhost:8080/"
        },
        "id": "oXKTaICuwWqT",
        "outputId": "d07311a6-0de4-48f5-a51e-c56cd87fb99a"
      },
      "outputs": [
        {
          "output_type": "stream",
          "name": "stdout",
          "text": [
            "age           int64\n",
            "sex          object\n",
            "bmi         float64\n",
            "children      int64\n",
            "smoker       object\n",
            "region       object\n",
            "charges     float64\n",
            "dtype: object\n",
            "\n",
            "\n",
            "age         0\n",
            "sex         0\n",
            "bmi         0\n",
            "children    0\n",
            "smoker      0\n",
            "region      0\n",
            "charges     0\n",
            "dtype: int64\n",
            "\n",
            "\n",
            "Index(['age', 'sex', 'bmi', 'children', 'smoker', 'region', 'charges'], dtype='object')\n",
            "\n",
            "\n",
            "age           47\n",
            "sex            2\n",
            "bmi          512\n",
            "children       6\n",
            "smoker         2\n",
            "region         4\n",
            "charges     1136\n",
            "dtype: int64\n"
          ]
        }
      ],
      "source": [
        "# Checar tipos das variáveis.\n",
        "print( df.dtypes )\n",
        "print( '\\n' )\n",
        "\n",
        "# Checar se tem valores nulos\n",
        "print( df.isnull( ).sum( ) )\n",
        "print( '\\n' )\n",
        "\n",
        "# Checar nome das variáveis\n",
        "print( df.columns )\n",
        "print( '\\n' )\n",
        "\n",
        "# Checar quantidade de entradas em cada variável\n",
        "print( df.nunique( ) )"
      ]
    },
    {
      "cell_type": "code",
      "execution_count": null,
      "metadata": {
        "colab": {
          "base_uri": "https://localhost:8080/"
        },
        "id": "f9C6PgyCeAxG",
        "outputId": "8f333461-3568-4a25-c2b0-412b1fe44060"
      },
      "outputs": [
        {
          "output_type": "stream",
          "name": "stdout",
          "text": [
            "age\n",
            "[19, 28, 33, 32, 46, 37, 25, 62, 23, 56, 52, 60, 30, 18, 34, 59, 63, 55, 31, 22, 26, 35, 24, 41, 38, 36, 21, 58, 43, 64, 20, 61, 40, 27, 53, 44, 29, 45, 48, 57, 54, 49, 51, 42, 47, 39, 50]\n",
            "\n",
            "\n",
            "sex\n",
            "['female', 'male']\n",
            "\n",
            "\n",
            "bmi\n",
            "[27.9, 33.0, 22.705, 28.88, 33.44, 27.74, 26.22, 26.29, 34.4, 39.82, 24.6, 30.78, 23.845, 36.005, 32.4, 34.1, 31.92, 28.025, 27.72, 23.085, 32.775, 17.385, 36.3, 35.6, 28.6, 28.31, 20.425, 32.965, 20.8, 36.67, 26.6, 36.63, 21.78, 30.8, 37.05, 38.665, 24.53, 35.2, 35.625, 33.63, 31.825, 31.68, 37.335, 27.36, 24.7, 25.935, 22.42, 28.9, 39.1, 26.315, 36.19, 23.98, 24.75, 28.5, 28.1, 32.01, 27.4, 29.59, 35.53, 39.805, 38.285, 37.62, 41.23, 34.8, 31.16, 27.2, 26.98, 39.49, 24.795, 34.77, 31.3, 38.28, 19.95, 19.3, 31.6, 25.46, 30.115, 29.92, 27.5, 28.4, 30.875, 35.09, 29.7, 35.72, 32.205, 28.595, 49.06, 27.94, 27.17, 23.37, 37.1, 23.75, 28.975, 31.35, 28.785, 28.3, 37.4, 17.765, 34.7, 26.505, 22.04, 35.9, 25.555, 28.05, 25.175, 31.9, 36.0, 29.735, 28.69, 38.83, 30.495, 37.73, 37.43, 24.13, 39.52, 39.6, 29.8, 29.64, 28.215, 37.0, 33.155, 18.905, 41.47, 30.3, 15.96, 33.345, 37.7, 27.835, 29.2, 26.41, 41.895, 30.9, 32.2, 32.11, 31.57, 26.2, 25.74, 34.43, 30.59, 32.8, 39.33, 32.23, 36.08, 26.4, 31.8, 26.73, 23.1, 23.21, 33.7, 33.25, 33.88, 38.06, 31.635, 36.195, 27.83, 17.8, 24.51, 22.22, 38.39, 29.07, 22.135, 26.8, 35.3, 30.02, 20.9, 17.29, 34.21, 25.365, 40.15, 24.415, 25.2, 26.84, 24.32, 36.955, 42.35, 19.8, 32.395, 25.84, 34.2, 27.455, 27.55, 20.615, 24.3, 31.79, 21.56, 28.12, 40.565, 27.645, 31.2, 26.62, 48.07, 36.765, 33.4, 45.54, 28.82, 22.99, 27.7, 25.41, 22.61, 37.51, 38.0, 33.33, 33.06, 35.86, 31.4, 40.945, 34.105, 36.48, 33.8, 36.7, 36.385, 34.5, 32.3, 27.6, 29.26, 35.75, 23.18, 25.6, 35.245, 43.89, 29.83, 41.91, 20.79, 30.5, 24.985, 32.015, 30.4, 21.09, 22.23, 32.9, 24.89, 31.46, 17.955, 43.34, 39.05, 30.21, 31.445, 19.855, 31.02, 38.17, 20.6, 47.52, 20.4, 38.38, 23.6, 21.12, 30.03, 17.48, 20.235, 17.195, 23.9, 35.15, 35.64, 22.6, 39.16, 30.2, 24.31, 29.165, 16.815, 33.1, 26.9, 46.75, 29.45, 32.68, 33.5, 43.01, 26.695, 25.65, 29.6, 38.6, 23.4, 46.53, 30.14, 38.095, 28.38, 28.7, 24.09, 32.67, 25.1, 36.85, 41.325, 34.3, 31.065, 25.08, 43.4, 25.7, 27.93, 39.2, 26.03, 28.93, 25.27, 35.7, 35.31, 31.0, 44.22, 33.915, 26.07, 25.8, 39.425, 31.73, 40.48, 38.9, 47.41, 46.7, 21.4, 23.8, 44.77, 32.12, 29.1, 37.29, 43.12, 36.86, 34.295, 23.465, 45.43, 23.65, 20.7, 28.27, 35.91, 29.0, 19.57, 31.13, 21.85, 40.26, 33.725, 29.48, 32.6, 37.525, 25.3, 23.655, 37.8, 33.11, 21.3, 33.535, 42.46, 38.95, 36.1, 29.3, 38.19, 33.66, 42.4, 34.96, 42.68, 21.375, 40.81, 17.4, 20.3, 18.5, 41.69, 24.1, 36.2, 40.185, 39.27, 34.87, 44.745, 29.545, 40.47, 40.66, 36.6, 35.4, 27.075, 28.405, 21.755, 40.28, 24.42, 30.1, 27.265, 32.1, 23.7, 35.5, 24.035, 29.15, 27.0, 37.905, 22.77, 22.8, 34.58, 27.1, 19.475, 26.7, 34.32, 24.4, 41.14, 35.97, 22.515, 41.8, 22.895, 26.18, 22.3, 42.24, 26.51, 35.815, 41.42, 36.575, 42.94, 21.01, 24.225, 17.67, 34.39, 31.5, 31.1, 32.78, 29.81, 32.45, 50.38, 47.6, 28.0, 25.4, 29.9, 43.7, 24.86, 28.8, 29.5, 39.5, 26.885, 29.04, 38.94, 44.0, 20.045, 40.92, 35.1, 29.355, 32.34, 39.8, 24.605, 33.99, 25.0, 33.2, 23.2, 20.1, 32.5, 37.18, 46.09, 35.8, 31.255, 18.335, 42.9, 26.79, 25.9, 25.745, 23.56, 40.5, 39.995, 23.275, 32.7, 19.19, 20.13, 23.32, 45.32, 34.6, 18.715, 21.565, 23.0, 37.07, 52.58, 33.82, 42.655, 21.66, 32.0, 18.3, 31.54, 47.74, 19.095, 31.24, 29.925, 30.0, 20.35, 25.85, 42.75, 18.6, 23.87, 45.9, 30.25, 32.49, 21.5, 30.305, 32.56, 44.88, 41.1, 42.13, 26.125, 40.37, 28.49, 33.55, 40.375, 27.28, 17.86, 21.47, 33.3, 39.14, 24.97, 23.94, 34.485, 21.8, 23.3, 36.96, 21.28, 29.4, 37.9, 37.715, 23.76, 27.61, 27.06, 39.4, 34.9, 30.36, 27.8, 53.13, 39.71, 32.87, 44.7, 30.97]\n",
            "\n",
            "\n",
            "children\n",
            "[0, 3, 1, 2, 5, 4]\n",
            "\n",
            "\n",
            "smoker\n",
            "['yes', 'no']\n",
            "\n",
            "\n",
            "region\n",
            "['southwest', 'southeast', 'northwest', 'northeast']\n",
            "\n",
            "\n",
            "charges\n",
            "[16884.924, 4449.462, 21984.47061, 3866.8552, 8240.5896, 7281.5056, 2721.3208, 27808.7251, 1826.843, 11090.7178, 1837.237, 10797.3362, 2395.17155, 13228.84695, 4149.736, 1137.011, 37701.8768, 6203.90175, 14001.1338, 14451.83515, 12268.63225, 2775.19215, 38711.0, 35585.576, 4687.797, 13770.0979, 1625.43375, 15612.19335, 2302.3, 39774.2763, 3046.062, 4949.7587, 6272.4772, 6313.759, 6079.6715, 3393.35635, 12629.8967, 38709.176, 2211.13075, 3579.8287, 13607.36875, 34303.1672, 5989.52365, 8606.2174, 30166.61817, 4133.64165, 14711.7438, 1743.214, 14235.072, 6389.37785, 5920.1041, 17663.1442, 16577.7795, 6799.458, 11741.726, 11946.6259, 7726.854, 3947.4131, 1532.4697, 2755.02095, 6571.02435, 7935.29115, 37165.1638, 11033.6617, 39836.519, 43578.9394, 11073.176, 8026.6666, 11082.5772, 2026.9741, 10942.13205, 5729.0053, 47291.055, 3766.8838, 12105.32, 10226.2842, 22412.6485, 15820.699, 6186.127, 3645.0894, 21344.8467, 30942.1918, 5003.853, 17560.37975, 2331.519, 3877.30425, 47055.5321, 10825.2537, 11881.358, 4646.759, 2404.7338, 11488.31695, 30259.99556, 11381.3254, 19107.7796, 8601.3293, 6686.4313, 7740.337, 1705.6245, 2257.47525, 39556.4945, 3385.39915, 17081.08, 9634.538, 32734.1863, 6082.405, 12815.44495, 13616.3586, 11163.568, 1632.56445, 2457.21115, 2155.6815, 1261.442, 2045.68525, 27322.73386, 2166.732, 18157.876, 20745.9891, 5138.2567, 40720.55105, 9877.6077, 10959.6947, 1842.519, 5125.2157, 7789.635, 19964.7463, 7077.1894, 6948.7008, 15518.18025, 36950.2567, 21348.706, 10450.552, 5152.134, 5028.1466, 10407.08585, 4830.63, 6128.79745, 2719.27975, 4827.90495, 13405.3903, 8116.68, 1694.7964, 5246.047, 2855.43755, 48824.45, 6455.86265, 10436.096, 8823.279, 8538.28845, 11735.87905, 1631.8212, 4005.4225, 7419.4779, 43753.33705, 5325.651, 6775.961, 4922.9159, 12557.6053, 4883.866, 2137.6536, 12044.342, 1137.4697, 1639.5631, 5649.715, 8516.829, 14901.5167, 2130.6759, 8871.1517, 37133.8982, 4337.7352, 11743.299, 20984.0936, 13880.949, 6610.1097, 1980.07, 3537.703, 5002.7827, 8520.026, 7371.772, 10355.641, 2483.736, 3392.9768, 25081.76784, 5012.471, 10564.8845, 5253.524, 34779.615, 11987.1682, 2689.4954, 7358.17565, 9225.2564, 7443.64305, 14001.2867, 1727.785, 6710.1919, 19444.2658, 1615.7667, 4463.2051, 17352.6803, 7152.6714, 38511.6283, 5354.07465, 35160.13457, 7196.867, 29523.1656, 24476.47851, 12648.7034, 1832.094, 4040.55825, 12829.4551, 47305.305, 44260.7499, 13047.33235, 43921.1837, 5400.9805, 11520.09985, 33750.2918, 11837.16, 17085.2676, 24869.8368, 36219.40545, 20462.99766, 46151.1245, 17179.522, 14590.63205, 9282.4806, 42856.838, 7265.7025, 9617.66245, 2523.1695, 9715.841, 2803.69785, 2150.469, 12928.7911, 9855.1314, 22331.5668, 48549.17835, 4237.12655, 11879.10405, 9625.92, 7742.1098, 9432.9253, 14256.1928, 47896.79135, 25992.82104, 3172.018, 20277.80751, 42112.2356, 2156.7518, 3906.127, 1704.5681, 16297.846, 21978.6769, 6746.7425, 24873.3849, 12265.5069, 12646.207, 19442.3535, 20177.67113, 4151.0287, 7749.1564, 1737.376, 8124.4084, 34838.873, 9722.7695, 8835.26495, 7421.19455, 24671.66334, 11566.30055, 2866.091, 6600.20595, 3561.8889, 42760.5022, 47928.03, 9144.565, 48517.56315, 24393.6224, 13429.0354, 19144.57652, 13822.803, 12142.5786, 13937.6665, 41919.097, 8232.6388, 18955.22017, 13352.0998, 13981.85035, 10977.2063, 6184.2994, 4889.9995, 8334.45755, 5478.0368, 1635.73365, 11830.6072, 8932.084, 3554.203, 12404.8791, 14133.03775, 24603.04837, 8944.1151, 9620.3307, 1837.2819, 1607.5101, 10043.249, 4751.07, 9778.3472, 13430.265, 8017.06115, 8116.26885, 3481.868, 13415.0381, 12029.2867, 7639.41745, 36085.219, 1391.5287, 18033.9679, 21659.9301, 38126.2465, 16455.70785, 27000.98473, 15006.57945, 20781.48892, 5846.9176, 8302.53565, 1261.859, 11856.4115, 30284.64294, 3176.8159, 4618.0799, 2138.0707, 8964.06055, 9290.1395, 9411.005, 7526.70645, 8522.003, 16586.49771, 14988.432, 1631.6683, 9264.797, 8083.9198, 10269.46, 3260.199, 11396.9002, 8539.671, 6652.5288, 4074.4537, 1621.3402, 19594.80965, 14455.64405, 5080.096, 2134.9015, 7345.7266, 9140.951, 18608.262, 14418.2804, 28950.4692, 46889.2612, 46599.1084, 39125.33225, 2727.3951, 8968.33, 9788.8659, 7323.734819, 3167.45585, 18804.7524, 23082.95533, 5969.723, 12638.195, 5926.846, 12592.5345, 2897.3235, 4738.2682, 37079.372, 1149.3959, 26109.32905, 7345.084, 12730.9996, 11454.0215, 5910.944, 4762.329, 7512.267, 4032.2407, 1969.614, 1769.53165, 4686.3887, 21797.0004, 11881.9696, 11840.77505, 10601.412, 10381.4787, 15230.32405, 11165.41765, 1632.03625, 19521.9682, 13224.693, 23288.9284, 2201.0971, 2497.0383, 2203.47185, 1744.465, 20878.78443, 25382.297, 28868.6639, 35147.52848, 1534.3045, 15555.18875, 1622.1885, 9563.029, 4347.02335, 48885.13561, 10461.9794, 1748.774, 24513.09126, 2196.4732, 12574.049, 17942.106, 1967.0227, 4931.647, 8027.968, 8211.1002, 13470.86, 36197.699, 6837.3687, 22218.1149, 5974.3847, 3077.0955, 3044.2133, 11455.28, 11763.0009, 1256.299, 21082.16, 11362.755, 27724.28875, 5240.765, 3857.75925, 25656.57526, 3994.1778, 9866.30485, 5397.6167, 38245.59327, 11482.63485, 24059.68019, 9861.025, 8342.90875, 1708.0014, 14043.4767, 12925.886, 19214.70553, 13831.1152, 6067.12675, 5972.378, 8825.086, 8233.0975, 27346.04207, 6196.448, 3056.3881, 13887.204, 63770.42801, 10231.4999, 23807.2406, 11538.421, 3213.62205, 13390.559, 3972.9247, 12957.118, 3847.674, 8334.5896, 3935.1799, 39983.42595, 1646.4297, 9193.8385, 10923.9332, 2494.022, 9058.7303, 2801.2588, 2128.43105, 6373.55735, 7256.7231, 11552.904, 3761.292, 2219.4451, 4753.6368, 31620.00106, 13224.05705, 12222.8983, 1664.9996, 58571.07448, 3206.49135, 12913.9924, 6356.2707, 17626.23951, 1242.816, 4779.6023, 3861.20965, 43943.8761, 13635.6379, 11842.442, 8428.0693, 2566.4707, 15359.1045, 5709.1644, 8823.98575, 7640.3092, 5594.8455, 7441.501, 33471.97189, 1633.0444, 9174.13565, 11070.535, 16085.1275, 17468.9839, 9283.562, 3558.62025, 25678.77845, 39241.442, 6571.544, 2207.69745, 1880.07, 42969.8527, 11658.11505, 23306.547, 34439.8559, 10713.644, 3659.346, 40182.246, 9182.17, 34617.84065, 12129.61415, 3736.4647, 6748.5912, 11326.71487, 11365.952, 42983.4585, 10085.846, 1977.815, 3366.6697, 7173.35995, 14410.9321, 2709.1119, 24915.04626, 12949.1554, 6666.243, 13143.86485, 4466.6214, 18806.14547, 10141.1362, 6123.5688, 8252.2843, 1712.227, 12430.95335, 9800.8882, 10579.711, 8280.6227, 8527.532, 12244.531, 24667.419, 26392.26029, 14394.39815, 6435.6237, 1136.3994, 27037.9141, 42560.4304, 8703.456, 45710.20785, 4837.5823, 3943.5954, 4399.731, 6185.3208, 46200.9851, 7222.78625, 12485.8009, 46130.5265, 12363.547, 10156.7832, 2585.269, 1242.26, 40103.89, 9863.4718, 4766.022, 11244.3769, 5438.7491, 26236.57997, 34806.4677, 2104.1134, 8068.185, 2362.22905, 2352.96845, 3577.999, 3201.24515, 29186.48236, 40273.6455, 10976.24575, 3500.6123, 2020.5523, 9541.69555, 9504.3103, 5385.3379, 8930.93455, 5375.038, 44400.4064, 10264.4421, 5469.0066, 1727.54, 1984.4533, 2457.502, 12146.971, 9566.9909, 10848.1343, 12231.6136, 9875.6804, 11264.541, 1263.249, 10106.13425, 40932.4295, 6664.68595, 16657.71745, 2217.6012, 6781.3542, 19361.9988, 10065.413, 4234.927, 9447.25035, 14007.222, 9583.8933, 40419.0191, 3484.331, 36189.1017, 44585.45587, 8604.48365, 18246.4955, 43254.41795, 3757.8448, 9910.35985, 11737.84884, 8556.907, 3062.50825, 19539.243, 1906.35825, 14210.53595, 11833.7823, 5031.26955, 7985.815, 36307.7983, 3925.7582, 2416.955, 19040.876, 3070.8087, 9095.06825, 11842.62375, 8062.764, 7050.642, 6933.24225, 27941.28758, 11150.78, 12797.20962, 17748.5062, 7261.741, 10560.4917, 6986.697, 7448.40395, 5934.3798, 9869.8102, 18259.216, 1146.7966, 9386.1613, 24520.264, 4350.5144, 6414.178, 12741.16745, 5209.57885, 13457.9608, 5662.225, 1252.407, 2731.9122, 21195.818, 7209.4918, 4719.52405, 11848.141, 17904.52705, 7046.7222, 2103.08, 38792.6856, 1815.8759, 7731.85785, 28476.73499, 2136.88225, 1131.5066, 3309.7926, 9414.92, 6360.9936, 11013.7119, 5584.3057, 1877.9294, 2842.76075, 3597.596, 55135.40209, 7445.918, 2680.9493, 1621.8827, 16069.08475, 43813.8661, 20773.62775, 39597.4072, 13393.756, 5266.3656, 4719.73655, 11743.9341, 7160.3303, 4402.233, 11657.7189, 6402.29135, 12622.1795, 1526.312, 12323.936, 36021.0112, 27533.9129, 10072.05505, 45008.9555, 9872.701, 2438.0552, 2974.126, 10601.63225, 37270.1512, 14119.62, 42111.6647, 11729.6795, 24106.91255, 1875.344, 40974.1649, 15817.9857, 18218.16139, 10965.446, 46113.511, 7151.092, 12269.68865, 8782.469, 6600.361, 1141.4451, 11576.13, 13129.60345, 4391.652, 8457.818, 3392.3652, 5966.8874, 6849.026, 8891.1395, 2690.1138, 26140.3603, 6653.7886, 6282.235, 6311.952, 3443.064, 2585.85065, 4877.98105, 19719.6947, 27218.43725, 5272.1758, 1682.597, 11945.1327, 29330.98315, 7243.8136, 10422.91665, 44202.6536, 13555.0049, 13063.883, 19798.05455, 2221.56445, 1634.5734, 2117.33885, 8688.85885, 48673.5588, 4661.28635, 8125.7845, 12644.589, 4564.19145, 7633.7206, 15170.069, 17496.306, 2639.0429, 14382.70905, 5257.50795, 2473.3341, 21774.32215, 35069.37452, 5245.2269, 13451.122, 13462.52, 5488.262, 4320.41085, 6250.435, 25333.33284, 2913.569, 12032.326, 13470.8044, 6289.7549, 2927.0647, 6238.298, 10096.97, 7348.142, 4673.3922, 12233.828, 32108.66282, 8965.79575, 2304.0022, 9487.6442, 1121.8739, 9549.5651, 2217.46915, 1628.4709, 11674.13, 7160.094, 39047.285, 6358.77645, 19933.458, 11534.87265, 47462.894, 4527.18295, 20009.63365, 3875.7341, 41999.52, 12609.88702, 28468.91901, 3353.284, 14474.675, 9500.57305, 26467.09737, 4746.344, 7518.02535, 3279.86855, 8596.8278, 4992.3764, 2527.81865, 1759.338, 16138.76205, 7804.1605, 2902.9065, 9704.66805, 4889.0368, 19199.944, 16796.41194, 4915.05985, 7624.63, 8410.04685, 28340.18885, 3378.91, 7144.86265, 10118.424, 5484.4673, 16420.49455, 7986.47525, 7418.522, 5267.81815, 17361.7661, 34472.841, 21232.18226, 8627.5411, 4433.3877, 4438.2634, 24915.22085, 23241.47453, 9957.7216, 8269.044, 18767.7377, 36580.28216, 8765.249, 5383.536, 12124.9924, 2709.24395, 3987.926, 12495.29085, 8798.593, 35595.5898, 42211.1382, 1711.0268, 8569.8618, 2020.177, 16450.8947, 21595.38229, 9850.432, 6877.9801, 21677.28345, 44423.803, 13747.87235, 12094.478, 37484.4493, 39725.51805, 2250.8352, 22493.65964, 20234.85475, 1704.70015, 3161.454, 11394.06555, 21880.82, 7325.0482, 44501.3982, 3594.17085, 39727.614, 8023.13545, 14394.5579, 9288.0267, 25309.489, 8277.523, 17929.30337, 2480.9791, 4462.7218, 1981.5819, 6548.19505, 5708.867, 7045.499, 8978.1851, 5757.41345, 14349.8544, 10928.849, 39871.7043, 13974.45555, 1909.52745, 12096.6512, 13204.28565, 4562.8421, 8551.347, 2102.2647, 34672.1472, 15161.5344, 11884.04858, 4454.40265, 5855.9025, 4076.497, 15019.76005, 19023.26, 10796.35025, 11353.2276, 9748.9106, 41676.0811, 11286.5387, 3591.48, 33907.548, 11299.343, 4561.1885, 44641.1974, 3227.1211, 16776.30405, 11253.421, 3471.4096, 11363.2832, 20420.60465, 10338.9316, 8988.15875, 2904.088, 8605.3615, 41949.2441, 24180.9335, 5312.16985, 2396.0959, 10807.4863, 9222.4026, 36124.5737, 38282.7495, 5693.4305, 34166.273, 46661.4424, 18903.49141, 40904.1995, 14254.6082, 5836.5204, 14358.36437, 1728.897, 8582.3023, 3693.428, 20709.02034, 19673.33573, 7623.518, 3176.2877, 3704.3545, 36898.73308, 9048.0273, 7954.517, 27117.99378, 6338.0756, 11289.10925, 10791.96, 5979.731, 2203.73595, 12235.8392, 40941.2854, 5630.45785, 11015.1747, 7228.21565, 39722.7462, 2459.7201, 3989.841, 7727.2532, 5124.1887, 18963.17192, 2200.83085, 7153.5539, 5227.98875, 10982.5013, 4529.477, 4670.64, 6112.35295, 17178.6824, 22478.6, 11093.6229, 4433.9159, 2154.361, 23887.6627, 6496.886, 19350.3689, 7650.77375, 2850.68375, 2632.992, 9447.3824, 18328.2381, 8603.8234, 37465.34375, 13844.7972, 21771.3423, 13126.67745, 13725.47184, 13019.16105, 8671.19125, 4134.08245, 33307.5508, 5699.8375, 6393.60345, 4934.705, 6198.7518, 8733.22925, 18223.4512, 5116.5004, 36910.60803, 38415.474, 5373.36425, 23563.01618, 1702.4553, 10806.839, 3956.07145, 12890.05765, 5415.6612, 41661.602, 6593.5083, 8442.667, 26125.67477, 6858.4796, 4795.6568, 6640.54485, 7162.0122, 10594.2257, 11938.25595, 60021.39897, 20167.33603, 12479.70895, 11345.519, 14449.8544, 12224.35085, 6985.50695, 3238.4357, 47269.854, 49577.6624, 4296.2712, 3171.6149, 1135.9407, 5615.369, 9101.798, 6059.173, 37607.5277, 18648.4217, 1241.565, 15828.82173, 4415.1588, 6474.013, 11305.93455, 30063.58055, 10197.7722, 3277.161, 6770.1925, 26926.5144, 10704.47, 34254.05335, 8615.3, 3292.52985, 3021.80915, 4747.0529, 17043.3414, 10959.33, 2741.948, 4357.04365, 22462.04375, 4189.1131, 8283.6807, 24535.69855, 14283.4594, 8534.6718, 38344.566, 7147.4728, 7133.9025, 34828.654, 1515.3449, 11931.12525, 4340.4409, 5261.46945, 2710.82855, 62592.87309, 3208.787, 37829.7242, 21259.37795, 2464.6188, 16115.3045, 21472.4788, 33900.653, 6875.961, 4571.41305, 4536.259, 36397.576, 18765.87545, 11272.33139, 1731.677, 1163.4627, 19496.71917, 7201.70085, 12981.3457, 43896.3763, 4239.89265, 13143.33665, 7050.0213, 9377.9047, 22395.74424, 10325.206, 12629.1656, 10795.93733, 11411.685, 10600.5483, 2205.9808, 1629.8335, 2007.945, 29141.3603]\n",
            "\n",
            "\n"
          ]
        }
      ],
      "source": [
        "# Mostrar valores que constam em cada features\n",
        "for i in df.columns:\n",
        "  print( i )\n",
        "  print( list( df[i].unique( ) ) )\n",
        "  print( '\\n' )"
      ]
    },
    {
      "cell_type": "markdown",
      "source": [
        "#### 2.3.1 Análise estatística\n",
        "\n",
        "Neste etapa é feita a visualização do histograma e também a descrição estatística das variáveis numéricas, como a soma dos valores, média, mediana, devio padrão, quartis. Com isso, é possível visualizar dois pontos de atenção:\n",
        "\n",
        "- `bmi` tem o comportamento de uma Distribuição Gaussiana.\n",
        "- De acordo com o quartil 75% e o valor máximo e histograma da variável alvo, `charges` pode contar com a presença de outliers."
      ],
      "metadata": {
        "id": "FmkH0ry-WRhz"
      }
    },
    {
      "cell_type": "code",
      "execution_count": null,
      "metadata": {
        "colab": {
          "base_uri": "https://localhost:8080/",
          "height": 444
        },
        "id": "G-t-ukuk5Yoa",
        "outputId": "25f76712-9d56-429a-c489-5afa13ead2ff"
      },
      "outputs": [
        {
          "output_type": "display_data",
          "data": {
            "text/plain": [
              "<Figure size 720x504 with 4 Axes>"
            ],
            "image/png": "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\n"
          },
          "metadata": {
            "needs_background": "light"
          }
        }
      ],
      "source": [
        "# Plotar histogramas para as variáveis numéricas\n",
        "df.hist( bins=20, figsize=( 10,7 ) );"
      ]
    },
    {
      "cell_type": "code",
      "execution_count": null,
      "metadata": {
        "colab": {
          "base_uri": "https://localhost:8080/",
          "height": 300
        },
        "id": "q-jeEgdkg4TL",
        "outputId": "ec23d0a0-5b75-4c89-c215-8a273a5b7919"
      },
      "outputs": [
        {
          "output_type": "execute_result",
          "data": {
            "text/plain": [
              "               age          bmi     children       charges\n",
              "count  1137.000000  1137.000000  1137.000000   1137.000000\n",
              "mean     39.094107    30.687471     1.092348  13136.954378\n",
              "std      14.086345     6.159506     1.210758  11958.054490\n",
              "min      18.000000    15.960000     0.000000   1121.873900\n",
              "25%      26.000000    26.220000     0.000000   4753.636800\n",
              "50%      39.000000    30.400000     1.000000   9288.026700\n",
              "75%      51.000000    34.700000     2.000000  16420.494550\n",
              "max      64.000000    53.130000     5.000000  63770.428010"
            ],
            "text/html": [
              "\n",
              "  <div id=\"df-67a9426c-f64b-4355-8f22-d4d33561d1bd\">\n",
              "    <div class=\"colab-df-container\">\n",
              "      <div>\n",
              "<style scoped>\n",
              "    .dataframe tbody tr th:only-of-type {\n",
              "        vertical-align: middle;\n",
              "    }\n",
              "\n",
              "    .dataframe tbody tr th {\n",
              "        vertical-align: top;\n",
              "    }\n",
              "\n",
              "    .dataframe thead th {\n",
              "        text-align: right;\n",
              "    }\n",
              "</style>\n",
              "<table border=\"1\" class=\"dataframe\">\n",
              "  <thead>\n",
              "    <tr style=\"text-align: right;\">\n",
              "      <th></th>\n",
              "      <th>age</th>\n",
              "      <th>bmi</th>\n",
              "      <th>children</th>\n",
              "      <th>charges</th>\n",
              "    </tr>\n",
              "  </thead>\n",
              "  <tbody>\n",
              "    <tr>\n",
              "      <th>count</th>\n",
              "      <td>1137.000000</td>\n",
              "      <td>1137.000000</td>\n",
              "      <td>1137.000000</td>\n",
              "      <td>1137.000000</td>\n",
              "    </tr>\n",
              "    <tr>\n",
              "      <th>mean</th>\n",
              "      <td>39.094107</td>\n",
              "      <td>30.687471</td>\n",
              "      <td>1.092348</td>\n",
              "      <td>13136.954378</td>\n",
              "    </tr>\n",
              "    <tr>\n",
              "      <th>std</th>\n",
              "      <td>14.086345</td>\n",
              "      <td>6.159506</td>\n",
              "      <td>1.210758</td>\n",
              "      <td>11958.054490</td>\n",
              "    </tr>\n",
              "    <tr>\n",
              "      <th>min</th>\n",
              "      <td>18.000000</td>\n",
              "      <td>15.960000</td>\n",
              "      <td>0.000000</td>\n",
              "      <td>1121.873900</td>\n",
              "    </tr>\n",
              "    <tr>\n",
              "      <th>25%</th>\n",
              "      <td>26.000000</td>\n",
              "      <td>26.220000</td>\n",
              "      <td>0.000000</td>\n",
              "      <td>4753.636800</td>\n",
              "    </tr>\n",
              "    <tr>\n",
              "      <th>50%</th>\n",
              "      <td>39.000000</td>\n",
              "      <td>30.400000</td>\n",
              "      <td>1.000000</td>\n",
              "      <td>9288.026700</td>\n",
              "    </tr>\n",
              "    <tr>\n",
              "      <th>75%</th>\n",
              "      <td>51.000000</td>\n",
              "      <td>34.700000</td>\n",
              "      <td>2.000000</td>\n",
              "      <td>16420.494550</td>\n",
              "    </tr>\n",
              "    <tr>\n",
              "      <th>max</th>\n",
              "      <td>64.000000</td>\n",
              "      <td>53.130000</td>\n",
              "      <td>5.000000</td>\n",
              "      <td>63770.428010</td>\n",
              "    </tr>\n",
              "  </tbody>\n",
              "</table>\n",
              "</div>\n",
              "      <button class=\"colab-df-convert\" onclick=\"convertToInteractive('df-67a9426c-f64b-4355-8f22-d4d33561d1bd')\"\n",
              "              title=\"Convert this dataframe to an interactive table.\"\n",
              "              style=\"display:none;\">\n",
              "        \n",
              "  <svg xmlns=\"http://www.w3.org/2000/svg\" height=\"24px\"viewBox=\"0 0 24 24\"\n",
              "       width=\"24px\">\n",
              "    <path d=\"M0 0h24v24H0V0z\" fill=\"none\"/>\n",
              "    <path d=\"M18.56 5.44l.94 2.06.94-2.06 2.06-.94-2.06-.94-.94-2.06-.94 2.06-2.06.94zm-11 1L8.5 8.5l.94-2.06 2.06-.94-2.06-.94L8.5 2.5l-.94 2.06-2.06.94zm10 10l.94 2.06.94-2.06 2.06-.94-2.06-.94-.94-2.06-.94 2.06-2.06.94z\"/><path d=\"M17.41 7.96l-1.37-1.37c-.4-.4-.92-.59-1.43-.59-.52 0-1.04.2-1.43.59L10.3 9.45l-7.72 7.72c-.78.78-.78 2.05 0 2.83L4 21.41c.39.39.9.59 1.41.59.51 0 1.02-.2 1.41-.59l7.78-7.78 2.81-2.81c.8-.78.8-2.07 0-2.86zM5.41 20L4 18.59l7.72-7.72 1.47 1.35L5.41 20z\"/>\n",
              "  </svg>\n",
              "      </button>\n",
              "      \n",
              "  <style>\n",
              "    .colab-df-container {\n",
              "      display:flex;\n",
              "      flex-wrap:wrap;\n",
              "      gap: 12px;\n",
              "    }\n",
              "\n",
              "    .colab-df-convert {\n",
              "      background-color: #E8F0FE;\n",
              "      border: none;\n",
              "      border-radius: 50%;\n",
              "      cursor: pointer;\n",
              "      display: none;\n",
              "      fill: #1967D2;\n",
              "      height: 32px;\n",
              "      padding: 0 0 0 0;\n",
              "      width: 32px;\n",
              "    }\n",
              "\n",
              "    .colab-df-convert:hover {\n",
              "      background-color: #E2EBFA;\n",
              "      box-shadow: 0px 1px 2px rgba(60, 64, 67, 0.3), 0px 1px 3px 1px rgba(60, 64, 67, 0.15);\n",
              "      fill: #174EA6;\n",
              "    }\n",
              "\n",
              "    [theme=dark] .colab-df-convert {\n",
              "      background-color: #3B4455;\n",
              "      fill: #D2E3FC;\n",
              "    }\n",
              "\n",
              "    [theme=dark] .colab-df-convert:hover {\n",
              "      background-color: #434B5C;\n",
              "      box-shadow: 0px 1px 3px 1px rgba(0, 0, 0, 0.15);\n",
              "      filter: drop-shadow(0px 1px 2px rgba(0, 0, 0, 0.3));\n",
              "      fill: #FFFFFF;\n",
              "    }\n",
              "  </style>\n",
              "\n",
              "      <script>\n",
              "        const buttonEl =\n",
              "          document.querySelector('#df-67a9426c-f64b-4355-8f22-d4d33561d1bd button.colab-df-convert');\n",
              "        buttonEl.style.display =\n",
              "          google.colab.kernel.accessAllowed ? 'block' : 'none';\n",
              "\n",
              "        async function convertToInteractive(key) {\n",
              "          const element = document.querySelector('#df-67a9426c-f64b-4355-8f22-d4d33561d1bd');\n",
              "          const dataTable =\n",
              "            await google.colab.kernel.invokeFunction('convertToInteractive',\n",
              "                                                     [key], {});\n",
              "          if (!dataTable) return;\n",
              "\n",
              "          const docLinkHtml = 'Like what you see? Visit the ' +\n",
              "            '<a target=\"_blank\" href=https://colab.research.google.com/notebooks/data_table.ipynb>data table notebook</a>'\n",
              "            + ' to learn more about interactive tables.';\n",
              "          element.innerHTML = '';\n",
              "          dataTable['output_type'] = 'display_data';\n",
              "          await google.colab.output.renderOutput(dataTable, element);\n",
              "          const docLink = document.createElement('div');\n",
              "          docLink.innerHTML = docLinkHtml;\n",
              "          element.appendChild(docLink);\n",
              "        }\n",
              "      </script>\n",
              "    </div>\n",
              "  </div>\n",
              "  "
            ]
          },
          "metadata": {},
          "execution_count": 9
        }
      ],
      "source": [
        "# Plotar descrição estatística\n",
        "df.describe( )"
      ]
    },
    {
      "cell_type": "markdown",
      "metadata": {
        "id": "hT7MXjx7iEKV"
      },
      "source": [
        "#### 2.3.2 Avaliar outliers\n",
        "\n",
        "Ao plotar o Boxplot das variáveis, é possivel observar que:\n",
        "- A variável `charges` conta com outliers, conforme estimado anteriormente;\n",
        "- Os outliers da varíavel `Charges`correspondem a 10.20% do dataset;\n",
        "- Para analisar a demais variáveis, foi preciso imprimir outro gráfico de boxplot, para adequar as escalas de valores;\n",
        "- A coluna `bmi` conta com a presença de outliers, no entanto, não será necessário nenhum tratamento por conta dos valores apresentarem uma Distribuição Gaussiana."
      ]
    },
    {
      "cell_type": "code",
      "execution_count": null,
      "metadata": {
        "colab": {
          "base_uri": "https://localhost:8080/"
        },
        "id": "r7oRgNY3mE77",
        "outputId": "adeb107c-80e2-4f8a-b5ca-7c0e3d3e0297"
      },
      "outputs": [
        {
          "output_type": "stream",
          "name": "stdout",
          "text": [
            "-> Variável: `age`\n",
            "IQR: 25.0\n",
            "Limite superior: 88.5\n",
            "Limite inferior: -11.5\n",
            "\n",
            "-> Variável: `bmi`\n",
            "IQR: 8.480000000000004\n",
            "Limite superior: 47.42000000000001\n",
            "Limite inferior: 13.499999999999993\n",
            "\n",
            "-> Variável: `children`\n",
            "IQR: 2.0\n",
            "Limite superior: 5.0\n",
            "Limite inferior: -3.0\n",
            "\n",
            "-> Variável: `charges`\n",
            "IQR: 11666.85775\n",
            "Limite superior: 33920.781175\n",
            "Limite inferior: -12746.649825\n",
            "\n"
          ]
        }
      ],
      "source": [
        "def limites_outliers( coluna ):\n",
        "  ''\n",
        "\n",
        "  ''\n",
        "  if df[coluna].dtypes != 'object':\n",
        "    print( '-> Variável: `{}`'.format( coluna ) )\n",
        "    # identificando os outliers para a variável\n",
        "    q1 = df[coluna].quantile( .25 )\n",
        "    q3 = df[coluna].quantile( .75 )\n",
        "    IQR = q3 - q1\n",
        "    print( 'IQR: {}'.format( IQR ) )\n",
        "\n",
        "    # definindo limites\n",
        "    limite_superior = q3 + 1.5*IQR\n",
        "    limite_inferior = q1 - 1.5*IQR\n",
        "    print( 'Limite superior: {}'.format( limite_superior ) )\n",
        "    print( 'Limite inferior: {}\\n'.format( limite_inferior ) )\n",
        "\n",
        "for coluna in df.columns:\n",
        "  limites_outliers( coluna )"
      ]
    },
    {
      "cell_type": "code",
      "execution_count": null,
      "metadata": {
        "colab": {
          "base_uri": "https://localhost:8080/",
          "height": 483
        },
        "id": "M5c_sZazcgB4",
        "outputId": "0b2bc9fe-86a2-41f8-db42-6d78efaad25c"
      },
      "outputs": [
        {
          "output_type": "display_data",
          "data": {
            "text/plain": [
              "<Figure size 576x576 with 1 Axes>"
            ],
            "image/png": "iVBORw0KGgoAAAANSUhEUgAAAfMAAAHSCAYAAAD4/yLYAAAABHNCSVQICAgIfAhkiAAAAAlwSFlzAAALEgAACxIB0t1+/AAAADh0RVh0U29mdHdhcmUAbWF0cGxvdGxpYiB2ZXJzaW9uMy4yLjIsIGh0dHA6Ly9tYXRwbG90bGliLm9yZy+WH4yJAAAgAElEQVR4nO3df5BdZZ3n8fc33bED+SGQYMsmSKwhs3bIlo5mFZYU2zEzEH7s4rpqmR0H1m1JsQIzW+quaHaH0ZnMQG2hDoxjyU6iMDrNoCMYJQGpkKuTYZEfo4KkR8hgkGQhQRKBRhLS3c/+cZ+ON7FDdxL6njx936+qW/ec5zzn3u/Jk+5Pn3Ofe2+klJAkSeWaVHUBkiTpyBjmkiQVzjCXJKlwhrkkSYUzzCVJKpxhLklS4dqrLuBwzZo1K82dO7fqMsbFiy++yNSpU6suQ4fJ8Sub41euiT52Dz744M9TSieOtK3YMJ87dy4PPPBA1WWMi1qtRnd3d9Vl6DA5fmVz/Mo10ccuIp442DYvs0uSVDjDXJKkwhnmkiQVzjCXJKlwhrkkSYUzzCVJKpxhLklS4QxzSZIKZ5hLklQ4w1ySpMIZ5pIkFc4wlySpcIa5JEmFM8wlSSqcYS5JUuEMc0lS0Xp7e1mwYAFLlixhwYIF9Pb2Vl1S07VXXYAkSYert7eXFStWsGrVKgYHB2lra6OnpweAZcuWVVxd83hmLkkq1sqVK1m1ahWLFy+mvb2dxYsXs2rVKlauXFl1aU1lmEuSitXX18eiRYv2a1u0aBF9fX0VVVQNw1ySVKyuri42bty4X9vGjRvp6uqqqKJqGOaSpGKtWLGCnp4eNmzYwMDAABs2bKCnp4cVK1ZUXVpTOQFOklSs4UluV1xxBX19fXR1dbFy5cqWmvwGnplLklQ8z8wlScXyrWl1nplLkorlW9PqDHNJUrF8a1qdYS5JKpZvTaszzCVJxfKtaXVOgJMkFcu3ptUZ5pKkoi1btoxly5ZRq9Xo7u6uupxKeJldkqTCGeaSJBXOMJckqXCGuSRJhTPMJUkqnGEuSVLhDHNJkgo3pjCPiOMi4usR8U8R0RcRZ0TECRFxV0Q8lu+Pz30jIq6LiM0R8VBEvLXhcS7O/R+LiIsb2t8WEQ/nfa6LiHj1D1WSpIlprGfmfw7ckVJ6E/BmoA+4ElifUpoHrM/rAOcC8/JtOfAFgIg4AbgKeAfwduCq4T8Acp9LGvZbemSHJUlqFb29vSxYsIAlS5awYMECent7qy6p6Ub9BLiIeC1wFvCfAVJKLwMvR8SFQHfudiNQAz4OXAjclFJKwL35rP6k3PeulNLO/Lh3AUsjogbMSCndm9tvAt4FrHtVjlCSNGH5feZ1YzkzfyPwDPCliPhBRPxVREwFOlNKT+U+TwOdeXk28GTD/ltz2yu1bx2hXZKkV+T3mdeN5bPZ24G3AleklL4fEX/Ory6pA5BSShGRxqPARhGxnPqlezo7O6nVauP9lJXo7++fsMfWChy/sjl+Zenr62NwcJBarbZv7AYHB+nr62upcRxLmG8FtqaUvp/Xv049zLdHxEkppafyZfQdefs24OSG/efktm386rL8cHstt88Zof+vSSndANwAsHDhwjRRP1C/lb8sYCJw/Mrm+JWlq6uLtrY2uru7943dhg0b6OrqaqlxHPUye0rpaeDJiPiXuWkJsAlYAwzPSL8Y+GZeXgNclGe1nw48ly/H3wmcHRHH54lvZwN35m3PR8TpeRb7RQ2PJUnSQfl95nVj/QrUK4CvRsRrgMeBD1L/Q+CWiOgBngDel/uuBc4DNgO/zH1JKe2MiD8G7s/9Pj08GQ74MPBl4BjqE9+c/CZJGpXfZ143pjBPKf0QWDjCpiUj9E3AZQd5nNXA6hHaHwAWjKUWSZIa+X3mfgKcJEnFM8wlSUXzQ2PG/pq5JElHHT80ps4zc0lSsfzQmDrDXJJUrL6+PhYtWrRf26JFi+jr66uoomoY5pKkYnV1dbFx48b92jZu3EhXV1dFFVXDMJckFcsPjalzApwkqVh+aEydYS5JKpofGuNldkmSimeYS5JUOMNckqTCGeaSJBXOMJckqXCGuSRJhTPMJUkqnGEuSVLhDHNJkgpnmEuSVDjDXJKkwhnmkiQVzjCXJKlwhrkkqWi9vb0sWLCAJUuWsGDBAnp7e6suqen8ClRJUrF6e3tZsWIFq1atYnBwkLa2Nnp6egBa6jvNPTOXJBVr5cqVrFq1isWLF9Pe3s7ixYtZtWoVK1eurLq0pjLMJUnF6uvrY9GiRfu1LVq0iL6+vooqqoZhLkkqVldXFxs3btyvbePGjXR1dVVUUTUMc0lSsVasWEFPTw8bNmxgYGCADRs20NPTw4oVK6ouramcACdJKtbwJLcrrriCvr4+urq6WLlyZUtNfgPDXJJUuGXLlrFs2TJqtRrd3d1Vl1MJL7NLklQ4w1ySpMIZ5pIkFc4wlySpcIa5JEmFM8wlSSqcYS5JUuEMc0mSCmeYS5JUOMNckqTCGeaSJBXOMJckqXCGuSRJhTPMJUkqnGEuSVLhDHNJkgpnmEuSVDjDXJKkwhnmkiQVzjCXJKlwhrkkSYUzzCVJKpxhLklS4cYU5hGxJSIejogfRsQDue2EiLgrIh7L98fn9oiI6yJic0Q8FBFvbXici3P/xyLi4ob2t+XH35z3jVf7QCVJmqgO5cx8cUrpLSmlhXn9SmB9SmkesD6vA5wLzMu35cAXoB7+wFXAO4C3A1cN/wGQ+1zSsN/Swz4iSZJazJFcZr8QuDEv3wi8q6H9plR3L3BcRJwEnAPclVLamVLaBdwFLM3bZqSU7k0pJeCmhseSJEmjGGuYJ+A7EfFgRCzPbZ0ppafy8tNAZ16eDTzZsO/W3PZK7VtHaJckSWPQPsZ+i1JK2yLidcBdEfFPjRtTSiki0qtf3v7yHxLLATo7O6nVauP9lJXo7++fsMfWChy/sjl+5Vm/fj1f+cpX+NnPfsYb3vAGPvCBD7BkyZKqy2qqMYV5Smlbvt8REbdSf817e0SclFJ6Kl8q35G7bwNObth9Tm7bBnQf0F7L7XNG6D9SHTcANwAsXLgwdXd3j9SteLVajYl6bK3A8Sub41eW3t5evvrVr7J69WoGBwdpa2ujp6eH+fPns2zZsqrLa5pRL7NHxNSImD68DJwN/BhYAwzPSL8Y+GZeXgNclGe1nw48ly/H3wmcHRHH54lvZwN35m3PR8TpeRb7RQ2PJUnSQa1cuZJVq1axePFi2tvbWbx4MatWrWLlypVVl9ZUYzkz7wRuze8Wawf+JqV0R0TcD9wSET3AE8D7cv+1wHnAZuCXwAcBUko7I+KPgftzv0+nlHbm5Q8DXwaOAdblmyRJr6ivr49Fixbt17Zo0SL6+voqqqgao4Z5Sulx4M0jtD8L/NqLEnlG+mUHeazVwOoR2h8AFoyhXkmS9unq6uJ973sf69atY8+ePXR0dHDuuefS1dVVdWlN5SfASZKKNXv2bG677TaOPfZYIoJjjz2W2267jdmzW+tNUWOdzS5J0lHn7rvvpr29nV27dgGwa9cu2tvbufvuuyuurLk8M5ckFWtgYIChoSGuvfZa1q1bx7XXXsvQ0BADAwNVl9ZUhrkkqWjnnXceH/nIR5gyZQof+chHOO+886ouqekMc0lS0dauXctnPvMZdu/ezWc+8xnWrl1bdUlN52vmkqRitbe3k1Liox/96L62trY22ttbK948M5ckFaurq4vBwUGmT5/OpEmTmD59OoODg741TZKkUjz66KOceeaZvPzyywwNDfHyyy9z5pln8uijj1ZdWlMZ5pKkYu3Zs4cPfehDnHrqqUyaNIlTTz2VD33oQ+zZs6fq0pqqtV5UkCRNKO3t7VxyySX73or2yCOPcMkll/iauSRJJRkYGGDKlCkATJkypeXeYw6GuSSpYAMDA0yaNIndu3cDsHv3biZNmtRygd5a1yEkSRPOjBkz+MY3vrHv+8zf/e5384tf/KLqsprKMJckFe2FF17gnHPOYe/evUyePJmhoaGqS2o6L7NLkoo2fEYO9Q+MGRwcrLii5jPMJUlFG+k181bTekcsSdIEY5hLkooVEQwNDTFt2jQApk2bxtDQEBFRcWXN5QQ4SVKxUkpEBJ/61KeYP38+mzZt4mMf+xgppapLayrDXJJUtLPOOmtfgEcEZ511Ft/97nerLqupDHNJUtHuu+8+1q9fv29W+/nnn191SU3na+aSpGJ1dHTw0ksv8bnPfY7+/n4+97nP8dJLL9HR0VF1aU3lmbkkqVh79+5lwYIFrFmzhjVr1gCwYMECNm3aVHFlzWWYS5KK1dXVxYUXXkhKib6+vv3WW4lhLkkq1uLFi7nmmmu45ppr9s1m//jHP86ll15adWlNZZhLkoq1YcMGLrjgAj75yU+yZ88eOjo6uOCCC9iwYUPVpTWVYS5JKtamTZv42c9+tu/LVYaGhli/fj39/f0VV9ZczmaXJBVr0qRJvPDCC/uF+QsvvNByn8/eWkcrSZpQhr8hbXjC2/B9q31zmmEuSSreiSeeSERw4oknVl1KJQxzSVLRIoLt27eTUmL79u0t9yUrYJhLkgp34HvKW+095mCYS5JUPMNcklS84dnrrTaLfVhrHrUkacKYMWPGfrPZZ8yYUXFFzWeYS5KK9vzzz3PGGWfwta99jTPOOIPnn3++6pKazk+AkyQVq729nYGBAe655x7uueee/dpbiWfmkqRiDQwMAOx7O9rw/XB7qzDMJUlFa2tr23cm3t7eTltbW8UVNZ9hLkkq3tVXX826deu4+uqrqy6lEq31ooIkacKZM2fOfl+BOmfOHJ544omqy2oqw1ySVLQnnnhi32vlL7/8cssFOXiZXZJUsOEQP/Bb01rt89kNc0lSsYbDe9q0afvdt9rnsxvmkqSizZw5kxdffBGAF198kZkzZ1ZcUfMZ5pKkoj377LNceumlfOtb3+LSSy/l2WefrbqkpnMCnCSpeLfeeitf/OIXed3rXld1KZXwzFySVLwdO3YwNDTEjh07qi6lEp6ZS5KK1dHRwdDQEHv37gVgaGiIyZMnt9xXobbW0UqSJpSpU6eyd+9eTjvtNHp7eznttNPYu3cvU6dOrbq0pvLMXJJUrJ07dzJr1iw2bdrEsmXLiAhmzZrFz3/+86pLayrPzCVJRRscHOSUU05h0qRJnHLKKQwODlZdUtMZ5pKkoj3//PPArz4oZni9lYw5zCOiLSJ+EBHfzutvjIjvR8TmiPjbiHhNbu/I65vz9rkNj/GJ3P6TiDinoX1pbtscEVe+eocnSZroBgcH2bJlCykltmzZ4pn5KP4A6GtYvwb4bErpVGAX0JPbe4Bduf2zuR8RMR94P3AasBT4y/wHQhvweeBcYD6wLPeVJEljMKYwj4g5wPnAX+X1AN4JfD13uRF4V16+MK+Tty/J/S8Ebk4p7Ukp/RTYDLw93zanlB5PKb0M3Jz7SpKkMRjrmfnngP8BDOX1mcAvUkoDeX0rMDsvzwaeBMjbn8v997UfsM/B2iVJ0hiM+ta0iLgA2JFSejAiuse/pFesZTmwHKCzs5NarVZlOeOmv79/wh5bK3D8yub4TRytNI5jeZ/5mcC/j4jzgCnADODPgeMioj2ffc8BtuX+24CTga0R0Q68Fni2oX1Y4z4Ha99PSukG4AaAhQsXpu7u7jGUX55arcZEPbZW4PiVzfEr07Rp03jxxReZOnUq/f39AC01jqNeZk8pfSKlNCelNJf6BLa7U0q/C2wA3pO7XQx8My+vyevk7Xen+vsF1gDvz7Pd3wjMA+4D7gfm5dnxr8nPseZVOTpJUkvo7+8npbQvyFvNkXwC3MeBmyPiT4AfAKty+yrgryNiM7CTejiTUnokIm4BNgEDwGUppUGAiLgcuBNoA1anlB45grokSS0mIkgp7btvNYcU5imlGlDLy49Tn4l+YJ/dwHsPsv9KYOUI7WuBtYdSiyRJw4YDvBWDHPwEOEmSimeYS5JUOMNcklS84e8vb7XvMR/WmkctSZpQhoaG9rtvNYa5JKl4bW1t+923GsNcklS8888/n1tvvZXzzz+/6lIqcSTvM5ck6aiwZs0a1qxp3c8b88xcklS8+pdz/uq+1RjmkqTi+aExkiSpaIa5JEmFM8wlSSqcYS5JKp6fACdJUuGczS5JUuEGBwf3u281hrkkSYUzzCVJKpxhLklS4QxzSVLxrr32WtatW8e1115bdSmV8ItWJElFa2tr46Mf/eh+6602Ec4zc0lS0QYHB5k+fTqTJk1i+vTpLRfk4Jm5JGkC6O/vJ6VEf39/1aVUwjNzSVLRImK/b01rxQ+OMcwlScVqa2sjpUR7e/1Cc3t7Oykl2traKq6suQxzSVKxhoaGABgYGNjvfri9VRjmkqRiDV9eH2v7RGWYS5KK19nZSUTQ2dlZdSmVMMwlScV75plnSCnxzDPPVF1KJQxzSVLxhl8jb7XXyocZ5pKk4k2ePHm/+1ZjmEuSird379797luNYS5JKtrkyZP3OzNvxbNzw1ySVKy2tjb27t3LzJkzmTRpEjNnzmTv3r0t96Exfja7JOmodCgfy/r000/vdz84ODjm/SfCe9I9M5ckHZVSSmO6XX755XR0dADQ0dHB5ZdfPuZ9J0KQg2EuSSrc9ddfz+7duznl499m9+7dXH/99VWX1HSGuSRJhTPMJUkqnGEuSVLhDHNJkgpnmEuSVDjDXJKkwhnmkiQVzjCXJKlwhrkkSYUzzCVJKpxhLklS4QxzSZIKZ5hLklQ4w1ySpMIZ5pIkFc4wlySpcIa5JEmFGzXMI2JKRNwXET+KiEci4lO5/Y0R8f2I2BwRfxsRr8ntHXl9c94+t+GxPpHbfxIR5zS0L81tmyPiylf/MCVJmrjGcma+B3hnSunNwFuApRFxOnAN8NmU0qnALqAn9+8BduX2z+Z+RMR84P3AacBS4C8joi0i2oDPA+cC84Flua8kSRqDUcM81fXn1cn5loB3Al/P7TcC78rLF+Z18vYlERG5/eaU0p6U0k+BzcDb821zSunxlNLLwM25ryRJGoMxvWaez6B/COwA7gL+GfhFSmkgd9kKzM7Ls4EnAfL254CZje0H7HOwdkmSNAbtY+mUUhoE3hIRxwG3Am8a16oOIiKWA8sBOjs7qdVqVZQx7vr7+yfssbUCx69sjl/ZWnXsxhTmw1JKv4iIDcAZwHER0Z7PvucA23K3bcDJwNaIaAdeCzzb0D6scZ+DtR/4/DcANwAsXLgwdXd3H0r5xajVakzUY2sFjl/ZHL+C3XF7y47dWGazn5jPyImIY4DfAfqADcB7creLgW/m5TV5nbz97pRSyu3vz7Pd3wjMA+4D7gfm5dnxr6E+SW7Nq3FwkiS1grGcmZ8E3JhnnU8CbkkpfTsiNgE3R8SfAD8AVuX+q4C/jojNwE7q4UxK6ZGIuAXYBAwAl+XL90TE5cCdQBuwOqX0yKt2hJIkTXCjhnlK6SHgt0Zof5z6TPQD23cD7z3IY60EVo7QvhZYO4Z6JUnSAfwEOEmSCmeYS5JUOMNckqTCGeaSJBXOMJckqXCGuSRJhTPMJUkqnGEuSVLhDHNJkgpnmEuSVDjDXJKkwhnmkiQVzjCXJKlwhrkkSYUzzCVJKpxhLklS4QxzSZIKZ5hLklQ4w1ySpMIZ5pIkFc4wlySpcIa5JEmFM8wlSSqcYS5JUuEMc0mSCmeYS5JUOMNckqTCGeaSJBXOMJckqXCGuSRJhTPMJUkqnGEuSVLhDHNJkgpnmEuSVDjDXJKkwhnmkiQVzjCXJKlwhrkkSYUzzCVJKpxhLklS4QxzSZIKZ5hLklQ4w1ySpMIZ5pIkFc4wlySpcIa5JEmFM8wlSSqcYS5JUuEMc0mSCmeYS5JUOMNckqTCGeaSJBXOMJckqXCjhnlEnBwRGyJiU0Q8EhF/kNtPiIi7IuKxfH98bo+IuC4iNkfEQxHx1obHujj3fywiLm5of1tEPJz3uS4iYjwOVpKkiWgsZ+YDwEdTSvOB04HLImI+cCWwPqU0D1if1wHOBebl23LgC1APf+Aq4B3A24Grhv8AyH0uadhv6ZEfmiRJrWHUME8pPZVS+se8/ALQB8wGLgRuzN1uBN6Vly8Ebkp19wLHRcRJwDnAXSmlnSmlXcBdwNK8bUZK6d6UUgJuangsSZI0ikN6zTwi5gK/BXwf6EwpPZU3PQ105uXZwJMNu23Nba/UvnWEdkmSNAbtY+0YEdOAvwP+W0rp+caXtVNKKSLSONR3YA3LqV+6p7Ozk1qtNt5PWYn+/v4Je2ytwPErm+NXtlYduzGFeURMph7kX00pfSM3b4+Ik1JKT+VL5Tty+zbg5Ibd5+S2bUD3Ae213D5nhP6/JqV0A3ADwMKFC1N3d/dI3YpXq9WYqMfWChy/sjl+Bbvj9pYdu7HMZg9gFdCXUvpMw6Y1wPCM9IuBbza0X5RntZ8OPJcvx98JnB0Rx+eJb2cDd+Ztz0fE6fm5Lmp4LEmSNIqxnJmfCfwe8HBE/DC3fRK4GrglInqAJ4D35W1rgfOAzcAvgQ8CpJR2RsQfA/fnfp9OKe3Myx8GvgwcA6zLN0mSNAajhnlKaSNwsPd9LxmhfwIuO8hjrQZWj9D+ALBgtFokSdKv8xPgJEkqnGEuSVLhDHNJkgpnmEuSVDjDXJKkwhnmkiQVzjCXJKlwhrkkSYUzzCVJKpxhLklS4QxzSZIKZ5hLklQ4w1ySpMIZ5pIkFc4wlySpcIa5JEmFM8wlSSpce9UFSJImvjd/6js899LecX+euVfePq6P/9pjJvOjq84e1+c4HIa5JGncPffSXrZcff64PketVqO7u3tcn2O8/1g4XF5mlySpcIa5JEmFM8wlSSqcYS5JUuEMc0mSCmeYS5JUOMNckqTCGeaSJBXOMJckqXCGuSRJhTPMJUkqnGEuSVLhDHNJkgpnmEuSVDjDXJKkwhnmkiQVzjCXJKlwhrkkSYUzzCVJKpxhLklS4QxzSZIKZ5hLklQ4w1ySpMIZ5pIkFc4wlySpcIa5JEmFM8wlSSqcYS5JUuEMc0mSCmeYS5JUOMNckqTCGeaSJBXOMJckqXCGuSRJhRs1zCNidUTsiIgfN7SdEBF3RcRj+f743B4RcV1EbI6IhyLirQ37XJz7PxYRFze0vy0iHs77XBcR8WofpCRJE9lYzsy/DCw9oO1KYH1KaR6wPq8DnAvMy7flwBegHv7AVcA7gLcDVw3/AZD7XNKw34HPJUmSXsGoYZ5S+h6w84DmC4Eb8/KNwLsa2m9KdfcCx0XEScA5wF0ppZ0ppV3AXcDSvG1GSunelFICbmp4LEmSNAaH+5p5Z0rpqbz8NNCZl2cDTzb025rbXql96wjtkiRpjNqP9AFSSiki0qtRzGgiYjn1y/d0dnZSq9Wa8bRN19/fP2GPrRU4fmVz/MbPeP+7Nmvsjsb/H4cb5tsj4qSU0lP5UvmO3L4NOLmh35zctg3oPqC9ltvnjNB/RCmlG4AbABYuXJi6u7sP1rVotVqNiXpsrcDxK5vjN07uuH3c/12bMnZNOI7DcbiX2dcAwzPSLwa+2dB+UZ7VfjrwXL4cfydwdkQcnye+nQ3cmbc9HxGn51nsFzU8liRJGoNRz8wjopf6WfWsiNhKfVb61cAtEdEDPAG8L3dfC5wHbAZ+CXwQIKW0MyL+GLg/9/t0Sml4Ut2Hqc+YPwZYl2+SJGmMRg3zlNKyg2xaMkLfBFx2kMdZDaweof0BYMFodUiSyjW960r+1Y1Xjt7xSN04epcjMb0L4PzxfZLDcMQT4CRJGs0LfVez5erxDcFmvGY+98rbx/XxD5cf5ypJUuEMc0mSCmeYS5JUOMNckqTCGeaSJBXOMJckqXCGuSRJhTPMJUkqnGEuSVLhDHNJkgpnmEuSVDjDXJKkwhnmkiQVzjCXJKlwhrkkSYUzzCVJKpxhLklS4QxzSZIKZ5hLklQ4w1ySpMIZ5pIkFc4wlySpcIa5JEmFM8wlSSqcYS5JUuEMc0mSCmeYS5JUuPaqC5AktYa5V94+/k9yx/g+x2uPmTyuj3+4DHNJ0rjbcvX54/4cc6+8vSnPczTyMrskSYUzzCVJKpxhLklS4QxzSZIKZ5hLklQ4w1ySpMIZ5pIkFc4wlySpcIa5JEmFM8wlSSqcYS5JUuEMc0mSCmeYS5JUOMNckqTCGeaSJBXOMJckqXCGuSRJhTPMJUkqnGEuSVLhDHNJkgrXXnUBkiSNJCIOfZ9rDv15UkqHvtNRxjNzSdJRKaV0SLcNGzYc8j4TIcjBMJckqXhHTZhHxNKI+ElEbI6IK6uuR5KkUhwVr5lHRBvweeB3gK3A/RGxJqW0qdrKpLGbMmUKe/bs2bfe0dHB7t27K6xIUqs4Ws7M3w5sTik9nlJ6GbgZuLDimqQxGw7yzs5OvvSlL9HZ2cmePXuYMmVK1aVJagFHS5jPBp5sWN+a26QiDAf5008/zdy5c3n66af3Bbokjbc4GmbyRcR7gKUppQ/l9d8D3pFSuvyAfsuB5QCdnZ1vu/nmm5te6xVPXNH05xwv159yfdUlNJ3jV66JNHbQeuPXDP39/UybNq3qMsbN4sWLH0wpLRxp29ES5mcAf5RSOievfwIgpfRnB9tn4cKF6YEHHmhShc1Vq9Xo7u6uugwdgojYd2Y+PH6vf/3r2b59+4R560ur8OevXBN97CLioGF+tFxmvx+YFxFvjIjXAO8H1lRckzRmHR0dbN++nde//vVs2bJlX5B3dHRUXZqkFnBUzGZPKQ1ExOXAnUAbsDql9EjFZUljtnv3bqZMmcL27dv54Ac/CDibXVLzHC1n5qSU1qaUfjOl9BsppZVV1yMdqt27d+/3KVQGuaRmOWrCXJIkHR7DXJKkwhnmkiQVzjCXJKlwhrkkSYUzzCVJKpxhLklS4QxzSZIKZ5hLklQ4w1ySpMIZ5pIkFc4wlySpcIa5JEmFM8wlSSqcYS5JUuEipVR1DYclIp4Bnqi6jnEyC/h51UXosDl+ZXP8yjXRx+6UlNKJI20oNswnsoh4IKW0sOo6dHgcv7I5fuVq5bHzMrskSYUzzCVJKpxhfnS6oeoCdLMaKGkAAATzSURBVEQcv7I5fuVq2bHzNXNJkgrnmbkkSYUzzKVDEBFzI+LHh7nvv4iIr7/aNenXRcSXI+I9I7TvG4OI6I6Ibx9k/y0RMWu869TIDjZ+Orj2qguQWkVK6f8B/oKq0JGMQUQE9Zcmh17dqvRqatVx8sy8IhFxW0Q8GBGPRMTy3NYTEY9GxH0R8X8i4i9y+4kR8XcRcX++nVlt9S2vPSK+GhF9EfH1iDg2n8n9WUT8MCIeiIi3RsSdEfHPEXEpHNlZvV5ZRFwUEQ9FxI8i4q9z81kRcU9EPD58lnewMYiImRHxnfzz+FdANPT/SUTcBPwYODki/nv+OXwoIj7V0K8v/9w+kh/rmOYcffkOYfymRcT6iPjHiHg4Ii7M7SON0//KbRsjojciPpb7/kZE3JF///59RLwpt783In6ca/heBf8MRyal5K2CG3BCvj+G+n++2cAW4ARgMvD3wF/kPn8DLMrLbwD6qq6/VW/AXCABZ+b11cDH8tj919z2WeAhYDpwIrC9Yd8fV30ME+0GnAY8CszK6ycAXwa+Rv2EZT6w+cAxALqBb+fl64A/zMvn5zGelfsPAafnbWdTnzEd+bG/DZyV+w0Ab8n9bgE+UPW/TQm3Qxy/dmBGXp4FbM5jceA4/Wvgh8CU/HP4GPCxvG09MC8vvwO4Oy8/DMzOy8dV/e9yqDcvs1fn9yPiP+Tlk4HfA76bUtoJEBFfA34zb/9tYH796hEAMyJiWkqpv5kFa58nU0r/kJe/Avx+Xl6T7x8GpqWUXgBeiIg9EXFcs4tsIe8EvpZS+jlASmln/lm5LdUvtW6KiM5RHuMs4N15/9sjYlfDtidSSvfm5bPz7Qd5fRowD/gZ8NOU0g9z+4PUA0ajO5TxC+BPI+Is6uE9Gxje1jhOZwLfTCntBnZHxLegfmYP/Bvgaw2/Tzvy/T8AX46IW4BvjM+hjh/DvAIR0U09oM9IKf0yImrAPwFdB9llEvW/OHc3p0KN4sD3cw6v78n3Qw3Lw+v+rDVf4xjEQXuN7sUDHufPUkpfbOwQEXMPeL5B6lfddPhGGr/fpX61620ppb0RsYX62TfsP04HMwn4RUrpLQduSCldGhHvoH5l5sGIeFtK6dnDrr7JfM28Gq8FduUgfxNwOjAV+LcRcXxEtAP/saH/d4Arhlci4tf+I6qp3hARZ+Tl/wRsrLIYcTfw3oiYCRARJxzGY3yP+lgSEecCxx+k353Af8lneETE7Ih43WE8n37lUMbvtcCOHOSLgVMO0u8fgH8XEVPyWF0AkFJ6HvhpRLw3P1dExJvz8m+klL6fUvpD4BnqV0yL4dlCNe4ALo2IPuAnwL3ANuBPgfuAndTP1J/L/X8f+HxEPER9zL4HXNrsorXPT4DLImI1sAn4Ag1/bKm5UkqPRMRK4LsRMcivLoEfik8BvRHxCHAP9cvmIz3XdyKiC/i/+TJtP/AB6mfiOgyHOH5fBb4VEQ8DD1D/PTnSY94fEWuoz13ZTv2lr+Hfp78LfCEi/if1+Uk3Az8C/ndEzKN+FWB9biuGnwB3FBl+HTyfmd8KrE4p3Vp1XZJUmobfp8dSPwFanlL6x6rrGi+emR9d/igifpv6a0DfAW6ruB5JKtUNETGf+u/TGydykINn5pIkFc8JcJIkFc4wlySpcIa5JEmFM8wlSSqcYS5JUuEMc0mSCvf/AZFoTZ66p9NBAAAAAElFTkSuQmCC\n"
          },
          "metadata": {
            "needs_background": "light"
          }
        }
      ],
      "source": [
        "fig, ax = plt.subplots( figsize=( 8,8 ) )\n",
        "df.boxplot( )\n",
        "plt.show( )"
      ]
    },
    {
      "cell_type": "code",
      "execution_count": null,
      "metadata": {
        "colab": {
          "base_uri": "https://localhost:8080/",
          "height": 483
        },
        "id": "7AHUJtpFcgRZ",
        "outputId": "6ad6b961-ecf1-4167-d73a-e5ac2cbf6489"
      },
      "outputs": [
        {
          "output_type": "display_data",
          "data": {
            "text/plain": [
              "<Figure size 576x576 with 1 Axes>"
            ],
            "image/png": "iVBORw0KGgoAAAANSUhEUgAAAeAAAAHSCAYAAAA0ZhgzAAAABHNCSVQICAgIfAhkiAAAAAlwSFlzAAALEgAACxIB0t1+/AAAADh0RVh0U29mdHdhcmUAbWF0cGxvdGxpYiB2ZXJzaW9uMy4yLjIsIGh0dHA6Ly9tYXRwbG90bGliLm9yZy+WH4yJAAAYiklEQVR4nO3de5Cdd33f8c9XXkMo2Nyz2Jggz9QFGTPGyZbh4qErzCUUpkBLmchMapodazLEgk46BrVqh3im24jxJBRomlYgitrCAiHlMlYwZhSdpA4JBBcMkpdbiAFzcyjG8bqYYPvXP3TsykRCR9pz9Fudfb1mdvZcnvOcr1aPz9vPs885qtZaAICTa0PvAQBgPRJgAOhAgAGgAwEGgA4EGAA6EGAA6GDmZD7ZYx7zmLZx48aT+ZSnpDvvvDMPfehDe4/BFLFNMW62qdHccMMN32utPfZI953UAG/cuDGf/vSnT+ZTnpIGg0Hm5+d7j8EUsU0xbrap0VTV1452n0PQANCBAANABwIMAB0IMAB0IMAA0IEAA0AHAgwAHQgwAHQgwADQgQADQAcCDAAdCDAAdCDAANCBAANABwIMAB0IMAB0IMAA0IEAA0AHM70HWC+qamLrbq1NbN0ATIY94JOktTby1xPfcM1xLQ/AqUeAAaADAQaADgQYADoQYADoQIABoAMBBoAOBBgAOhBgAOhAgAGgAwEGgA4EGAA6EGAA6ECAAaADAQaADgQYADoQYADoQIABoAMBBoAOBBgAOhgpwFX1iKr6QFV9oaqWq+qZVfWoqvp4VX15+P2Rkx4WAKbFqHvAb0lybWvtyUkuTLKcZHuSfa2185LsG14HAEZwzABX1cOTPCfJ7iRprf1Na+0HSV6aZM9wsT1JXjapIQFg2syMsMy5Sf4qyX+tqguT3JDkdUlmW2vfHi7znSSzR3pwVW1NsjVJZmdnMxgMVjvzuuDnxDitrKzYphgr29TqjRLgmSQ/n2Rba+2TVfWW/MTh5tZaq6p2pAe31nYl2ZUkc3NzbX5+fnUTrwfX7o2fE+M0GAxsU4yVbWr1Rvkd8C1JbmmtfXJ4/QM5FOTvVtVZSTL8futkRgSA6XPMALfWvpPkG1X1pOFNlyS5KclHklw2vO2yJB+eyIQAMIVGOQSdJNuSvLuqHpTkq0n+eQ7F+/1VtZDka0leOZkRAWD6jBTg1tpnk8wd4a5LxjsOAKwPPgkLADoQYADoQIABoAMBBoAOBBgAOhBgAOhAgAGgAwEGgA4EGAA6EGAA6ECAAaADAQaADgQYADoQYADoQIABoAMBBoAOBBgAOhBgAOhAgAGgAwEGgA4EGAA6EGAA6ECAAaADAQaADgQYADoQYADoQIABoAMBBoAOBBgAOhBgAOhAgAGgAwEGgA4EGAA6EGAA6ECAYYotLS3lggsuyCWXXJILLrggS0tLvUcChmZ6DwBMxtLSUnbs2JHdu3fnnnvuyWmnnZaFhYUkyZYtWzpPB9gDhim1uLiY3bt3Z/PmzZmZmcnmzZuze/fuLC4u9h4NiADD1FpeXs4tt9zygEPQt9xyS5aXl3uPBsQhaJhaZ599dl7/+tfnPe95z/2HoC+99NKcffbZvUcDYg8YplpV/dTrQD/2gGFKfetb38q73vWubNu2LcvLy9m0aVPe9KY35dWvfnXv0YDYA4aptWnTppxzzjk5cOBA9u3blwMHDuScc87Jpk2beo8GRIBhau3YsSMLCwvZv39/7r777uzfvz8LCwvZsWNH79GAOAQNU+u+9/oefgh6cXHRe4BhjRBgmGJbtmzJli1bMhgMMj8/33sc4DAOQQNABwIMAB0IMAB0IMAA0IEAA0AHzoJehQuvui63//DHE1n3xu17J7Lehz/k9Nz4xhdMZN0AjE6AV+H2H/44N+988djXO8m3jEwq7KxNS0tLWVxcvP99wDt27PA+YFgjRgpwVd2c5I4k9yS5u7U2V1WPSvK+JBuT3Jzkla212yYzJnC8lpaWsmPHjuzevfv+fw1pYWEhSUQY1oDj+R3w5tba01prc8Pr25Psa62dl2Tf8DqwRiwuLmb37t3ZvHlzZmZmsnnz5uzevTuLi4u9RwOyupOwXppkz/DyniQvW/04wLgsLy/n4osvfsBtF198cZaXlztNBBxu1AC3JNdV1Q1VtXV422xr7dvDy99JMjv26YATtmnTplx//fUPuO3666/3ryHBGjHqSVgXt9a+WVU/m+TjVfWFw+9srbWqakd64DDYW5NkdnY2g8FgNfOuOZP486ysrEz05zRtfwcc2ctf/vK86lWvypVXXplzzz03b37zm3P11VdnYWHBNsCqTfp1aj0YKcCttW8Ov99aVR9M8vQk362qs1pr366qs5LcepTH7kqyK0nm5ubaVH0g/LV7J3K28kQ/OH9CM7P2zM/P5/zzz3/AWdC/9Vu/5QQsxsI/8LF6xzwEXVUPraoz7ruc5AVJDiT5SJLLhotdluTDkxoSODFbtmzJgQMHsm/fvhw4cEB8YQ0Z5XfAs0mur6obk3wqyd7W2rVJdiZ5flV9OcnzhteBNWRpaSkXXHBBLrnkklxwwQVZWlrqPRIwdMxD0K21rya58Ai3/58kl0xiKGD1vA8Y1jafBQ1TyvuAYW0TYJhS3gcMa5sAw5TyPmBY2wQYptSOHTuysLCQ/fv35+67787+/fuzsLCQHTt29B4NiH8NCabWli1b8olPfCIvetGL8qMf/SgPfvCDc/nllzsBC9YIAYYptbS0lL179+ajH/3oA86CftazniXCsAYIMEypxcXFXHrppdm2bdv9n4R16aWXZnFxUYBhDRBgmFI33XRTvv71r+euu+7Kvffemy996Ut561vfmpWVld6jARFgmFobNmzInXfemauvvjrnn39+brrpplx55ZXZsMG5l7AW+C8RptQ999yTM888MxdddFFmZmZy0UUX5cwzz8w999zTezQgAgxT7fLLL8+2bdvywhe+MNu2bcvll1/eeyRgyCFoOEVV1TGXufrqq++/fPDgwRw8eHCkx7Z2xH/eGxgje8Bwimqt/dSvK664Ihs2bMjjHve4pA5937BhQ6644opjPhaYPHvAMKXe9ra3JUne/va3J+3e3HbbbXnNa15z/+1AX/aAYYq97W1vy1133ZUnvuGa3HXXXeILa4gAA0AHAgwAHQgwAHQgwADQgQADQAcCDAAdCDAAdCDAANCBAANABwIMAB0IMAB0IMAA0IEAA0AHAgwAHQgwAHQgwADQgQADQAcCDAAdCDAAdCDAANCBAANABwIMAB0IMAB0IMAA0IEAA0AHAgwAHQgwAHQgwADQgQADQAcCDAAdCDAAdCDAANCBAANABwIMAB0IMAB0IMAA0IEAA0AHAgwAHYwc4Ko6rao+U1XXDK+fW1WfrKqvVNX7qupBkxsTAKbL8ewBvy7J8mHX35Tkza21v5vktiQL4xwMAKbZSAGuqnOSvDjJO4bXK8lzk3xguMieJC+bxIAAMI1G3QP+D0len+Te4fVHJ/lBa+3u4fVbkjx+zLMBwNSaOdYCVfWSJLe21m6oqvnjfYKq2ppka5LMzs5mMBgc7yrWtEn8eVZWVib6c5q2vwNG4++dcZr069R6cMwAJ3l2kn9UVf8wyc8kOTPJW5I8oqpmhnvB5yT55pEe3FrblWRXkszNzbX5+flxzL02XLs3k/jzDAaDiaw3ycRmZo3z986YTfR1ap045iHo1tq/aq2d01rbmOSXkvxha+1VSfYnecVwscuSfHhiUwLAlFnN+4DfkOTXq+orOfQ74d3jGQkApt8oh6Dv11obJBkML381ydPHPxIATD+fhAUAHRzXHjAPdMam7Xnqnu2TWfmeyaz2jE3Jobd0A9CTAK/CHcs7c/PO8cdskmcXbty+dyLrBeD4OAQNAB0IMAB0IMAA0IEAA0AHAgwAHQgwAHQgwADQgQADQAcCDAAdCDAAdCDAANCBAANABwIMAB0IMAB0IMAA0IEAA0AHAgwAHQgwAHQgwADQgQADQAcCDAAdCDAAdCDAANCBAANABwIMAB3M9B4A+P8uvOq63P7DH09k3Ru37x37Oh/+kNNz4xtfMPb1wnogwLCG3P7DH+fmnS8e+3oHg0Hm5+fHvt5JRB3WC4egAaADAQaADgQYADoQYADoQIABoAMBBoAOBBgAOhBgAOhAgAGgAwEGgA4EGAA6EGAA6ECAAaADAQaADgQYADoQYADoQIABoAMBBoAOBBgAOhBgAOhAgAGgAwEGgA4EGAA6OGaAq+pnqupTVXVjVR2sqquGt59bVZ+sqq9U1fuq6kGTHxcApsPMCMv8KMlzW2srVXV6kuur6qNJfj3Jm1tr762q/5xkIcnvTnBWmHpnbNqep+7ZPpmV7xn/Ks/YlCQvHv+KYR04ZoBbay3JyvDq6cOvluS5SS4d3r4nyW9EgGFV7ljemZt3jj9og8Eg8/PzY1/vxu17x75OWC9G+h1wVZ1WVZ9NcmuSjyf5iyQ/aK3dPVzkliSPn8yIADB9RjkEndbaPUmeVlWPSPLBJE8e9QmqamuSrUkyOzubwWBwAmOuXZP486ysrEz05zRtfwfT5lTbpmxP69OkX6fWg5ECfJ/W2g+qan+SZyZ5RFXNDPeCz0nyzaM8ZleSXUkyNzfXJnEYrJtr907ksN6kDhcmmdjMjMmptk3Zntatib5OrROjnAX92OGeb6rqIUmen2Q5yf4krxgudlmSD09qSACYNqPsAZ+VZE9VnZZDwX5/a+2aqropyXur6t8l+UyS3ROcEwCmyihnQX8uyUVHuP2rSZ4+iaEAYNr5JCwA6ECAAaADAQaADgQYADoQYADoQIABoAMBBoAOBBgAOhBgAOhAgAGgAwEGgA4EGAA6EGAA6ECAAaADAQaADgQYADoQYADoQIABoIOZ3gMAD7Rx+97JrPja8a/34Q85fezrhPVCgFfpVHqxTLxgrnU373zxRNa7cfveia0bODECvApeLAE4UX4HDAAdCDAAdCDAANCBAANABwIMAB0IMAB0IMAA0IEAA0AHAgwAHQgwAHQgwADQgQADQAcCDAAdCDAAdCDAANCBAANABwIMAB0IMAB0IMAA0IEAA0AHAgwAHQgwAHQgwADQgQADQAcCDAAdCDAAdCDAANCBAANABwIMAB0IMAB0IMAA0IEAA0AHxwxwVT2hqvZX1U1VdbCqXje8/VFV9fGq+vLw+yMnPy4ATIdR9oDvTvIvW2vnJ3lGkl+rqvOTbE+yr7V2XpJ9w+sAwAiOGeDW2rdba/97ePmOJMtJHp/kpUn2DBfbk+RlkxoSAKbNzPEsXFUbk1yU5JNJZltr3x7e9Z0ks0d5zNYkW5NkdnY2g8HgBEddX/ycGDfbFOO0srJim1qlkQNcVQ9L8vtJ/kVr7a+r6v77WmutqtqRHtda25VkV5LMzc21+fn5VQ28Lly7N35OjJVtijEbDAa2qVUa6Szoqjo9h+L77tba/xze/N2qOmt4/1lJbp3MiAAwfUY5C7qS7E6y3Fr77cPu+kiSy4aXL0vy4fGPBwDTaZRD0M9O8stJPl9Vnx3e9q+T7Ezy/qpaSPK1JK+czIgAMH2OGeDW2vVJ6ih3XzLecQBgffBJWADQgQADQAcCDAAdCDAAdCDAANCBAANABwIMAB0c1z/GwIk7/LOzR1r+TaMv29oRP4YbgDXMHvBJ0lob+Wv//v3HtTwApx4BBoAOBBgAOhBgAOhAgAGgAwEGgA4EGAA6EGAA6ECAAaADAQaADgQYADrwWdBwivL54nBqswcMpyifLw6nNgEGgA4EGAA6EGAA6ECAAaADAQaADgQYADoQYADoQIABoAMBBoAOBBgAOhBgAOhAgAGgAwEGgA4EGAA6EGAA6ECAAaADAQaADgQYADoQYADoQIABoAMBBoAOBBgAOhBgAOhAgAGgAwEGgA4EGAA6EGAA6ECAAaADAQaADgQYADoQYADoQIABoINjBriq3llVt1bVgcNue1RVfbyqvjz8/sjJjgkA02WUPeB3JfnFn7hte5J9rbXzkuwbXgcARnTMALfW/jjJ93/i5pcm2TO8vCfJy8Y8FwBMtZkTfNxsa+3bw8vfSTJ7tAWramuSrUkyOzubwWBwgk+5fqysrPg5MVa2KcbNNrV6Jxrg+7XWWlW1n3L/riS7kmRubq7Nz8+v9imn3mAwiJ8T42SbYtxsU6t3omdBf7eqzkqS4fdbxzcSAEy/Ew3wR5JcNrx8WZIPj2ccAFgfRnkb0lKSP03ypKq6paoWkuxM8vyq+nKS5w2vAwAjOubvgFtrW45y1yVjngUA1g2fhAUAHQgwAHQgwADQgQADQAcCDAAdCDAAdCDAANCBAANABwIMAB0IMAB0IMAA0IEAA0AHAgwAHQgwAHQgwADQgQADQAcCDAAdCDAAdCDAANCBAANABwIMAB0IMAB0IMAA0IEAA0AHAgwAHcz0HgCAtaGqJrbu1trE1n2qsgcMQJJDkRz164lvuOa4ludvE2AA6ECAAaADAQaADgQYADoQYADoQIABoAMBBoAOBBgAOhBgAOhAgAGgAwEGgA4EGAA6EGAA6ECAAaADAQaADgQYADoQYADoYKb3AABMzoVXXZfbf/jjiax74/a9Y1/nwx9yem584wvGvt61SIABptjtP/xxbt754rGvdzAYZH5+fuzrnUTU1yqHoAGgAwEGgA4EGAA6EGAA6MBJWABT7IxN2/PUPdsns/I941/lGZuSZPwnja1FAgwwxe5Y3uks6DVqVYegq+oXq+qLVfWVqprQ/2IBwPQ54QBX1WlJfifJi5Kcn2RLVZ0/rsEAYJqtZg/46Um+0lr7amvtb5K8N8lLxzMWAEy31QT48Um+cdj1W4a3AQDHMPGTsKpqa5KtSTI7O5vBYDDppzzlrays+DkxVrap9W3UE5u+9qaXTGyGJ77hmpGWe+jpWTfb6moC/M0kTzjs+jnD2x6gtbYrya4kmZuba5M4a27aTOrsQtYv29T6dfP8cSy8s428qG1q9VZzCPrPk5xXVedW1YOS/FKSj4xnLACYbie8B9xau7uqrkjysSSnJXlna+3g2CYDgCm2qt8Bt9b+IMkfjGkWAFg3fBY0AHQgwADQgQADQAcCDAAdCDAAdCDAANCBAANABwIMAB0IMAB0IMAA0IEAA0AHAgwAHQgwAHQgwADQgQADQAfVWjt5T1b1V0m+dtKe8NT1mCTf6z0EU8U2xbjZpkbzxNbaY490x0kNMKOpqk+31uZ6z8H0sE0xbrap1XMIGgA6EGAA6ECA16ZdvQdg6timGDfb1Cr5HTAAdGAPGAA6EGCYAlW1saoOnOBjz66qD4x7Jta+qnpXVb3iCLffv01U1XxVXXOUx99cVY+Z9JzTaqb3AEBfrbVvJflbL8KsX6vZJqqqcujXm/eOd6rpYw+4k6r6UFXdUFUHq2rr8LaFqvpSVX2qqt5eVf9xePtjq+r3q+rPh1/P7js9a9RMVb27qpar6gNV9XeGeyi/WVWfrapPV9XPV9XHquovqupXk9XtPXNqqap/VlWfq6obq+q/D29+TlV9oqq+et/e8NG2iap6dFVdN3zdekeSOmz5L1bVf0tyIMkTqurK4evV56rqqsOWWx6+vh0crushJ+dPv/YIcD+/0lr7hSRzSV5bVY9P8m+TPCPJs5M8+bBl35Lkza21v5/knyR5x8kellPCk5L8p9bapiR/neQ1w9u/3lp7WpL/leRdObRn84wkV/UYkj6q6ilJ/k2S57bWLkzyuuFdZyW5OMlLkuw8xmremOT61tpTknwwyc8ddt95ObT9PSWHtsXzkjw9ydOS/EJVPeew5X5nuNwPcug1bV1yCLqf11bVy4eXn5Dkl5P8UWvt+0lSVb+X5O8N739ekvMPHdlJkpxZVQ9rra2czIFZ877RWvuT4eX/keS1w8sfGX7/fJKHtdbuSHJHVf2oqh5xsoekm+cm+b3W2veSpLX2/eFryoeGh4tvqqrZY6zjOUn+8fDxe6vqtsPu+1pr7c+Gl18w/PrM8PrDcii8X0/yl621zw5vvyHJxlX9qU5hAtxBVc3nUFSf2Vr7v1U1SPKFJJuO8pANSZ7RWrvr5EzIKeon31N43/UfDb/fe9jl+657DeDwbaKOutSx3fkT6/nN1tp/OXyBqtr4E893TxKHoDmpHp7ktmF8n5xDhwMfmuQfVNUjq2omDzwsc12SbfddqaqnndRpOVX8XFU9c3j50iTX9xyGNecPk/zTqnp0klTVo05gHX+cQ9tWqupFSR55lOU+luRXquphw2UfX1U/ewLPN9UEuI9rc+iEmeUc+p3LnyX5ZpJ/n+RTSf4kyc1Jbh8u/9okc8OTGW5K8qsnfWJOBV9M8mvD7eqRSX638zysIa21g0kWk/xRVd2Y5LdPYDVX5dBJWwdz6FD014/yXNcleU+SP62qzyf5QJIzTmjwKeaTsNaQ+36vO9wD/mCSd7bWPth7LgDGzx7w2vIbVfXZHDqN/y+TfKjzPABMiD1gAOjAHjAAdCDAANCBAANABwIMAB0IMAB0IMAA0MH/Ax9ux7JgifvTAAAAAElFTkSuQmCC\n"
          },
          "metadata": {
            "needs_background": "light"
          }
        }
      ],
      "source": [
        "fig, ax = plt.subplots( figsize=( 8,8 ) )\n",
        "df.boxplot( column=['age','bmi','children'] )\n",
        "plt.show( )"
      ]
    },
    {
      "cell_type": "code",
      "execution_count": null,
      "metadata": {
        "colab": {
          "base_uri": "https://localhost:8080/"
        },
        "id": "uvdO5CkNlXKN",
        "outputId": "97e6d529-0aef-44ec-c9f5-6032fd3f6146"
      },
      "outputs": [
        {
          "output_type": "stream",
          "name": "stdout",
          "text": [
            "Os outliers da varíavel `Charges`correspondem a 10.20% do dataset\n"
          ]
        }
      ],
      "source": [
        "# Verificar qual o percentual do dataset representa o limite superior da varíavel Charges\n",
        "print( 'Os outliers da varíavel `Charges`correspondem a {:.2%} do dataset'.format( len( df[df['charges'] > 34489.35] )/df.shape[0] ) )"
      ]
    },
    {
      "cell_type": "markdown",
      "metadata": {
        "id": "_-rdkZ_xIlV2"
      },
      "source": [
        "#### 2.3.3 Distribuição das entradas nas variáveis categoricas"
      ]
    },
    {
      "cell_type": "markdown",
      "metadata": {
        "id": "AlBBn6UILHdW"
      },
      "source": [
        "Ao avaliar a distribuiçao das variáveis categóricas, nota-se que:\n",
        "\n",
        "- A variável `sex` está, relativamente, equilibrada, entre os valores Male e Female.\n",
        "- Cerca de 80% do dataset conta com informações de clientes não fumantes.\n",
        "- A região southeast conta com o maior número de amostras, representando cerca de 27,4% do dataset."
      ]
    },
    {
      "cell_type": "code",
      "execution_count": null,
      "metadata": {
        "colab": {
          "base_uri": "https://localhost:8080/",
          "height": 725
        },
        "id": "96J3wjE1IqTA",
        "outputId": "73434cca-685a-4a70-c23d-cdec16eedfcd"
      },
      "outputs": [
        {
          "output_type": "display_data",
          "data": {
            "text/plain": [
              "<Figure size 864x720 with 4 Axes>"
            ],
            "image/png": "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\n"
          },
          "metadata": {}
        }
      ],
      "source": [
        "sns.set( )\n",
        "fig, ax = plt.subplots( ncols = 2, nrows = 2, figsize = ( 12, 10 ) )\n",
        "\n",
        "# Plot distribuição da variável `sex`\n",
        "sns.countplot( x = 'sex', data=df, ax = ax[0, 0] )\n",
        "ax[0, 0].set_title( 'Distribuição `sex`' )\n",
        "\n",
        "# Plot distribuição da variável `children`\n",
        "sns.countplot( x = 'children', data=df, ax = ax[0, 1] )\n",
        "ax[0, 1].set_title( 'Distribuição `children`' )\n",
        "\n",
        "# Plot distribuição da variável `smoker`\n",
        "sns.countplot( x = 'smoker', data=df, ax = ax[1, 0] )\n",
        "ax[1, 0].set_title( 'Distribuição `smoker`' )\n",
        "\n",
        "# Plot distribuição da variável `region`\n",
        "sns.countplot( x = 'region', data=df, ax = ax[1, 1] )\n",
        "ax[1, 1].set_title( 'Distribuição `region`' )\n",
        "\n",
        "plt.tight_layout( )"
      ]
    },
    {
      "cell_type": "code",
      "source": [
        "# Distribuição da variável `sex`\n",
        "print( 'A distribuição do valores na variável `sex` é:\\n{}\\n'.format( df['sex'].value_counts( normalize=True, sort=True ) ) )\n",
        "\n",
        "# Distribuição da variável `children`\n",
        "print( 'A distribuição do valores na variável `children` é:\\n{}\\n'.format( df['children'].value_counts( normalize=True, sort=True ) ) )\n",
        "\n",
        "# Distribuição da variável `smoker`\n",
        "print( 'A distribuição do valores na variável `smoker` é:\\n{}\\n'.format( df['smoker'].value_counts( normalize=True, sort=True ) ) )\n",
        "\n",
        "# Distribuição da variável `region`\n",
        "print( 'A distribuição do valores na variável `region` é:\\n{}\\n'.format( df['region'].value_counts( normalize=True, sort=True ) ) )"
      ],
      "metadata": {
        "colab": {
          "base_uri": "https://localhost:8080/"
        },
        "id": "iIdE4SA3T_3i",
        "outputId": "85eaaa59-4bd6-4c93-9f3c-ff694e320c19"
      },
      "execution_count": null,
      "outputs": [
        {
          "output_type": "stream",
          "name": "stdout",
          "text": [
            "A distribuição do valores na variável `sex` é:\n",
            "female    0.509235\n",
            "male      0.490765\n",
            "Name: sex, dtype: float64\n",
            "\n",
            "A distribuição do valores na variável `children` é:\n",
            "0    0.430959\n",
            "1    0.241865\n",
            "2    0.179420\n",
            "3    0.114336\n",
            "4    0.018470\n",
            "5    0.014952\n",
            "Name: children, dtype: float64\n",
            "\n",
            "A distribuição do valores na variável `smoker` é:\n",
            "no     0.798593\n",
            "yes    0.201407\n",
            "Name: smoker, dtype: float64\n",
            "\n",
            "A distribuição do valores na variável `region` é:\n",
            "southeast    0.274406\n",
            "southwest    0.253298\n",
            "northeast    0.238347\n",
            "northwest    0.233949\n",
            "Name: region, dtype: float64\n",
            "\n"
          ]
        }
      ]
    },
    {
      "cell_type": "markdown",
      "metadata": {
        "id": "uKORTEEePeSy"
      },
      "source": [
        "### 2.4.0 Explorar dados\n",
        "\n",
        "Nesta etapa será realizada uma análise sobre a relação das variáveis, referente às caracteristicas de cada cliente, com a variável alvo do projeto.\n",
        "\n",
        "A visualização mostra valores como valores mínimos, máximos, média, mediana e a contagem de quantos cliente aprensenta tal atribuição.\n",
        "\n",
        "É importante ressaltar que, há presença de outliers na variável alvo, `charges`. Por conta da existencia desses dados distorcidos, os valores encontrados nas colunas de \"média\" podem apresentar distorções. No entanto, quando se desejar verificar o valor médio, da condição analisada, serão considerados os valores de mediana."
      ]
    },
    {
      "cell_type": "markdown",
      "metadata": {
        "id": "KifegWQtlIPI"
      },
      "source": [
        "#### 2.4.1 Charges por Sexo\n",
        "\n",
        "Objetivo de avaliar se o sexo do cliente apresenta influência no valor cobrado.\n",
        "\n",
        "- O dataset conta com uma pequena superioridade do maior de entradas do sexo feminino.\n",
        "- O sexo feminimo tende a ter maior valores, de acordo com as medianas."
      ]
    },
    {
      "cell_type": "code",
      "execution_count": null,
      "metadata": {
        "colab": {
          "base_uri": "https://localhost:8080/",
          "height": 144
        },
        "id": "vkFs85wGLWC9",
        "outputId": "283ba6a6-0c23-487c-a047-d389d5d01258"
      },
      "outputs": [
        {
          "output_type": "execute_result",
          "data": {
            "text/plain": [
              "              min          mean      median          max  count\n",
              "sex                                                            \n",
              "female  1607.5101  12669.593126  9411.00500  63770.42801    579\n",
              "male    1121.8739  13621.904495  9285.25365  62592.87309    558"
            ],
            "text/html": [
              "\n",
              "  <div id=\"df-0a798a1e-5739-4b5d-a6d4-8cf43dfc3207\">\n",
              "    <div class=\"colab-df-container\">\n",
              "      <div>\n",
              "<style scoped>\n",
              "    .dataframe tbody tr th:only-of-type {\n",
              "        vertical-align: middle;\n",
              "    }\n",
              "\n",
              "    .dataframe tbody tr th {\n",
              "        vertical-align: top;\n",
              "    }\n",
              "\n",
              "    .dataframe thead th {\n",
              "        text-align: right;\n",
              "    }\n",
              "</style>\n",
              "<table border=\"1\" class=\"dataframe\">\n",
              "  <thead>\n",
              "    <tr style=\"text-align: right;\">\n",
              "      <th></th>\n",
              "      <th>min</th>\n",
              "      <th>mean</th>\n",
              "      <th>median</th>\n",
              "      <th>max</th>\n",
              "      <th>count</th>\n",
              "    </tr>\n",
              "    <tr>\n",
              "      <th>sex</th>\n",
              "      <th></th>\n",
              "      <th></th>\n",
              "      <th></th>\n",
              "      <th></th>\n",
              "      <th></th>\n",
              "    </tr>\n",
              "  </thead>\n",
              "  <tbody>\n",
              "    <tr>\n",
              "      <th>female</th>\n",
              "      <td>1607.5101</td>\n",
              "      <td>12669.593126</td>\n",
              "      <td>9411.00500</td>\n",
              "      <td>63770.42801</td>\n",
              "      <td>579</td>\n",
              "    </tr>\n",
              "    <tr>\n",
              "      <th>male</th>\n",
              "      <td>1121.8739</td>\n",
              "      <td>13621.904495</td>\n",
              "      <td>9285.25365</td>\n",
              "      <td>62592.87309</td>\n",
              "      <td>558</td>\n",
              "    </tr>\n",
              "  </tbody>\n",
              "</table>\n",
              "</div>\n",
              "      <button class=\"colab-df-convert\" onclick=\"convertToInteractive('df-0a798a1e-5739-4b5d-a6d4-8cf43dfc3207')\"\n",
              "              title=\"Convert this dataframe to an interactive table.\"\n",
              "              style=\"display:none;\">\n",
              "        \n",
              "  <svg xmlns=\"http://www.w3.org/2000/svg\" height=\"24px\"viewBox=\"0 0 24 24\"\n",
              "       width=\"24px\">\n",
              "    <path d=\"M0 0h24v24H0V0z\" fill=\"none\"/>\n",
              "    <path d=\"M18.56 5.44l.94 2.06.94-2.06 2.06-.94-2.06-.94-.94-2.06-.94 2.06-2.06.94zm-11 1L8.5 8.5l.94-2.06 2.06-.94-2.06-.94L8.5 2.5l-.94 2.06-2.06.94zm10 10l.94 2.06.94-2.06 2.06-.94-2.06-.94-.94-2.06-.94 2.06-2.06.94z\"/><path d=\"M17.41 7.96l-1.37-1.37c-.4-.4-.92-.59-1.43-.59-.52 0-1.04.2-1.43.59L10.3 9.45l-7.72 7.72c-.78.78-.78 2.05 0 2.83L4 21.41c.39.39.9.59 1.41.59.51 0 1.02-.2 1.41-.59l7.78-7.78 2.81-2.81c.8-.78.8-2.07 0-2.86zM5.41 20L4 18.59l7.72-7.72 1.47 1.35L5.41 20z\"/>\n",
              "  </svg>\n",
              "      </button>\n",
              "      \n",
              "  <style>\n",
              "    .colab-df-container {\n",
              "      display:flex;\n",
              "      flex-wrap:wrap;\n",
              "      gap: 12px;\n",
              "    }\n",
              "\n",
              "    .colab-df-convert {\n",
              "      background-color: #E8F0FE;\n",
              "      border: none;\n",
              "      border-radius: 50%;\n",
              "      cursor: pointer;\n",
              "      display: none;\n",
              "      fill: #1967D2;\n",
              "      height: 32px;\n",
              "      padding: 0 0 0 0;\n",
              "      width: 32px;\n",
              "    }\n",
              "\n",
              "    .colab-df-convert:hover {\n",
              "      background-color: #E2EBFA;\n",
              "      box-shadow: 0px 1px 2px rgba(60, 64, 67, 0.3), 0px 1px 3px 1px rgba(60, 64, 67, 0.15);\n",
              "      fill: #174EA6;\n",
              "    }\n",
              "\n",
              "    [theme=dark] .colab-df-convert {\n",
              "      background-color: #3B4455;\n",
              "      fill: #D2E3FC;\n",
              "    }\n",
              "\n",
              "    [theme=dark] .colab-df-convert:hover {\n",
              "      background-color: #434B5C;\n",
              "      box-shadow: 0px 1px 3px 1px rgba(0, 0, 0, 0.15);\n",
              "      filter: drop-shadow(0px 1px 2px rgba(0, 0, 0, 0.3));\n",
              "      fill: #FFFFFF;\n",
              "    }\n",
              "  </style>\n",
              "\n",
              "      <script>\n",
              "        const buttonEl =\n",
              "          document.querySelector('#df-0a798a1e-5739-4b5d-a6d4-8cf43dfc3207 button.colab-df-convert');\n",
              "        buttonEl.style.display =\n",
              "          google.colab.kernel.accessAllowed ? 'block' : 'none';\n",
              "\n",
              "        async function convertToInteractive(key) {\n",
              "          const element = document.querySelector('#df-0a798a1e-5739-4b5d-a6d4-8cf43dfc3207');\n",
              "          const dataTable =\n",
              "            await google.colab.kernel.invokeFunction('convertToInteractive',\n",
              "                                                     [key], {});\n",
              "          if (!dataTable) return;\n",
              "\n",
              "          const docLinkHtml = 'Like what you see? Visit the ' +\n",
              "            '<a target=\"_blank\" href=https://colab.research.google.com/notebooks/data_table.ipynb>data table notebook</a>'\n",
              "            + ' to learn more about interactive tables.';\n",
              "          element.innerHTML = '';\n",
              "          dataTable['output_type'] = 'display_data';\n",
              "          await google.colab.output.renderOutput(dataTable, element);\n",
              "          const docLink = document.createElement('div');\n",
              "          docLink.innerHTML = docLinkHtml;\n",
              "          element.appendChild(docLink);\n",
              "        }\n",
              "      </script>\n",
              "    </div>\n",
              "  </div>\n",
              "  "
            ]
          },
          "metadata": {},
          "execution_count": 16
        }
      ],
      "source": [
        "# Ver valores estatísticos de \"charges\" para cada as entradas de \"sex\"\n",
        "df.groupby( \"sex\" )[\"charges\"].agg( ['min','mean','median','max', \"count\"] )"
      ]
    },
    {
      "cell_type": "markdown",
      "metadata": {
        "id": "J-KPtfRflLac"
      },
      "source": [
        "#### 2.4.2 Charges por Smoking\n",
        "\n",
        "Objetivo de avaliar se o fato do cliente fumar ou não, apresenta influência no valor cobrado.\n",
        "\n",
        "- Maior número de não fumantes\n",
        "- Clientes fumantes apresentam valores bem maiores do que não fumantes."
      ]
    },
    {
      "cell_type": "code",
      "execution_count": null,
      "metadata": {
        "colab": {
          "base_uri": "https://localhost:8080/",
          "height": 144
        },
        "id": "s3apJeYLk70X",
        "outputId": "e287d7d1-614c-4c50-c593-244c7ed70a57"
      },
      "outputs": [
        {
          "output_type": "execute_result",
          "data": {
            "text/plain": [
              "               min          mean      median          max  count\n",
              "smoker                                                          \n",
              "no       1121.8739   8445.568239   7345.4053  36910.60803    908\n",
              "yes     12829.4551  31738.607714  34439.8559  63770.42801    229"
            ],
            "text/html": [
              "\n",
              "  <div id=\"df-09abb8ec-d00d-4575-baa4-249c56b9b9b2\">\n",
              "    <div class=\"colab-df-container\">\n",
              "      <div>\n",
              "<style scoped>\n",
              "    .dataframe tbody tr th:only-of-type {\n",
              "        vertical-align: middle;\n",
              "    }\n",
              "\n",
              "    .dataframe tbody tr th {\n",
              "        vertical-align: top;\n",
              "    }\n",
              "\n",
              "    .dataframe thead th {\n",
              "        text-align: right;\n",
              "    }\n",
              "</style>\n",
              "<table border=\"1\" class=\"dataframe\">\n",
              "  <thead>\n",
              "    <tr style=\"text-align: right;\">\n",
              "      <th></th>\n",
              "      <th>min</th>\n",
              "      <th>mean</th>\n",
              "      <th>median</th>\n",
              "      <th>max</th>\n",
              "      <th>count</th>\n",
              "    </tr>\n",
              "    <tr>\n",
              "      <th>smoker</th>\n",
              "      <th></th>\n",
              "      <th></th>\n",
              "      <th></th>\n",
              "      <th></th>\n",
              "      <th></th>\n",
              "    </tr>\n",
              "  </thead>\n",
              "  <tbody>\n",
              "    <tr>\n",
              "      <th>no</th>\n",
              "      <td>1121.8739</td>\n",
              "      <td>8445.568239</td>\n",
              "      <td>7345.4053</td>\n",
              "      <td>36910.60803</td>\n",
              "      <td>908</td>\n",
              "    </tr>\n",
              "    <tr>\n",
              "      <th>yes</th>\n",
              "      <td>12829.4551</td>\n",
              "      <td>31738.607714</td>\n",
              "      <td>34439.8559</td>\n",
              "      <td>63770.42801</td>\n",
              "      <td>229</td>\n",
              "    </tr>\n",
              "  </tbody>\n",
              "</table>\n",
              "</div>\n",
              "      <button class=\"colab-df-convert\" onclick=\"convertToInteractive('df-09abb8ec-d00d-4575-baa4-249c56b9b9b2')\"\n",
              "              title=\"Convert this dataframe to an interactive table.\"\n",
              "              style=\"display:none;\">\n",
              "        \n",
              "  <svg xmlns=\"http://www.w3.org/2000/svg\" height=\"24px\"viewBox=\"0 0 24 24\"\n",
              "       width=\"24px\">\n",
              "    <path d=\"M0 0h24v24H0V0z\" fill=\"none\"/>\n",
              "    <path d=\"M18.56 5.44l.94 2.06.94-2.06 2.06-.94-2.06-.94-.94-2.06-.94 2.06-2.06.94zm-11 1L8.5 8.5l.94-2.06 2.06-.94-2.06-.94L8.5 2.5l-.94 2.06-2.06.94zm10 10l.94 2.06.94-2.06 2.06-.94-2.06-.94-.94-2.06-.94 2.06-2.06.94z\"/><path d=\"M17.41 7.96l-1.37-1.37c-.4-.4-.92-.59-1.43-.59-.52 0-1.04.2-1.43.59L10.3 9.45l-7.72 7.72c-.78.78-.78 2.05 0 2.83L4 21.41c.39.39.9.59 1.41.59.51 0 1.02-.2 1.41-.59l7.78-7.78 2.81-2.81c.8-.78.8-2.07 0-2.86zM5.41 20L4 18.59l7.72-7.72 1.47 1.35L5.41 20z\"/>\n",
              "  </svg>\n",
              "      </button>\n",
              "      \n",
              "  <style>\n",
              "    .colab-df-container {\n",
              "      display:flex;\n",
              "      flex-wrap:wrap;\n",
              "      gap: 12px;\n",
              "    }\n",
              "\n",
              "    .colab-df-convert {\n",
              "      background-color: #E8F0FE;\n",
              "      border: none;\n",
              "      border-radius: 50%;\n",
              "      cursor: pointer;\n",
              "      display: none;\n",
              "      fill: #1967D2;\n",
              "      height: 32px;\n",
              "      padding: 0 0 0 0;\n",
              "      width: 32px;\n",
              "    }\n",
              "\n",
              "    .colab-df-convert:hover {\n",
              "      background-color: #E2EBFA;\n",
              "      box-shadow: 0px 1px 2px rgba(60, 64, 67, 0.3), 0px 1px 3px 1px rgba(60, 64, 67, 0.15);\n",
              "      fill: #174EA6;\n",
              "    }\n",
              "\n",
              "    [theme=dark] .colab-df-convert {\n",
              "      background-color: #3B4455;\n",
              "      fill: #D2E3FC;\n",
              "    }\n",
              "\n",
              "    [theme=dark] .colab-df-convert:hover {\n",
              "      background-color: #434B5C;\n",
              "      box-shadow: 0px 1px 3px 1px rgba(0, 0, 0, 0.15);\n",
              "      filter: drop-shadow(0px 1px 2px rgba(0, 0, 0, 0.3));\n",
              "      fill: #FFFFFF;\n",
              "    }\n",
              "  </style>\n",
              "\n",
              "      <script>\n",
              "        const buttonEl =\n",
              "          document.querySelector('#df-09abb8ec-d00d-4575-baa4-249c56b9b9b2 button.colab-df-convert');\n",
              "        buttonEl.style.display =\n",
              "          google.colab.kernel.accessAllowed ? 'block' : 'none';\n",
              "\n",
              "        async function convertToInteractive(key) {\n",
              "          const element = document.querySelector('#df-09abb8ec-d00d-4575-baa4-249c56b9b9b2');\n",
              "          const dataTable =\n",
              "            await google.colab.kernel.invokeFunction('convertToInteractive',\n",
              "                                                     [key], {});\n",
              "          if (!dataTable) return;\n",
              "\n",
              "          const docLinkHtml = 'Like what you see? Visit the ' +\n",
              "            '<a target=\"_blank\" href=https://colab.research.google.com/notebooks/data_table.ipynb>data table notebook</a>'\n",
              "            + ' to learn more about interactive tables.';\n",
              "          element.innerHTML = '';\n",
              "          dataTable['output_type'] = 'display_data';\n",
              "          await google.colab.output.renderOutput(dataTable, element);\n",
              "          const docLink = document.createElement('div');\n",
              "          docLink.innerHTML = docLinkHtml;\n",
              "          element.appendChild(docLink);\n",
              "        }\n",
              "      </script>\n",
              "    </div>\n",
              "  </div>\n",
              "  "
            ]
          },
          "metadata": {},
          "execution_count": 17
        }
      ],
      "source": [
        "# Ver valores estatísticos de \"charges\" para cada as entradas de \"smoker\"\n",
        "df.groupby( \"smoker\" )[\"charges\"].agg( ['min','mean','median','max', \"count\"] )"
      ]
    },
    {
      "cell_type": "markdown",
      "metadata": {
        "id": "CfQOvpDrNQwC"
      },
      "source": [
        "#### 2.4.3 Charges por Região\n",
        "\n",
        "Objetivo de avaliar se a região, em que o cliente esta inserido, apresenta influência no valor cobrado.\n",
        "\n",
        "- Região com mais registros é southeast\n",
        "- Região com maior median é northeast\n",
        "- A região southeast conta com o menor valor, ao mesmo tempo que conta com o maior valor cobrado em seus clientes."
      ]
    },
    {
      "cell_type": "code",
      "execution_count": null,
      "metadata": {
        "colab": {
          "base_uri": "https://localhost:8080/",
          "height": 206
        },
        "id": "6hYBsls0Nnbg",
        "outputId": "24eec461-ea7f-4247-f7a5-5a94ae3d50ca"
      },
      "outputs": [
        {
          "output_type": "execute_result",
          "data": {
            "text/plain": [
              "                 min          mean       median          max  count\n",
              "region                                                             \n",
              "northeast  1694.7964  13400.909709  10141.13620  58571.07448    271\n",
              "northwest  1621.3402  12363.842664   8883.09975  60021.39897    266\n",
              "southeast  1121.8739  14764.412194   9330.73335  63770.42801    312\n",
              "southwest  1241.5650  11839.555012   8545.50900  48824.45000    288"
            ],
            "text/html": [
              "\n",
              "  <div id=\"df-d8b6ac13-1c2b-4f5e-aa1d-2250a8a063f6\">\n",
              "    <div class=\"colab-df-container\">\n",
              "      <div>\n",
              "<style scoped>\n",
              "    .dataframe tbody tr th:only-of-type {\n",
              "        vertical-align: middle;\n",
              "    }\n",
              "\n",
              "    .dataframe tbody tr th {\n",
              "        vertical-align: top;\n",
              "    }\n",
              "\n",
              "    .dataframe thead th {\n",
              "        text-align: right;\n",
              "    }\n",
              "</style>\n",
              "<table border=\"1\" class=\"dataframe\">\n",
              "  <thead>\n",
              "    <tr style=\"text-align: right;\">\n",
              "      <th></th>\n",
              "      <th>min</th>\n",
              "      <th>mean</th>\n",
              "      <th>median</th>\n",
              "      <th>max</th>\n",
              "      <th>count</th>\n",
              "    </tr>\n",
              "    <tr>\n",
              "      <th>region</th>\n",
              "      <th></th>\n",
              "      <th></th>\n",
              "      <th></th>\n",
              "      <th></th>\n",
              "      <th></th>\n",
              "    </tr>\n",
              "  </thead>\n",
              "  <tbody>\n",
              "    <tr>\n",
              "      <th>northeast</th>\n",
              "      <td>1694.7964</td>\n",
              "      <td>13400.909709</td>\n",
              "      <td>10141.13620</td>\n",
              "      <td>58571.07448</td>\n",
              "      <td>271</td>\n",
              "    </tr>\n",
              "    <tr>\n",
              "      <th>northwest</th>\n",
              "      <td>1621.3402</td>\n",
              "      <td>12363.842664</td>\n",
              "      <td>8883.09975</td>\n",
              "      <td>60021.39897</td>\n",
              "      <td>266</td>\n",
              "    </tr>\n",
              "    <tr>\n",
              "      <th>southeast</th>\n",
              "      <td>1121.8739</td>\n",
              "      <td>14764.412194</td>\n",
              "      <td>9330.73335</td>\n",
              "      <td>63770.42801</td>\n",
              "      <td>312</td>\n",
              "    </tr>\n",
              "    <tr>\n",
              "      <th>southwest</th>\n",
              "      <td>1241.5650</td>\n",
              "      <td>11839.555012</td>\n",
              "      <td>8545.50900</td>\n",
              "      <td>48824.45000</td>\n",
              "      <td>288</td>\n",
              "    </tr>\n",
              "  </tbody>\n",
              "</table>\n",
              "</div>\n",
              "      <button class=\"colab-df-convert\" onclick=\"convertToInteractive('df-d8b6ac13-1c2b-4f5e-aa1d-2250a8a063f6')\"\n",
              "              title=\"Convert this dataframe to an interactive table.\"\n",
              "              style=\"display:none;\">\n",
              "        \n",
              "  <svg xmlns=\"http://www.w3.org/2000/svg\" height=\"24px\"viewBox=\"0 0 24 24\"\n",
              "       width=\"24px\">\n",
              "    <path d=\"M0 0h24v24H0V0z\" fill=\"none\"/>\n",
              "    <path d=\"M18.56 5.44l.94 2.06.94-2.06 2.06-.94-2.06-.94-.94-2.06-.94 2.06-2.06.94zm-11 1L8.5 8.5l.94-2.06 2.06-.94-2.06-.94L8.5 2.5l-.94 2.06-2.06.94zm10 10l.94 2.06.94-2.06 2.06-.94-2.06-.94-.94-2.06-.94 2.06-2.06.94z\"/><path d=\"M17.41 7.96l-1.37-1.37c-.4-.4-.92-.59-1.43-.59-.52 0-1.04.2-1.43.59L10.3 9.45l-7.72 7.72c-.78.78-.78 2.05 0 2.83L4 21.41c.39.39.9.59 1.41.59.51 0 1.02-.2 1.41-.59l7.78-7.78 2.81-2.81c.8-.78.8-2.07 0-2.86zM5.41 20L4 18.59l7.72-7.72 1.47 1.35L5.41 20z\"/>\n",
              "  </svg>\n",
              "      </button>\n",
              "      \n",
              "  <style>\n",
              "    .colab-df-container {\n",
              "      display:flex;\n",
              "      flex-wrap:wrap;\n",
              "      gap: 12px;\n",
              "    }\n",
              "\n",
              "    .colab-df-convert {\n",
              "      background-color: #E8F0FE;\n",
              "      border: none;\n",
              "      border-radius: 50%;\n",
              "      cursor: pointer;\n",
              "      display: none;\n",
              "      fill: #1967D2;\n",
              "      height: 32px;\n",
              "      padding: 0 0 0 0;\n",
              "      width: 32px;\n",
              "    }\n",
              "\n",
              "    .colab-df-convert:hover {\n",
              "      background-color: #E2EBFA;\n",
              "      box-shadow: 0px 1px 2px rgba(60, 64, 67, 0.3), 0px 1px 3px 1px rgba(60, 64, 67, 0.15);\n",
              "      fill: #174EA6;\n",
              "    }\n",
              "\n",
              "    [theme=dark] .colab-df-convert {\n",
              "      background-color: #3B4455;\n",
              "      fill: #D2E3FC;\n",
              "    }\n",
              "\n",
              "    [theme=dark] .colab-df-convert:hover {\n",
              "      background-color: #434B5C;\n",
              "      box-shadow: 0px 1px 3px 1px rgba(0, 0, 0, 0.15);\n",
              "      filter: drop-shadow(0px 1px 2px rgba(0, 0, 0, 0.3));\n",
              "      fill: #FFFFFF;\n",
              "    }\n",
              "  </style>\n",
              "\n",
              "      <script>\n",
              "        const buttonEl =\n",
              "          document.querySelector('#df-d8b6ac13-1c2b-4f5e-aa1d-2250a8a063f6 button.colab-df-convert');\n",
              "        buttonEl.style.display =\n",
              "          google.colab.kernel.accessAllowed ? 'block' : 'none';\n",
              "\n",
              "        async function convertToInteractive(key) {\n",
              "          const element = document.querySelector('#df-d8b6ac13-1c2b-4f5e-aa1d-2250a8a063f6');\n",
              "          const dataTable =\n",
              "            await google.colab.kernel.invokeFunction('convertToInteractive',\n",
              "                                                     [key], {});\n",
              "          if (!dataTable) return;\n",
              "\n",
              "          const docLinkHtml = 'Like what you see? Visit the ' +\n",
              "            '<a target=\"_blank\" href=https://colab.research.google.com/notebooks/data_table.ipynb>data table notebook</a>'\n",
              "            + ' to learn more about interactive tables.';\n",
              "          element.innerHTML = '';\n",
              "          dataTable['output_type'] = 'display_data';\n",
              "          await google.colab.output.renderOutput(dataTable, element);\n",
              "          const docLink = document.createElement('div');\n",
              "          docLink.innerHTML = docLinkHtml;\n",
              "          element.appendChild(docLink);\n",
              "        }\n",
              "      </script>\n",
              "    </div>\n",
              "  </div>\n",
              "  "
            ]
          },
          "metadata": {},
          "execution_count": 18
        }
      ],
      "source": [
        "# Ver valores estatísticos de \"charges\" para cada as entradas de \"region\"\n",
        "df.groupby( \"region\" )[\"charges\"].agg( ['min','mean','median','max', \"count\"] )"
      ]
    },
    {
      "cell_type": "markdown",
      "metadata": {
        "id": "1Ulj0kx5NTWO"
      },
      "source": [
        "#### 2.4.4 Charges por Sexo e Smoking\n",
        "\n",
        "Objetivo de avaliar se o sexo, do cliente, e o fato de fumar ou não, apresenta influência no valor cobrado.\n",
        "\n",
        "- Mulheres não fumantes apresentam a maior quantidade de registros\n",
        "- Homens fumantes tem a maior median, enquanto homens não fumantes tem a menor mediana."
      ]
    },
    {
      "cell_type": "code",
      "execution_count": null,
      "metadata": {
        "colab": {
          "base_uri": "https://localhost:8080/",
          "height": 206
        },
        "id": "pqYrFuy4N72n",
        "outputId": "16a00e16-3de2-46e9-f6e3-e446728e5741"
      },
      "outputs": [
        {
          "output_type": "execute_result",
          "data": {
            "text/plain": [
              "                      min          mean      median          max  count\n",
              "sex    smoker                                                          \n",
              "female no       1607.5101   8637.775861   7624.0740  36910.60803    474\n",
              "       yes     14283.4594  30870.368206  29141.3603  63770.42801    105\n",
              "male   no       1121.8739   8235.645630   7156.3827  32108.66282    434\n",
              "       yes     12829.4551  32473.810524  35835.3975  62592.87309    124"
            ],
            "text/html": [
              "\n",
              "  <div id=\"df-cbb18f07-6cc7-46c7-b081-d7c1be2613bc\">\n",
              "    <div class=\"colab-df-container\">\n",
              "      <div>\n",
              "<style scoped>\n",
              "    .dataframe tbody tr th:only-of-type {\n",
              "        vertical-align: middle;\n",
              "    }\n",
              "\n",
              "    .dataframe tbody tr th {\n",
              "        vertical-align: top;\n",
              "    }\n",
              "\n",
              "    .dataframe thead th {\n",
              "        text-align: right;\n",
              "    }\n",
              "</style>\n",
              "<table border=\"1\" class=\"dataframe\">\n",
              "  <thead>\n",
              "    <tr style=\"text-align: right;\">\n",
              "      <th></th>\n",
              "      <th></th>\n",
              "      <th>min</th>\n",
              "      <th>mean</th>\n",
              "      <th>median</th>\n",
              "      <th>max</th>\n",
              "      <th>count</th>\n",
              "    </tr>\n",
              "    <tr>\n",
              "      <th>sex</th>\n",
              "      <th>smoker</th>\n",
              "      <th></th>\n",
              "      <th></th>\n",
              "      <th></th>\n",
              "      <th></th>\n",
              "      <th></th>\n",
              "    </tr>\n",
              "  </thead>\n",
              "  <tbody>\n",
              "    <tr>\n",
              "      <th rowspan=\"2\" valign=\"top\">female</th>\n",
              "      <th>no</th>\n",
              "      <td>1607.5101</td>\n",
              "      <td>8637.775861</td>\n",
              "      <td>7624.0740</td>\n",
              "      <td>36910.60803</td>\n",
              "      <td>474</td>\n",
              "    </tr>\n",
              "    <tr>\n",
              "      <th>yes</th>\n",
              "      <td>14283.4594</td>\n",
              "      <td>30870.368206</td>\n",
              "      <td>29141.3603</td>\n",
              "      <td>63770.42801</td>\n",
              "      <td>105</td>\n",
              "    </tr>\n",
              "    <tr>\n",
              "      <th rowspan=\"2\" valign=\"top\">male</th>\n",
              "      <th>no</th>\n",
              "      <td>1121.8739</td>\n",
              "      <td>8235.645630</td>\n",
              "      <td>7156.3827</td>\n",
              "      <td>32108.66282</td>\n",
              "      <td>434</td>\n",
              "    </tr>\n",
              "    <tr>\n",
              "      <th>yes</th>\n",
              "      <td>12829.4551</td>\n",
              "      <td>32473.810524</td>\n",
              "      <td>35835.3975</td>\n",
              "      <td>62592.87309</td>\n",
              "      <td>124</td>\n",
              "    </tr>\n",
              "  </tbody>\n",
              "</table>\n",
              "</div>\n",
              "      <button class=\"colab-df-convert\" onclick=\"convertToInteractive('df-cbb18f07-6cc7-46c7-b081-d7c1be2613bc')\"\n",
              "              title=\"Convert this dataframe to an interactive table.\"\n",
              "              style=\"display:none;\">\n",
              "        \n",
              "  <svg xmlns=\"http://www.w3.org/2000/svg\" height=\"24px\"viewBox=\"0 0 24 24\"\n",
              "       width=\"24px\">\n",
              "    <path d=\"M0 0h24v24H0V0z\" fill=\"none\"/>\n",
              "    <path d=\"M18.56 5.44l.94 2.06.94-2.06 2.06-.94-2.06-.94-.94-2.06-.94 2.06-2.06.94zm-11 1L8.5 8.5l.94-2.06 2.06-.94-2.06-.94L8.5 2.5l-.94 2.06-2.06.94zm10 10l.94 2.06.94-2.06 2.06-.94-2.06-.94-.94-2.06-.94 2.06-2.06.94z\"/><path d=\"M17.41 7.96l-1.37-1.37c-.4-.4-.92-.59-1.43-.59-.52 0-1.04.2-1.43.59L10.3 9.45l-7.72 7.72c-.78.78-.78 2.05 0 2.83L4 21.41c.39.39.9.59 1.41.59.51 0 1.02-.2 1.41-.59l7.78-7.78 2.81-2.81c.8-.78.8-2.07 0-2.86zM5.41 20L4 18.59l7.72-7.72 1.47 1.35L5.41 20z\"/>\n",
              "  </svg>\n",
              "      </button>\n",
              "      \n",
              "  <style>\n",
              "    .colab-df-container {\n",
              "      display:flex;\n",
              "      flex-wrap:wrap;\n",
              "      gap: 12px;\n",
              "    }\n",
              "\n",
              "    .colab-df-convert {\n",
              "      background-color: #E8F0FE;\n",
              "      border: none;\n",
              "      border-radius: 50%;\n",
              "      cursor: pointer;\n",
              "      display: none;\n",
              "      fill: #1967D2;\n",
              "      height: 32px;\n",
              "      padding: 0 0 0 0;\n",
              "      width: 32px;\n",
              "    }\n",
              "\n",
              "    .colab-df-convert:hover {\n",
              "      background-color: #E2EBFA;\n",
              "      box-shadow: 0px 1px 2px rgba(60, 64, 67, 0.3), 0px 1px 3px 1px rgba(60, 64, 67, 0.15);\n",
              "      fill: #174EA6;\n",
              "    }\n",
              "\n",
              "    [theme=dark] .colab-df-convert {\n",
              "      background-color: #3B4455;\n",
              "      fill: #D2E3FC;\n",
              "    }\n",
              "\n",
              "    [theme=dark] .colab-df-convert:hover {\n",
              "      background-color: #434B5C;\n",
              "      box-shadow: 0px 1px 3px 1px rgba(0, 0, 0, 0.15);\n",
              "      filter: drop-shadow(0px 1px 2px rgba(0, 0, 0, 0.3));\n",
              "      fill: #FFFFFF;\n",
              "    }\n",
              "  </style>\n",
              "\n",
              "      <script>\n",
              "        const buttonEl =\n",
              "          document.querySelector('#df-cbb18f07-6cc7-46c7-b081-d7c1be2613bc button.colab-df-convert');\n",
              "        buttonEl.style.display =\n",
              "          google.colab.kernel.accessAllowed ? 'block' : 'none';\n",
              "\n",
              "        async function convertToInteractive(key) {\n",
              "          const element = document.querySelector('#df-cbb18f07-6cc7-46c7-b081-d7c1be2613bc');\n",
              "          const dataTable =\n",
              "            await google.colab.kernel.invokeFunction('convertToInteractive',\n",
              "                                                     [key], {});\n",
              "          if (!dataTable) return;\n",
              "\n",
              "          const docLinkHtml = 'Like what you see? Visit the ' +\n",
              "            '<a target=\"_blank\" href=https://colab.research.google.com/notebooks/data_table.ipynb>data table notebook</a>'\n",
              "            + ' to learn more about interactive tables.';\n",
              "          element.innerHTML = '';\n",
              "          dataTable['output_type'] = 'display_data';\n",
              "          await google.colab.output.renderOutput(dataTable, element);\n",
              "          const docLink = document.createElement('div');\n",
              "          docLink.innerHTML = docLinkHtml;\n",
              "          element.appendChild(docLink);\n",
              "        }\n",
              "      </script>\n",
              "    </div>\n",
              "  </div>\n",
              "  "
            ]
          },
          "metadata": {},
          "execution_count": 19
        }
      ],
      "source": [
        "# Ver valores estatísticos de \"charges\" para cada as entradas de \"sex\" e \"smoker\"\n",
        "df.groupby( [\"sex\", \"smoker\"] )[\"charges\"].agg( ['min','mean','median','max', \"count\"] )"
      ]
    },
    {
      "cell_type": "markdown",
      "metadata": {
        "id": "kJ3fqrbrNVJa"
      },
      "source": [
        "#### 2.4.5 Charges por Sexo e Região\n",
        "\n",
        "Objetivo de avaliar se o sexo e a região, em que o cliente esta inserido, apresenta influência no valor cobrado.\n",
        "\n",
        "- Homens na região southeast apresentam a maior quantidade de entradas.\n",
        "- A mediana entre homens e mulheres não apresentam discrepância relevante. Contudo, os homens do southwest apresentam menor mediana, enquanto as mulheres da northeast, a maior delas."
      ]
    },
    {
      "cell_type": "code",
      "execution_count": null,
      "metadata": {
        "colab": {
          "base_uri": "https://localhost:8080/",
          "height": 332
        },
        "id": "K8TO69avO2dZ",
        "outputId": "54e3588d-da71-4756-cde7-c4118ffc7058"
      },
      "outputs": [
        {
          "output_type": "execute_result",
          "data": {
            "text/plain": [
              "                         min          mean        median          max  count\n",
              "sex    region                                                               \n",
              "female northeast  2196.47320  13247.195503  10681.110350  58571.07448    138\n",
              "       northwest  2117.33885  12582.736651   9090.998625  55135.40209    138\n",
              "       southeast  1607.51010  13404.771284   8582.302300  63770.42801    151\n",
              "       southwest  1727.78500  11493.706044   8545.509000  48824.45000    152\n",
              "male   northeast  1694.79640  13560.402644   9957.721600  48549.17835    133\n",
              "       northwest  1621.34020  12127.847586   8580.649275  60021.39897    128\n",
              "       southeast  1121.87390  16039.603359   9748.910600  62592.87309    161\n",
              "       southwest  1241.56500  12226.092095   8536.559000  44585.45587    136"
            ],
            "text/html": [
              "\n",
              "  <div id=\"df-de3e8df0-a797-43cc-96f3-cdcba1d95590\">\n",
              "    <div class=\"colab-df-container\">\n",
              "      <div>\n",
              "<style scoped>\n",
              "    .dataframe tbody tr th:only-of-type {\n",
              "        vertical-align: middle;\n",
              "    }\n",
              "\n",
              "    .dataframe tbody tr th {\n",
              "        vertical-align: top;\n",
              "    }\n",
              "\n",
              "    .dataframe thead th {\n",
              "        text-align: right;\n",
              "    }\n",
              "</style>\n",
              "<table border=\"1\" class=\"dataframe\">\n",
              "  <thead>\n",
              "    <tr style=\"text-align: right;\">\n",
              "      <th></th>\n",
              "      <th></th>\n",
              "      <th>min</th>\n",
              "      <th>mean</th>\n",
              "      <th>median</th>\n",
              "      <th>max</th>\n",
              "      <th>count</th>\n",
              "    </tr>\n",
              "    <tr>\n",
              "      <th>sex</th>\n",
              "      <th>region</th>\n",
              "      <th></th>\n",
              "      <th></th>\n",
              "      <th></th>\n",
              "      <th></th>\n",
              "      <th></th>\n",
              "    </tr>\n",
              "  </thead>\n",
              "  <tbody>\n",
              "    <tr>\n",
              "      <th rowspan=\"4\" valign=\"top\">female</th>\n",
              "      <th>northeast</th>\n",
              "      <td>2196.47320</td>\n",
              "      <td>13247.195503</td>\n",
              "      <td>10681.110350</td>\n",
              "      <td>58571.07448</td>\n",
              "      <td>138</td>\n",
              "    </tr>\n",
              "    <tr>\n",
              "      <th>northwest</th>\n",
              "      <td>2117.33885</td>\n",
              "      <td>12582.736651</td>\n",
              "      <td>9090.998625</td>\n",
              "      <td>55135.40209</td>\n",
              "      <td>138</td>\n",
              "    </tr>\n",
              "    <tr>\n",
              "      <th>southeast</th>\n",
              "      <td>1607.51010</td>\n",
              "      <td>13404.771284</td>\n",
              "      <td>8582.302300</td>\n",
              "      <td>63770.42801</td>\n",
              "      <td>151</td>\n",
              "    </tr>\n",
              "    <tr>\n",
              "      <th>southwest</th>\n",
              "      <td>1727.78500</td>\n",
              "      <td>11493.706044</td>\n",
              "      <td>8545.509000</td>\n",
              "      <td>48824.45000</td>\n",
              "      <td>152</td>\n",
              "    </tr>\n",
              "    <tr>\n",
              "      <th rowspan=\"4\" valign=\"top\">male</th>\n",
              "      <th>northeast</th>\n",
              "      <td>1694.79640</td>\n",
              "      <td>13560.402644</td>\n",
              "      <td>9957.721600</td>\n",
              "      <td>48549.17835</td>\n",
              "      <td>133</td>\n",
              "    </tr>\n",
              "    <tr>\n",
              "      <th>northwest</th>\n",
              "      <td>1621.34020</td>\n",
              "      <td>12127.847586</td>\n",
              "      <td>8580.649275</td>\n",
              "      <td>60021.39897</td>\n",
              "      <td>128</td>\n",
              "    </tr>\n",
              "    <tr>\n",
              "      <th>southeast</th>\n",
              "      <td>1121.87390</td>\n",
              "      <td>16039.603359</td>\n",
              "      <td>9748.910600</td>\n",
              "      <td>62592.87309</td>\n",
              "      <td>161</td>\n",
              "    </tr>\n",
              "    <tr>\n",
              "      <th>southwest</th>\n",
              "      <td>1241.56500</td>\n",
              "      <td>12226.092095</td>\n",
              "      <td>8536.559000</td>\n",
              "      <td>44585.45587</td>\n",
              "      <td>136</td>\n",
              "    </tr>\n",
              "  </tbody>\n",
              "</table>\n",
              "</div>\n",
              "      <button class=\"colab-df-convert\" onclick=\"convertToInteractive('df-de3e8df0-a797-43cc-96f3-cdcba1d95590')\"\n",
              "              title=\"Convert this dataframe to an interactive table.\"\n",
              "              style=\"display:none;\">\n",
              "        \n",
              "  <svg xmlns=\"http://www.w3.org/2000/svg\" height=\"24px\"viewBox=\"0 0 24 24\"\n",
              "       width=\"24px\">\n",
              "    <path d=\"M0 0h24v24H0V0z\" fill=\"none\"/>\n",
              "    <path d=\"M18.56 5.44l.94 2.06.94-2.06 2.06-.94-2.06-.94-.94-2.06-.94 2.06-2.06.94zm-11 1L8.5 8.5l.94-2.06 2.06-.94-2.06-.94L8.5 2.5l-.94 2.06-2.06.94zm10 10l.94 2.06.94-2.06 2.06-.94-2.06-.94-.94-2.06-.94 2.06-2.06.94z\"/><path d=\"M17.41 7.96l-1.37-1.37c-.4-.4-.92-.59-1.43-.59-.52 0-1.04.2-1.43.59L10.3 9.45l-7.72 7.72c-.78.78-.78 2.05 0 2.83L4 21.41c.39.39.9.59 1.41.59.51 0 1.02-.2 1.41-.59l7.78-7.78 2.81-2.81c.8-.78.8-2.07 0-2.86zM5.41 20L4 18.59l7.72-7.72 1.47 1.35L5.41 20z\"/>\n",
              "  </svg>\n",
              "      </button>\n",
              "      \n",
              "  <style>\n",
              "    .colab-df-container {\n",
              "      display:flex;\n",
              "      flex-wrap:wrap;\n",
              "      gap: 12px;\n",
              "    }\n",
              "\n",
              "    .colab-df-convert {\n",
              "      background-color: #E8F0FE;\n",
              "      border: none;\n",
              "      border-radius: 50%;\n",
              "      cursor: pointer;\n",
              "      display: none;\n",
              "      fill: #1967D2;\n",
              "      height: 32px;\n",
              "      padding: 0 0 0 0;\n",
              "      width: 32px;\n",
              "    }\n",
              "\n",
              "    .colab-df-convert:hover {\n",
              "      background-color: #E2EBFA;\n",
              "      box-shadow: 0px 1px 2px rgba(60, 64, 67, 0.3), 0px 1px 3px 1px rgba(60, 64, 67, 0.15);\n",
              "      fill: #174EA6;\n",
              "    }\n",
              "\n",
              "    [theme=dark] .colab-df-convert {\n",
              "      background-color: #3B4455;\n",
              "      fill: #D2E3FC;\n",
              "    }\n",
              "\n",
              "    [theme=dark] .colab-df-convert:hover {\n",
              "      background-color: #434B5C;\n",
              "      box-shadow: 0px 1px 3px 1px rgba(0, 0, 0, 0.15);\n",
              "      filter: drop-shadow(0px 1px 2px rgba(0, 0, 0, 0.3));\n",
              "      fill: #FFFFFF;\n",
              "    }\n",
              "  </style>\n",
              "\n",
              "      <script>\n",
              "        const buttonEl =\n",
              "          document.querySelector('#df-de3e8df0-a797-43cc-96f3-cdcba1d95590 button.colab-df-convert');\n",
              "        buttonEl.style.display =\n",
              "          google.colab.kernel.accessAllowed ? 'block' : 'none';\n",
              "\n",
              "        async function convertToInteractive(key) {\n",
              "          const element = document.querySelector('#df-de3e8df0-a797-43cc-96f3-cdcba1d95590');\n",
              "          const dataTable =\n",
              "            await google.colab.kernel.invokeFunction('convertToInteractive',\n",
              "                                                     [key], {});\n",
              "          if (!dataTable) return;\n",
              "\n",
              "          const docLinkHtml = 'Like what you see? Visit the ' +\n",
              "            '<a target=\"_blank\" href=https://colab.research.google.com/notebooks/data_table.ipynb>data table notebook</a>'\n",
              "            + ' to learn more about interactive tables.';\n",
              "          element.innerHTML = '';\n",
              "          dataTable['output_type'] = 'display_data';\n",
              "          await google.colab.output.renderOutput(dataTable, element);\n",
              "          const docLink = document.createElement('div');\n",
              "          docLink.innerHTML = docLinkHtml;\n",
              "          element.appendChild(docLink);\n",
              "        }\n",
              "      </script>\n",
              "    </div>\n",
              "  </div>\n",
              "  "
            ]
          },
          "metadata": {},
          "execution_count": 20
        }
      ],
      "source": [
        "# Ver valores estatísticos de \"charges\" para cada as entradas de \"sex\" e \"region\"\n",
        "df.groupby( [\"sex\", \"region\"] )[\"charges\"].agg( ['min','mean','median','max', \"count\"] )"
      ]
    },
    {
      "cell_type": "markdown",
      "metadata": {
        "id": "kOzB6BdDNWdK"
      },
      "source": [
        "#### 2.4.6 Charges por Smoking e Região\n",
        "\n",
        "Objetivo de avaliar se o fato de fumar ou não e a região, em que o cliente esta inserido, apresenta influência no valor cobrado.\n",
        "\n",
        "- Fumantes no southeast tem maior valor, enquanto, não fumantes no southeast tem menor valor.\n",
        "- Maior número de registros para não fumantes do southeast."
      ]
    },
    {
      "cell_type": "code",
      "execution_count": null,
      "metadata": {
        "colab": {
          "base_uri": "https://localhost:8080/",
          "height": 332
        },
        "id": "Dew4ijfgPmm4",
        "outputId": "3735e4c5-6368-49b3-bfd1-063766f63147"
      },
      "outputs": [
        {
          "output_type": "execute_result",
          "data": {
            "text/plain": [
              "                         min          mean        median          max  count\n",
              "smoker region                                                               \n",
              "no     northeast   1694.7964   9343.166350   8658.199975  32108.66282    216\n",
              "       northwest   1621.3402   8536.757923   7201.700850  33471.97189    217\n",
              "       southeast   1121.8739   8005.595982   6653.158700  36580.28216    234\n",
              "       southwest   1241.5650   7986.166392   7160.094000  36910.60803    241\n",
              "yes    northeast  12829.4551  29336.774534  24873.384900  58571.07448     55\n",
              "       northwest  14711.7438  29312.360806  25678.778450  60021.39897     49\n",
              "       southeast  16577.7795  35040.860829  37805.347900  63770.42801     78\n",
              "       southwest  15820.6990  31598.420066  34828.654000  48824.45000     47"
            ],
            "text/html": [
              "\n",
              "  <div id=\"df-fc63aa92-467e-4160-bb6a-260c8c8a9b46\">\n",
              "    <div class=\"colab-df-container\">\n",
              "      <div>\n",
              "<style scoped>\n",
              "    .dataframe tbody tr th:only-of-type {\n",
              "        vertical-align: middle;\n",
              "    }\n",
              "\n",
              "    .dataframe tbody tr th {\n",
              "        vertical-align: top;\n",
              "    }\n",
              "\n",
              "    .dataframe thead th {\n",
              "        text-align: right;\n",
              "    }\n",
              "</style>\n",
              "<table border=\"1\" class=\"dataframe\">\n",
              "  <thead>\n",
              "    <tr style=\"text-align: right;\">\n",
              "      <th></th>\n",
              "      <th></th>\n",
              "      <th>min</th>\n",
              "      <th>mean</th>\n",
              "      <th>median</th>\n",
              "      <th>max</th>\n",
              "      <th>count</th>\n",
              "    </tr>\n",
              "    <tr>\n",
              "      <th>smoker</th>\n",
              "      <th>region</th>\n",
              "      <th></th>\n",
              "      <th></th>\n",
              "      <th></th>\n",
              "      <th></th>\n",
              "      <th></th>\n",
              "    </tr>\n",
              "  </thead>\n",
              "  <tbody>\n",
              "    <tr>\n",
              "      <th rowspan=\"4\" valign=\"top\">no</th>\n",
              "      <th>northeast</th>\n",
              "      <td>1694.7964</td>\n",
              "      <td>9343.166350</td>\n",
              "      <td>8658.199975</td>\n",
              "      <td>32108.66282</td>\n",
              "      <td>216</td>\n",
              "    </tr>\n",
              "    <tr>\n",
              "      <th>northwest</th>\n",
              "      <td>1621.3402</td>\n",
              "      <td>8536.757923</td>\n",
              "      <td>7201.700850</td>\n",
              "      <td>33471.97189</td>\n",
              "      <td>217</td>\n",
              "    </tr>\n",
              "    <tr>\n",
              "      <th>southeast</th>\n",
              "      <td>1121.8739</td>\n",
              "      <td>8005.595982</td>\n",
              "      <td>6653.158700</td>\n",
              "      <td>36580.28216</td>\n",
              "      <td>234</td>\n",
              "    </tr>\n",
              "    <tr>\n",
              "      <th>southwest</th>\n",
              "      <td>1241.5650</td>\n",
              "      <td>7986.166392</td>\n",
              "      <td>7160.094000</td>\n",
              "      <td>36910.60803</td>\n",
              "      <td>241</td>\n",
              "    </tr>\n",
              "    <tr>\n",
              "      <th rowspan=\"4\" valign=\"top\">yes</th>\n",
              "      <th>northeast</th>\n",
              "      <td>12829.4551</td>\n",
              "      <td>29336.774534</td>\n",
              "      <td>24873.384900</td>\n",
              "      <td>58571.07448</td>\n",
              "      <td>55</td>\n",
              "    </tr>\n",
              "    <tr>\n",
              "      <th>northwest</th>\n",
              "      <td>14711.7438</td>\n",
              "      <td>29312.360806</td>\n",
              "      <td>25678.778450</td>\n",
              "      <td>60021.39897</td>\n",
              "      <td>49</td>\n",
              "    </tr>\n",
              "    <tr>\n",
              "      <th>southeast</th>\n",
              "      <td>16577.7795</td>\n",
              "      <td>35040.860829</td>\n",
              "      <td>37805.347900</td>\n",
              "      <td>63770.42801</td>\n",
              "      <td>78</td>\n",
              "    </tr>\n",
              "    <tr>\n",
              "      <th>southwest</th>\n",
              "      <td>15820.6990</td>\n",
              "      <td>31598.420066</td>\n",
              "      <td>34828.654000</td>\n",
              "      <td>48824.45000</td>\n",
              "      <td>47</td>\n",
              "    </tr>\n",
              "  </tbody>\n",
              "</table>\n",
              "</div>\n",
              "      <button class=\"colab-df-convert\" onclick=\"convertToInteractive('df-fc63aa92-467e-4160-bb6a-260c8c8a9b46')\"\n",
              "              title=\"Convert this dataframe to an interactive table.\"\n",
              "              style=\"display:none;\">\n",
              "        \n",
              "  <svg xmlns=\"http://www.w3.org/2000/svg\" height=\"24px\"viewBox=\"0 0 24 24\"\n",
              "       width=\"24px\">\n",
              "    <path d=\"M0 0h24v24H0V0z\" fill=\"none\"/>\n",
              "    <path d=\"M18.56 5.44l.94 2.06.94-2.06 2.06-.94-2.06-.94-.94-2.06-.94 2.06-2.06.94zm-11 1L8.5 8.5l.94-2.06 2.06-.94-2.06-.94L8.5 2.5l-.94 2.06-2.06.94zm10 10l.94 2.06.94-2.06 2.06-.94-2.06-.94-.94-2.06-.94 2.06-2.06.94z\"/><path d=\"M17.41 7.96l-1.37-1.37c-.4-.4-.92-.59-1.43-.59-.52 0-1.04.2-1.43.59L10.3 9.45l-7.72 7.72c-.78.78-.78 2.05 0 2.83L4 21.41c.39.39.9.59 1.41.59.51 0 1.02-.2 1.41-.59l7.78-7.78 2.81-2.81c.8-.78.8-2.07 0-2.86zM5.41 20L4 18.59l7.72-7.72 1.47 1.35L5.41 20z\"/>\n",
              "  </svg>\n",
              "      </button>\n",
              "      \n",
              "  <style>\n",
              "    .colab-df-container {\n",
              "      display:flex;\n",
              "      flex-wrap:wrap;\n",
              "      gap: 12px;\n",
              "    }\n",
              "\n",
              "    .colab-df-convert {\n",
              "      background-color: #E8F0FE;\n",
              "      border: none;\n",
              "      border-radius: 50%;\n",
              "      cursor: pointer;\n",
              "      display: none;\n",
              "      fill: #1967D2;\n",
              "      height: 32px;\n",
              "      padding: 0 0 0 0;\n",
              "      width: 32px;\n",
              "    }\n",
              "\n",
              "    .colab-df-convert:hover {\n",
              "      background-color: #E2EBFA;\n",
              "      box-shadow: 0px 1px 2px rgba(60, 64, 67, 0.3), 0px 1px 3px 1px rgba(60, 64, 67, 0.15);\n",
              "      fill: #174EA6;\n",
              "    }\n",
              "\n",
              "    [theme=dark] .colab-df-convert {\n",
              "      background-color: #3B4455;\n",
              "      fill: #D2E3FC;\n",
              "    }\n",
              "\n",
              "    [theme=dark] .colab-df-convert:hover {\n",
              "      background-color: #434B5C;\n",
              "      box-shadow: 0px 1px 3px 1px rgba(0, 0, 0, 0.15);\n",
              "      filter: drop-shadow(0px 1px 2px rgba(0, 0, 0, 0.3));\n",
              "      fill: #FFFFFF;\n",
              "    }\n",
              "  </style>\n",
              "\n",
              "      <script>\n",
              "        const buttonEl =\n",
              "          document.querySelector('#df-fc63aa92-467e-4160-bb6a-260c8c8a9b46 button.colab-df-convert');\n",
              "        buttonEl.style.display =\n",
              "          google.colab.kernel.accessAllowed ? 'block' : 'none';\n",
              "\n",
              "        async function convertToInteractive(key) {\n",
              "          const element = document.querySelector('#df-fc63aa92-467e-4160-bb6a-260c8c8a9b46');\n",
              "          const dataTable =\n",
              "            await google.colab.kernel.invokeFunction('convertToInteractive',\n",
              "                                                     [key], {});\n",
              "          if (!dataTable) return;\n",
              "\n",
              "          const docLinkHtml = 'Like what you see? Visit the ' +\n",
              "            '<a target=\"_blank\" href=https://colab.research.google.com/notebooks/data_table.ipynb>data table notebook</a>'\n",
              "            + ' to learn more about interactive tables.';\n",
              "          element.innerHTML = '';\n",
              "          dataTable['output_type'] = 'display_data';\n",
              "          await google.colab.output.renderOutput(dataTable, element);\n",
              "          const docLink = document.createElement('div');\n",
              "          docLink.innerHTML = docLinkHtml;\n",
              "          element.appendChild(docLink);\n",
              "        }\n",
              "      </script>\n",
              "    </div>\n",
              "  </div>\n",
              "  "
            ]
          },
          "metadata": {},
          "execution_count": 21
        }
      ],
      "source": [
        "# Ver valores estatísticos de \"charges\" para cada as entradas de \"smoker\" e \"region\"\n",
        "df.groupby( [\"smoker\", \"region\"] )[\"charges\"].agg( ['min','mean','median','max', \"count\"] )"
      ]
    },
    {
      "cell_type": "markdown",
      "metadata": {
        "id": "Bt_89-4WNX86"
      },
      "source": [
        "#### 2.4.7 Charges por Sexo, Smoking e Região\n",
        "\n",
        "Objetivo de avaliar se o sexo, o fato de fumar ou não e a região, em que o cliente esta inserido, apresenta influência no valor cobrado.\n",
        "\n",
        "- A maior quantidade de entradas são de mulheres que não fumam do southwest.\n",
        "\n",
        "- A menor quantidade de entradas são de mulheres que fumam do southwest.\n",
        "\n",
        "- A maior mediana são de homens que fumam do southeast.\n",
        "\n",
        "- A menor mediana são de homens que não fumam do southeast."
      ]
    },
    {
      "cell_type": "code",
      "execution_count": null,
      "metadata": {
        "colab": {
          "base_uri": "https://localhost:8080/",
          "height": 583
        },
        "id": "E_U1Jl3fNK-j",
        "outputId": "451aca60-79d0-4929-9e20-ee446429d199"
      },
      "outputs": [
        {
          "output_type": "execute_result",
          "data": {
            "text/plain": [
              "                                 min          mean        median          max  \\\n",
              "sex    smoker region                                                            \n",
              "female no     northeast   2196.47320   9908.927490   9432.925300  31620.00106   \n",
              "              northwest   2117.33885   8326.973333   7245.498700  33471.97189   \n",
              "              southeast   1607.51010   8094.032079   6770.192500  36580.28216   \n",
              "              southwest   1727.78500   8298.788392   7359.957000  36910.60803   \n",
              "       yes    northeast  14283.45940  28336.166921  22331.566800  58571.07448   \n",
              "              northwest  14711.74380  29301.806828  27314.623825  55135.40209   \n",
              "              southeast  16577.77950  33154.082700  35017.722850  63770.42801   \n",
              "              southwest  16884.92400  32580.162551  34502.573000  48824.45000   \n",
              "male   no     northeast   1694.79640   8722.476945   8603.823400  32108.66282   \n",
              "              northwest   1621.34020   8752.424324   6948.700800  30284.64294   \n",
              "              southeast   1121.87390   7914.083848   6652.528800  27724.28875   \n",
              "              southwest   1241.56500   7607.578283   6849.026000  27941.28758   \n",
              "       yes    northeast  12829.45510  30170.614212  34435.947000  48549.17835   \n",
              "              northwest  15817.98570  29326.432777  24915.220850  60021.39897   \n",
              "              southeast  17043.34140  36353.402136  38495.962750  62592.87309   \n",
              "              southwest  15820.69900  30871.203410  34828.654000  44585.45587   \n",
              "\n",
              "                         count  \n",
              "sex    smoker region            \n",
              "female no     northeast    113  \n",
              "              northwest    110  \n",
              "              southeast    119  \n",
              "              southwest    132  \n",
              "       yes    northeast     25  \n",
              "              northwest     28  \n",
              "              southeast     32  \n",
              "              southwest     20  \n",
              "male   no     northeast    103  \n",
              "              northwest    107  \n",
              "              southeast    115  \n",
              "              southwest    109  \n",
              "       yes    northeast     30  \n",
              "              northwest     21  \n",
              "              southeast     46  \n",
              "              southwest     27  "
            ],
            "text/html": [
              "\n",
              "  <div id=\"df-12fe579c-0711-4e43-b30a-822bbfddd94f\">\n",
              "    <div class=\"colab-df-container\">\n",
              "      <div>\n",
              "<style scoped>\n",
              "    .dataframe tbody tr th:only-of-type {\n",
              "        vertical-align: middle;\n",
              "    }\n",
              "\n",
              "    .dataframe tbody tr th {\n",
              "        vertical-align: top;\n",
              "    }\n",
              "\n",
              "    .dataframe thead th {\n",
              "        text-align: right;\n",
              "    }\n",
              "</style>\n",
              "<table border=\"1\" class=\"dataframe\">\n",
              "  <thead>\n",
              "    <tr style=\"text-align: right;\">\n",
              "      <th></th>\n",
              "      <th></th>\n",
              "      <th></th>\n",
              "      <th>min</th>\n",
              "      <th>mean</th>\n",
              "      <th>median</th>\n",
              "      <th>max</th>\n",
              "      <th>count</th>\n",
              "    </tr>\n",
              "    <tr>\n",
              "      <th>sex</th>\n",
              "      <th>smoker</th>\n",
              "      <th>region</th>\n",
              "      <th></th>\n",
              "      <th></th>\n",
              "      <th></th>\n",
              "      <th></th>\n",
              "      <th></th>\n",
              "    </tr>\n",
              "  </thead>\n",
              "  <tbody>\n",
              "    <tr>\n",
              "      <th rowspan=\"8\" valign=\"top\">female</th>\n",
              "      <th rowspan=\"4\" valign=\"top\">no</th>\n",
              "      <th>northeast</th>\n",
              "      <td>2196.47320</td>\n",
              "      <td>9908.927490</td>\n",
              "      <td>9432.925300</td>\n",
              "      <td>31620.00106</td>\n",
              "      <td>113</td>\n",
              "    </tr>\n",
              "    <tr>\n",
              "      <th>northwest</th>\n",
              "      <td>2117.33885</td>\n",
              "      <td>8326.973333</td>\n",
              "      <td>7245.498700</td>\n",
              "      <td>33471.97189</td>\n",
              "      <td>110</td>\n",
              "    </tr>\n",
              "    <tr>\n",
              "      <th>southeast</th>\n",
              "      <td>1607.51010</td>\n",
              "      <td>8094.032079</td>\n",
              "      <td>6770.192500</td>\n",
              "      <td>36580.28216</td>\n",
              "      <td>119</td>\n",
              "    </tr>\n",
              "    <tr>\n",
              "      <th>southwest</th>\n",
              "      <td>1727.78500</td>\n",
              "      <td>8298.788392</td>\n",
              "      <td>7359.957000</td>\n",
              "      <td>36910.60803</td>\n",
              "      <td>132</td>\n",
              "    </tr>\n",
              "    <tr>\n",
              "      <th rowspan=\"4\" valign=\"top\">yes</th>\n",
              "      <th>northeast</th>\n",
              "      <td>14283.45940</td>\n",
              "      <td>28336.166921</td>\n",
              "      <td>22331.566800</td>\n",
              "      <td>58571.07448</td>\n",
              "      <td>25</td>\n",
              "    </tr>\n",
              "    <tr>\n",
              "      <th>northwest</th>\n",
              "      <td>14711.74380</td>\n",
              "      <td>29301.806828</td>\n",
              "      <td>27314.623825</td>\n",
              "      <td>55135.40209</td>\n",
              "      <td>28</td>\n",
              "    </tr>\n",
              "    <tr>\n",
              "      <th>southeast</th>\n",
              "      <td>16577.77950</td>\n",
              "      <td>33154.082700</td>\n",
              "      <td>35017.722850</td>\n",
              "      <td>63770.42801</td>\n",
              "      <td>32</td>\n",
              "    </tr>\n",
              "    <tr>\n",
              "      <th>southwest</th>\n",
              "      <td>16884.92400</td>\n",
              "      <td>32580.162551</td>\n",
              "      <td>34502.573000</td>\n",
              "      <td>48824.45000</td>\n",
              "      <td>20</td>\n",
              "    </tr>\n",
              "    <tr>\n",
              "      <th rowspan=\"8\" valign=\"top\">male</th>\n",
              "      <th rowspan=\"4\" valign=\"top\">no</th>\n",
              "      <th>northeast</th>\n",
              "      <td>1694.79640</td>\n",
              "      <td>8722.476945</td>\n",
              "      <td>8603.823400</td>\n",
              "      <td>32108.66282</td>\n",
              "      <td>103</td>\n",
              "    </tr>\n",
              "    <tr>\n",
              "      <th>northwest</th>\n",
              "      <td>1621.34020</td>\n",
              "      <td>8752.424324</td>\n",
              "      <td>6948.700800</td>\n",
              "      <td>30284.64294</td>\n",
              "      <td>107</td>\n",
              "    </tr>\n",
              "    <tr>\n",
              "      <th>southeast</th>\n",
              "      <td>1121.87390</td>\n",
              "      <td>7914.083848</td>\n",
              "      <td>6652.528800</td>\n",
              "      <td>27724.28875</td>\n",
              "      <td>115</td>\n",
              "    </tr>\n",
              "    <tr>\n",
              "      <th>southwest</th>\n",
              "      <td>1241.56500</td>\n",
              "      <td>7607.578283</td>\n",
              "      <td>6849.026000</td>\n",
              "      <td>27941.28758</td>\n",
              "      <td>109</td>\n",
              "    </tr>\n",
              "    <tr>\n",
              "      <th rowspan=\"4\" valign=\"top\">yes</th>\n",
              "      <th>northeast</th>\n",
              "      <td>12829.45510</td>\n",
              "      <td>30170.614212</td>\n",
              "      <td>34435.947000</td>\n",
              "      <td>48549.17835</td>\n",
              "      <td>30</td>\n",
              "    </tr>\n",
              "    <tr>\n",
              "      <th>northwest</th>\n",
              "      <td>15817.98570</td>\n",
              "      <td>29326.432777</td>\n",
              "      <td>24915.220850</td>\n",
              "      <td>60021.39897</td>\n",
              "      <td>21</td>\n",
              "    </tr>\n",
              "    <tr>\n",
              "      <th>southeast</th>\n",
              "      <td>17043.34140</td>\n",
              "      <td>36353.402136</td>\n",
              "      <td>38495.962750</td>\n",
              "      <td>62592.87309</td>\n",
              "      <td>46</td>\n",
              "    </tr>\n",
              "    <tr>\n",
              "      <th>southwest</th>\n",
              "      <td>15820.69900</td>\n",
              "      <td>30871.203410</td>\n",
              "      <td>34828.654000</td>\n",
              "      <td>44585.45587</td>\n",
              "      <td>27</td>\n",
              "    </tr>\n",
              "  </tbody>\n",
              "</table>\n",
              "</div>\n",
              "      <button class=\"colab-df-convert\" onclick=\"convertToInteractive('df-12fe579c-0711-4e43-b30a-822bbfddd94f')\"\n",
              "              title=\"Convert this dataframe to an interactive table.\"\n",
              "              style=\"display:none;\">\n",
              "        \n",
              "  <svg xmlns=\"http://www.w3.org/2000/svg\" height=\"24px\"viewBox=\"0 0 24 24\"\n",
              "       width=\"24px\">\n",
              "    <path d=\"M0 0h24v24H0V0z\" fill=\"none\"/>\n",
              "    <path d=\"M18.56 5.44l.94 2.06.94-2.06 2.06-.94-2.06-.94-.94-2.06-.94 2.06-2.06.94zm-11 1L8.5 8.5l.94-2.06 2.06-.94-2.06-.94L8.5 2.5l-.94 2.06-2.06.94zm10 10l.94 2.06.94-2.06 2.06-.94-2.06-.94-.94-2.06-.94 2.06-2.06.94z\"/><path d=\"M17.41 7.96l-1.37-1.37c-.4-.4-.92-.59-1.43-.59-.52 0-1.04.2-1.43.59L10.3 9.45l-7.72 7.72c-.78.78-.78 2.05 0 2.83L4 21.41c.39.39.9.59 1.41.59.51 0 1.02-.2 1.41-.59l7.78-7.78 2.81-2.81c.8-.78.8-2.07 0-2.86zM5.41 20L4 18.59l7.72-7.72 1.47 1.35L5.41 20z\"/>\n",
              "  </svg>\n",
              "      </button>\n",
              "      \n",
              "  <style>\n",
              "    .colab-df-container {\n",
              "      display:flex;\n",
              "      flex-wrap:wrap;\n",
              "      gap: 12px;\n",
              "    }\n",
              "\n",
              "    .colab-df-convert {\n",
              "      background-color: #E8F0FE;\n",
              "      border: none;\n",
              "      border-radius: 50%;\n",
              "      cursor: pointer;\n",
              "      display: none;\n",
              "      fill: #1967D2;\n",
              "      height: 32px;\n",
              "      padding: 0 0 0 0;\n",
              "      width: 32px;\n",
              "    }\n",
              "\n",
              "    .colab-df-convert:hover {\n",
              "      background-color: #E2EBFA;\n",
              "      box-shadow: 0px 1px 2px rgba(60, 64, 67, 0.3), 0px 1px 3px 1px rgba(60, 64, 67, 0.15);\n",
              "      fill: #174EA6;\n",
              "    }\n",
              "\n",
              "    [theme=dark] .colab-df-convert {\n",
              "      background-color: #3B4455;\n",
              "      fill: #D2E3FC;\n",
              "    }\n",
              "\n",
              "    [theme=dark] .colab-df-convert:hover {\n",
              "      background-color: #434B5C;\n",
              "      box-shadow: 0px 1px 3px 1px rgba(0, 0, 0, 0.15);\n",
              "      filter: drop-shadow(0px 1px 2px rgba(0, 0, 0, 0.3));\n",
              "      fill: #FFFFFF;\n",
              "    }\n",
              "  </style>\n",
              "\n",
              "      <script>\n",
              "        const buttonEl =\n",
              "          document.querySelector('#df-12fe579c-0711-4e43-b30a-822bbfddd94f button.colab-df-convert');\n",
              "        buttonEl.style.display =\n",
              "          google.colab.kernel.accessAllowed ? 'block' : 'none';\n",
              "\n",
              "        async function convertToInteractive(key) {\n",
              "          const element = document.querySelector('#df-12fe579c-0711-4e43-b30a-822bbfddd94f');\n",
              "          const dataTable =\n",
              "            await google.colab.kernel.invokeFunction('convertToInteractive',\n",
              "                                                     [key], {});\n",
              "          if (!dataTable) return;\n",
              "\n",
              "          const docLinkHtml = 'Like what you see? Visit the ' +\n",
              "            '<a target=\"_blank\" href=https://colab.research.google.com/notebooks/data_table.ipynb>data table notebook</a>'\n",
              "            + ' to learn more about interactive tables.';\n",
              "          element.innerHTML = '';\n",
              "          dataTable['output_type'] = 'display_data';\n",
              "          await google.colab.output.renderOutput(dataTable, element);\n",
              "          const docLink = document.createElement('div');\n",
              "          docLink.innerHTML = docLinkHtml;\n",
              "          element.appendChild(docLink);\n",
              "        }\n",
              "      </script>\n",
              "    </div>\n",
              "  </div>\n",
              "  "
            ]
          },
          "metadata": {},
          "execution_count": 22
        }
      ],
      "source": [
        "# Ver valores estatísticos de \"charges\" para cada as entradas de \"sex\", \"smoker\" e \"region\"\n",
        "df.groupby( [\"sex\", \"smoker\", \"region\"] )[\"charges\"].agg( ['min','mean','median','max', \"count\"] )"
      ]
    },
    {
      "cell_type": "markdown",
      "metadata": {
        "id": "HA-AEX-3UzFr"
      },
      "source": [
        "### 2.5.0 Correlação\n",
        "\n",
        "Para complementar a análise, será feito o plot de um heatmap a partir da matriz de correlação, entre as variáveis numéricas. Também é feito o plot do PairPlot, que permite ter uma visão ampla de como os atributos numéricos se relacionam entre si. A partir dos plots, é possivel verificar que:\n",
        "\n",
        "- A concentração de maiores `charges` para `bmi` entre 30 e 40.\n",
        "- A variável numérica com maior correlação à variável alvo é `age`, com 29%, seguido pela variável `bmi`, com 19%.\n",
        "- `children` não apresenta correlação relevante com o valor de `charges`."
      ]
    },
    {
      "cell_type": "markdown",
      "source": [
        "#### 2.5.1 Heatmap"
      ],
      "metadata": {
        "id": "q5zTPZ0lBikc"
      }
    },
    {
      "cell_type": "code",
      "execution_count": null,
      "metadata": {
        "colab": {
          "base_uri": "https://localhost:8080/",
          "height": 272
        },
        "id": "2ah9T4WuU1ZU",
        "outputId": "9da62414-0164-494f-8bcd-49b761d88ab5"
      },
      "outputs": [
        {
          "output_type": "display_data",
          "data": {
            "text/plain": [
              "<Figure size 432x288 with 2 Axes>"
            ],
            "image/png": "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\n"
          },
          "metadata": {}
        }
      ],
      "source": [
        "# Importar Seaborn\n",
        "import seaborn as sns\n",
        "\n",
        "# Criar uma matriz de correlação\n",
        "corr = df.corr( )\n",
        "\n",
        "# Plotar um heatmap a partir das correlações\n",
        "sns.heatmap( corr, cmap=\"YlGnBu\", fmt='.2f', annot=True )\n",
        "plt.show( )"
      ]
    },
    {
      "cell_type": "markdown",
      "source": [
        "#### 2.5.2 Pairplot"
      ],
      "metadata": {
        "id": "kt3c8ydHBoHd"
      }
    },
    {
      "cell_type": "code",
      "execution_count": null,
      "metadata": {
        "colab": {
          "base_uri": "https://localhost:8080/",
          "height": 741
        },
        "id": "Qh-rxgc6Qlh9",
        "outputId": "0953517c-e414-4340-f4f1-1abc30a3e32e"
      },
      "outputs": [
        {
          "output_type": "execute_result",
          "data": {
            "text/plain": [
              "<seaborn.axisgrid.PairGrid at 0x7f68d02985d0>"
            ]
          },
          "metadata": {},
          "execution_count": 24
        },
        {
          "output_type": "display_data",
          "data": {
            "text/plain": [
              "<Figure size 720x720 with 20 Axes>"
            ],
            "image/png": "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\n"
          },
          "metadata": {}
        }
      ],
      "source": [
        "# Criar pairplot\n",
        "sns.pairplot( df )"
      ]
    },
    {
      "cell_type": "markdown",
      "source": [
        "## 3.0 Preparação dos dados\n",
        "\n",
        "o Objetivo desta etapa é preparar e modelar os dados para se adequar ao modelo de machine learning que será implementado."
      ],
      "metadata": {
        "id": "OpyiIDqYU-VJ"
      }
    },
    {
      "cell_type": "markdown",
      "source": [
        "### 3.1.0 Tratar outliers\n",
        "\n",
        "Os outliers na coluna `charges` representam mais de 10% do dataset, o que torna necessario mantê-los. No entanto, é possível remover os valores acima de 50000, pois são valores raros e ainda mais distorcidos do restante das entradas."
      ],
      "metadata": {
        "id": "SV3hLEoLGRdd"
      }
    },
    {
      "cell_type": "code",
      "execution_count": null,
      "metadata": {
        "id": "bxyvdRjHUK_P"
      },
      "outputs": [],
      "source": [
        "# Criar uma copia do dataset\n",
        "df_copy = df.copy( )"
      ]
    },
    {
      "cell_type": "code",
      "execution_count": null,
      "metadata": {
        "id": "K_ZMwksyaIla"
      },
      "outputs": [],
      "source": [
        "# Retirar os outliers encontrados da variável `Charges`\n",
        "df_copy = df_copy[df_copy['charges'] < 50000]"
      ]
    },
    {
      "cell_type": "markdown",
      "source": [
        "### 3.2.0 Tratar variáveis categóricas\n",
        "\n",
        "O intuiro do tratamento das variáveis categóricas, é torna-las compatíveis com um formato adequado aos modelos de machine learning. \n",
        "\n",
        "Para isso, será aplicado a ferramenta de enconding para transformar os atributos categóricos em numéricos. As colunas tratadas são: `sex`, `smoke` e `region`.\n",
        "\n",
        "Sendo que, para as variáveis binárias (`sex` e `smoke`), serão atribuidos valores de 0 e 1, para cada entrada única. Já para a variável `region`, são criadas colunas dummies, que representam cada uma das entradas unícas desta feature."
      ],
      "metadata": {
        "id": "gKJC9AXTI5y1"
      }
    },
    {
      "cell_type": "code",
      "execution_count": null,
      "metadata": {
        "id": "KVxxarEJagG0"
      },
      "outputs": [],
      "source": [
        "# Aplicar Label Encoder para variáveis binárias\n",
        "for coluna in df_copy.columns:\n",
        "  if df_copy[coluna].nunique( ) <= 2:\n",
        "    le = LabelEncoder()\n",
        "    le.fit( df_copy[coluna] )\n",
        "    df_copy[coluna] = le.transform( df_copy[coluna] )\n",
        "\n",
        "# Aplicar dummies values para variável `region`\n",
        "df_copy = pd.get_dummies( df_copy, columns = ['region'] )"
      ]
    },
    {
      "cell_type": "markdown",
      "source": [
        "### 3.3.0 Separar dados de treino e validação\n",
        "\n",
        "Após tratar as variáveis e conforme necessário, é feito a divisão do dataset nas porções de treino e validação.\n"
      ],
      "metadata": {
        "id": "t-NrejTdI3yx"
      }
    },
    {
      "cell_type": "code",
      "execution_count": null,
      "metadata": {
        "id": "cUPnZ2oWaVu9"
      },
      "outputs": [],
      "source": [
        "# Selecionar matriz de variáveis\n",
        "X = df_copy.drop( 'charges', axis = 1 )\n",
        "\n",
        "# Selecionar vetor alvo\n",
        "y = pd.DataFrame( data=df_copy['charges'] )\n",
        "\n",
        "# Separar dados de treino e validaçao\n",
        "X_train, X_val, y_train, y_val = train_test_split( X, y, test_size = 0.15, shuffle=True )"
      ]
    },
    {
      "cell_type": "markdown",
      "source": [
        "### 3.4.0 Feature Scaling\n",
        "\n",
        "Para finalizar a etapa de tratamento e preparação dos dados para treinar os modelos de regressão, é feito a padronização das variáveis numéricas (`age`, `bmi`, `children`), presentes na matriz de variáveis.\n",
        "\n",
        "Importante ressaltar que a padronização foi realizada após a separação do dataset, para evitar vazamento de dados. O vazamento de dados pode causar vies, no momento do treinamento, e, consequentemente, prejudicar a performance e confiabilidade do modelo."
      ],
      "metadata": {
        "id": "AGnQqqEIJXox"
      }
    },
    {
      "cell_type": "code",
      "source": [
        "# Scaling our categorical features\n",
        "scaler = StandardScaler( )\n",
        "X_train[[\"age\", \"bmi\",'children']] = scaler.fit_transform( X_train[[\"age\", \"bmi\",'children']] )\n",
        "X_val[[\"age\", \"bmi\",'children']] = scaler.fit_transform( X_val[[\"age\", \"bmi\",'children']] )"
      ],
      "metadata": {
        "id": "HtZ3W1I9rjVZ"
      },
      "execution_count": null,
      "outputs": []
    },
    {
      "cell_type": "markdown",
      "source": [
        "## 4.0 Construção do Modelo de Regressão\n",
        "\n",
        "O objetivo desta etapa é testar e avaliar a implementação de diferentes modelos.\n",
        "\n",
        "Para a construção do modelo de regressão, que será utilizado no Sistema de Predição para Precificação de Seguro Saúde.\n",
        "\n",
        "Os modelos que serão treinados são:\n",
        "\n",
        "- `Linear Regression`: para este problema, é utilizado o modelo de regressão linear múltipla. Este modelo estatístico, examina o grau de associação entre um conjunto de variáveis ​​independentes e a variável alvo. Considerando que o valor alvo depende de N variáveis ​​independentes, o regressor ajusta a linha de regressão - que indica os valores previstos pelo modelo - em um espaço N dimensional.\n",
        "\n",
        "- `Polynomal Regression`: a regressão polinomial é outro caso especial de regressão linear. Na regressão linear o modelo tenta ajustar uma linha de regressão reta entre a variável dependente e independentes. Em cenários onde não existe relação linear entre o alvo e as variáveis preditoras, em vez de uma linha reta, uma curva é ajustada contra as variáveis. Isso é feito ajustando-se uma equação polinomial de grau N aos dados não lineares, que estabelece uma relação curvilínea entre as variáveis ​​dependentes e independentes."
      ],
      "metadata": {
        "id": "RLUgKS94VXf4"
      }
    },
    {
      "cell_type": "code",
      "source": [
        "# Modelo de Regressão Linear\n",
        "reg = LinearRegression( )\n",
        "reg.fit( X_train, y_train )\n",
        "reg_pred = reg.predict( X_val )"
      ],
      "metadata": {
        "id": "8DIBTcN9l_ys"
      },
      "execution_count": null,
      "outputs": []
    },
    {
      "cell_type": "code",
      "source": [
        "# Modelo de Regressão Polinomial\n",
        "poly = PolynomialFeatures( degree=3 )\n",
        "x_poly = poly.fit_transform( X_train )\n",
        "poly.fit( X_train, y_train )\n",
        "\n",
        "reg2 = LinearRegression( )\n",
        "reg2.fit( x_poly, y_train )\n",
        "poly_pred = reg2.predict( poly.fit_transform( X_val ) )"
      ],
      "metadata": {
        "id": "ve0BHr7JvJ6m"
      },
      "execution_count": null,
      "outputs": []
    },
    {
      "cell_type": "markdown",
      "source": [
        "## 5.0 Avaliação modelos\n",
        "\n",
        "O objetivo desta etapa é avaliar qual modelo teve melhor desempenho e melhor se adequa às necessidades do negócio."
      ],
      "metadata": {
        "id": "vX6fRJQxXQE3"
      }
    },
    {
      "cell_type": "markdown",
      "source": [
        "### 5.1 Avaliar métricas de desempenho do modelos\n",
        "\n",
        "Após estruturar os modelos de regressão, serão consideradas as métricas abaixo para avaliar seus desempenhos:\n",
        "\n",
        "- `R2_Score`: `R2` ou `R-squared` é uma boa medida para avaliar a adequação do modelo. O valor de `R2` situa-se entre 0 a 1 (0% a 100%). Um valor grande representa um ajuste melhor.\n",
        "\n",
        "- `Root Mean Square Error (RMSE)`: representa a proximidade os dados observados estão do valores encontrados no modelo de predição, representa em valores absolutos o quanto o modelo foi capaz de prever dos dados reais. Um menor valor de `RMSE` indica uma melhor sucesso nas predições do modelo.\n",
        "\n",
        "- `Mean absolute error (MAE)`: indica a magnitude média dos erros no conjunto de previsões, sem considerar sua direção. Ao analisar as amostras de teste, representa as diferenças absolutas entre a previsão e os valores reais, onde todas as diferenças individuais têm peso igual. Deve ser interpretado com atenção porque os erros positivos e negativos são anulados.\n",
        "\n",
        "A partir dos valores obtidos, pode-se ver que o modelo de `Regressão Polinomial` performou melhor, com um `R2-score` de `0.81`. Como também, um `RMSE` de `5353.93` e `MAE` de `3278.01`. Já o modelo de `Regressão Linear` alcançou um `R2-score` de `0.75`.\n",
        "\n",
        "O modelo polinomial, em contraste ao linear, ajusta uma curva ao conjunto de dados, o que aumenta a variância do modelo, reduzindo assim o erro residual. \n",
        "\n",
        "Além disso, notou-se que ao aumentar o grau da `Regressão Polinomial` de `n=2` para `n=3`, o `R2-score` aumentou do valor anterior de `0.80` para `0.81`. Porém, ao aumentar ainda mais o grau, houve uma queda na `R2-score` para `0.70`, quando grau `n=4`, e `0.52`, quando grau `n=5`. Assim, quando considerado grau `n=3` a `Regressão Polinomial` retorna uma boa adequação aos dados reais, para compor o Sistema de Predição para Precificação de Seguro Saúde."
      ],
      "metadata": {
        "id": "pj45-cODnw6O"
      }
    },
    {
      "cell_type": "code",
      "source": [
        "# Fazer DataFrame das métricas encontradas para cada modelo treinado\n",
        "scores = {'Model'    : ['LinearRegression'  ,\n",
        "                        'PolynomialFeatures'],\n",
        "          \n",
        "          'RMSE'     : [np.sqrt( mean_squared_error( y_val, reg_pred ) )  ,\n",
        "                        np.sqrt( mean_squared_error( y_val, poly_pred ) ) ],\n",
        "          \n",
        "          'MAE'      : [mean_absolute_error( y_val, reg_pred )  ,\n",
        "                        mean_absolute_error( y_val, poly_pred ) ],\n",
        "          \n",
        "          'R-squared': [r2_score( y_val, reg_pred )  ,\n",
        "                        r2_score( y_val, poly_pred ) ]}\n",
        "                        \n",
        "pd.DataFrame( scores )"
      ],
      "metadata": {
        "colab": {
          "base_uri": "https://localhost:8080/",
          "height": 112
        },
        "id": "eNhP0zzFpRmH",
        "outputId": "0610da8d-973f-4ff0-9c2f-cdb4fba5811f"
      },
      "execution_count": null,
      "outputs": [
        {
          "output_type": "execute_result",
          "data": {
            "text/plain": [
              "                Model         RMSE          MAE  R-squared\n",
              "0    LinearRegression  6152.818094  4385.187791   0.752532\n",
              "1  PolynomialFeatures  5353.935172  3278.012282   0.812622"
            ],
            "text/html": [
              "\n",
              "  <div id=\"df-6234619b-7d09-4629-beb8-39c0629a8776\">\n",
              "    <div class=\"colab-df-container\">\n",
              "      <div>\n",
              "<style scoped>\n",
              "    .dataframe tbody tr th:only-of-type {\n",
              "        vertical-align: middle;\n",
              "    }\n",
              "\n",
              "    .dataframe tbody tr th {\n",
              "        vertical-align: top;\n",
              "    }\n",
              "\n",
              "    .dataframe thead th {\n",
              "        text-align: right;\n",
              "    }\n",
              "</style>\n",
              "<table border=\"1\" class=\"dataframe\">\n",
              "  <thead>\n",
              "    <tr style=\"text-align: right;\">\n",
              "      <th></th>\n",
              "      <th>Model</th>\n",
              "      <th>RMSE</th>\n",
              "      <th>MAE</th>\n",
              "      <th>R-squared</th>\n",
              "    </tr>\n",
              "  </thead>\n",
              "  <tbody>\n",
              "    <tr>\n",
              "      <th>0</th>\n",
              "      <td>LinearRegression</td>\n",
              "      <td>6152.818094</td>\n",
              "      <td>4385.187791</td>\n",
              "      <td>0.752532</td>\n",
              "    </tr>\n",
              "    <tr>\n",
              "      <th>1</th>\n",
              "      <td>PolynomialFeatures</td>\n",
              "      <td>5353.935172</td>\n",
              "      <td>3278.012282</td>\n",
              "      <td>0.812622</td>\n",
              "    </tr>\n",
              "  </tbody>\n",
              "</table>\n",
              "</div>\n",
              "      <button class=\"colab-df-convert\" onclick=\"convertToInteractive('df-6234619b-7d09-4629-beb8-39c0629a8776')\"\n",
              "              title=\"Convert this dataframe to an interactive table.\"\n",
              "              style=\"display:none;\">\n",
              "        \n",
              "  <svg xmlns=\"http://www.w3.org/2000/svg\" height=\"24px\"viewBox=\"0 0 24 24\"\n",
              "       width=\"24px\">\n",
              "    <path d=\"M0 0h24v24H0V0z\" fill=\"none\"/>\n",
              "    <path d=\"M18.56 5.44l.94 2.06.94-2.06 2.06-.94-2.06-.94-.94-2.06-.94 2.06-2.06.94zm-11 1L8.5 8.5l.94-2.06 2.06-.94-2.06-.94L8.5 2.5l-.94 2.06-2.06.94zm10 10l.94 2.06.94-2.06 2.06-.94-2.06-.94-.94-2.06-.94 2.06-2.06.94z\"/><path d=\"M17.41 7.96l-1.37-1.37c-.4-.4-.92-.59-1.43-.59-.52 0-1.04.2-1.43.59L10.3 9.45l-7.72 7.72c-.78.78-.78 2.05 0 2.83L4 21.41c.39.39.9.59 1.41.59.51 0 1.02-.2 1.41-.59l7.78-7.78 2.81-2.81c.8-.78.8-2.07 0-2.86zM5.41 20L4 18.59l7.72-7.72 1.47 1.35L5.41 20z\"/>\n",
              "  </svg>\n",
              "      </button>\n",
              "      \n",
              "  <style>\n",
              "    .colab-df-container {\n",
              "      display:flex;\n",
              "      flex-wrap:wrap;\n",
              "      gap: 12px;\n",
              "    }\n",
              "\n",
              "    .colab-df-convert {\n",
              "      background-color: #E8F0FE;\n",
              "      border: none;\n",
              "      border-radius: 50%;\n",
              "      cursor: pointer;\n",
              "      display: none;\n",
              "      fill: #1967D2;\n",
              "      height: 32px;\n",
              "      padding: 0 0 0 0;\n",
              "      width: 32px;\n",
              "    }\n",
              "\n",
              "    .colab-df-convert:hover {\n",
              "      background-color: #E2EBFA;\n",
              "      box-shadow: 0px 1px 2px rgba(60, 64, 67, 0.3), 0px 1px 3px 1px rgba(60, 64, 67, 0.15);\n",
              "      fill: #174EA6;\n",
              "    }\n",
              "\n",
              "    [theme=dark] .colab-df-convert {\n",
              "      background-color: #3B4455;\n",
              "      fill: #D2E3FC;\n",
              "    }\n",
              "\n",
              "    [theme=dark] .colab-df-convert:hover {\n",
              "      background-color: #434B5C;\n",
              "      box-shadow: 0px 1px 3px 1px rgba(0, 0, 0, 0.15);\n",
              "      filter: drop-shadow(0px 1px 2px rgba(0, 0, 0, 0.3));\n",
              "      fill: #FFFFFF;\n",
              "    }\n",
              "  </style>\n",
              "\n",
              "      <script>\n",
              "        const buttonEl =\n",
              "          document.querySelector('#df-6234619b-7d09-4629-beb8-39c0629a8776 button.colab-df-convert');\n",
              "        buttonEl.style.display =\n",
              "          google.colab.kernel.accessAllowed ? 'block' : 'none';\n",
              "\n",
              "        async function convertToInteractive(key) {\n",
              "          const element = document.querySelector('#df-6234619b-7d09-4629-beb8-39c0629a8776');\n",
              "          const dataTable =\n",
              "            await google.colab.kernel.invokeFunction('convertToInteractive',\n",
              "                                                     [key], {});\n",
              "          if (!dataTable) return;\n",
              "\n",
              "          const docLinkHtml = 'Like what you see? Visit the ' +\n",
              "            '<a target=\"_blank\" href=https://colab.research.google.com/notebooks/data_table.ipynb>data table notebook</a>'\n",
              "            + ' to learn more about interactive tables.';\n",
              "          element.innerHTML = '';\n",
              "          dataTable['output_type'] = 'display_data';\n",
              "          await google.colab.output.renderOutput(dataTable, element);\n",
              "          const docLink = document.createElement('div');\n",
              "          docLink.innerHTML = docLinkHtml;\n",
              "          element.appendChild(docLink);\n",
              "        }\n",
              "      </script>\n",
              "    </div>\n",
              "  </div>\n",
              "  "
            ]
          },
          "metadata": {},
          "execution_count": 32
        }
      ]
    },
    {
      "cell_type": "markdown",
      "source": [
        "### 5.2 Previsões para o Conjunto de Teste\n",
        "\n",
        "Após escolhido o melhor modelo, o mesmo é treinado com os dados de teste, separados no início do projeto. Esses dados de teste são utilizados pois estão intactos, até então, e portanto, podem simular novos dados adicionados ao sistema de predição, sem vieses dos processamentos e treinamentos realizados anteriormente.\n",
        "\n",
        "Ao testar o modelo com esses dados obtive-se uma performance ainda melhor do modelo. Sendo, `RMSE` de `4600.51`, `MAE` de `2991.27` e `R2-score` de `0.87`."
      ],
      "metadata": {
        "id": "FS7WPYXTNTML"
      }
    },
    {
      "cell_type": "code",
      "source": [
        "test_clean = test.copy( )\n",
        "\n",
        "# Aplicar Label Encoder para variáveis binárias\n",
        "for coluna in test_clean.columns:\n",
        "  if test_clean[coluna].nunique( ) <= 2:\n",
        "    le = LabelEncoder( )\n",
        "    le.fit( test_clean[coluna] )\n",
        "    test_clean[coluna] = le.transform( test_clean[coluna] )\n",
        "\n",
        "# Aplicar dummies values para variável `region`\n",
        "test_clean = pd.get_dummies( test_clean, columns = ['region'] )\n",
        "\n",
        "# Scaling our categorical features\n",
        "test_clean[[\"age\", \"bmi\",'children']] = scaler.fit_transform( test_clean[[\"age\", \"bmi\",'children']] )\n",
        "\n",
        "# Selecionar matriz de variáveis\n",
        "X_test = test_clean.drop( 'charges', axis = 1 )\n",
        "\n",
        "# Selecionar vetor alvo\n",
        "y_test = pd.DataFrame( data=test_clean['charges'] )\n",
        "\n",
        "# fazer as previsões em cima dos dados de teste\n",
        "y_pred = reg2.predict( poly.fit_transform( X_test ) )\n",
        "\n",
        "print( 'RMSE:{}'.format( np.sqrt(mean_squared_error( y_test, y_pred ) ) ) )\n",
        "print( 'MAE:{}'.format( mean_absolute_error( y_test, y_pred ) ) )\n",
        "print( 'R-squared:{}'.format( r2_score( y_test, y_pred ) ) )"
      ],
      "metadata": {
        "colab": {
          "base_uri": "https://localhost:8080/"
        },
        "id": "p2nV5uQ6NYno",
        "outputId": "abe2a730-1aed-4b18-c5f0-ddd6f65a6da3"
      },
      "execution_count": null,
      "outputs": [
        {
          "output_type": "stream",
          "name": "stdout",
          "text": [
            "RMSE:4600.514947759433\n",
            "MAE:2991.2665674129353\n",
            "R-squared:0.8730001967543182\n"
          ]
        }
      ]
    },
    {
      "cell_type": "code",
      "source": [
        "# Ploting distribution for Random Forest Regressor\n",
        "fig, ax = plt.subplots( figsize=( 10,7 ) )\n",
        "plt.title( \"Distribuição y-pred e y-test (Polynomial Linear Regression)\" )\n",
        "sns.distplot( y_test, hist=False, ax=ax )\n",
        "sns.distplot( y_pred, hist=False, ax=ax )\n",
        "ax.legend( ['y - test', 'y - pred'] )\n",
        "plt.show( )"
      ],
      "metadata": {
        "colab": {
          "base_uri": "https://localhost:8080/",
          "height": 447
        },
        "id": "Fv216_Xb1bkI",
        "outputId": "3d3e5599-844c-4508-f197-fd2081bc3e35"
      },
      "execution_count": null,
      "outputs": [
        {
          "output_type": "display_data",
          "data": {
            "text/plain": [
              "<Figure size 720x504 with 1 Axes>"
            ],
            "image/png": "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\n"
          },
          "metadata": {}
        }
      ]
    },
    {
      "cell_type": "markdown",
      "source": [
        "## 6.0 Deploy\n",
        "\n",
        "Momento em que o cliente final tem acesso aos resultados do projeto.\n",
        "\n",
        "- Planejar a implementação\n",
        "\n",
        "- Planejar e monitorar manutenções\n",
        "\n",
        "- Produzir um relatório final/apresentação, apresentando os resultados encontrados\n",
        "\n",
        "- Rever o projeto. O que deu certo, o que poderia ser melhor, o que fazer a seguir."
      ],
      "metadata": {
        "id": "X-kVClMyX4dS"
      }
    },
    {
      "cell_type": "markdown",
      "source": [
        "## 7.0 Conclusão\n",
        "\n",
        "O cálculo dos serviços de seguro saúde no processo tradicional é uma tarefa complexa para as seguradoras. A atividade humana no processo pode, em algum momento, produzir resultados falhos ou imprecisos, assim como, quando os dados aumentam, o tempo necessário para o cálculo pelos manual aumenta. Em cenários como esses, a implementação de modelos de Machine Learning pode ser muito benéfica para a empresa. Neste artigo, foram usados os modelos de regressão linear e regressão polinomial para prever o custo do seguro de saúde, com base em valores de atributos específicos presentes no conjunto de dados. \n",
        "\n",
        "Os resultados obtidos estão apresentados anteriormente. Com `RMSE` de `4600.51`, `MAE` de `2991.26`, `R2-score` de `0.87`, a regressão polinomial foi a mais eficiente. Com isso, esse modelo pode ser incorporado pelas empresas para o cálculo das taxas a serem cobrados aos clientes, de forma rápida e confiável, economizando tempo e custos da empresa.\n",
        "\n",
        "Tal sistema, em um estágio posterior de seu ciclo de vida, pode ser implantado em plataformas de nuvem e, assim, quando os dados aumentarem ainda mais, serem integrados com recursos de computação de ponta para processamento mais rápido e em tempo real das informações."
      ],
      "metadata": {
        "id": "fW98cFvPKORI"
      }
    },
    {
      "cell_type": "markdown",
      "source": [
        "## 8.0 Referências\n",
        "\n",
        "[1] \"Diagnósticos sobre a Saúde Pública no Brasil\", Agenda Mais SUS, Nov/22, [Online]. Available: https://bit.ly/3Xihd9P\n",
        "\n",
        "[2] \"Global expenditure on health: Public spending on the rise?\", WHO annual report 2021, [Online]. Available: https://bit.ly/3gpgi6Y\n",
        "\n",
        "[3] P. P. Ferreira. \"Desafios do preço justo  no seguro saúde\", Nov/22, [Online]. Available: https://bit.ly/3AxHYND\n",
        "\n",
        "[4] \"Health Insurance Cost Prediction\", [Online]. Available: https://bit.ly/3ENyRuP\n",
        "\n",
        "[5] Panda S., Purkayastha B., Das D., Chakraborty M., Biswas S. K. \"Health Insurance Cost Prediction Using Regression Models\". International Conference on Machine Learning, Big Data, Cloud and Parallel Computing (COM-IT-CON), Andhra Pradesh, India, 2022, [Online]. Available: https://bit.ly/3gjUPfD\n",
        "\n",
        "\n"
      ],
      "metadata": {
        "id": "5fZjmU4Oag5f"
      }
    }
  ],
  "metadata": {
    "colab": {
      "provenance": [],
      "toc_visible": true,
      "authorship_tag": "ABX9TyMFSKizL461sWWw7WXAmz0D",
      "include_colab_link": true
    },
    "kernelspec": {
      "display_name": "Python 3",
      "name": "python3"
    },
    "language_info": {
      "name": "python"
    }
  },
  "nbformat": 4,
  "nbformat_minor": 0
}
